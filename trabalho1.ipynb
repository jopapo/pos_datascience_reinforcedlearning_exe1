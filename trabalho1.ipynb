{
 "cells": [
  {
   "cell_type": "code",
   "execution_count": null,
   "source": [],
   "outputs": [],
   "metadata": {}
  }
 ],
 "metadata": {
  "orig_nbformat": 4,
  "language_info": {
   "name": "python",
   "version": "3.7.3"
  },
  "kernelspec": {
   "name": "python3",
   "display_name": "Python 3.7.3 64-bit ('venv': virtualenv)"
  },
  "interpreter": {
   "hash": "4337733d7c4f8242ca10155413965bee5981b415db72db4cb080555abb5e32aa"
  }
 },
 "nbformat": 4,
 "nbformat_minor": 2
}