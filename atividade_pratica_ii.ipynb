{
 "cells": [
  {
   "cell_type": "markdown",
   "source": [
    "# Atividade Prática II - Treinamento e Validação de Modelos de RL\r\n",
    "\r\n",
    "**Aluno:** João Paulo Poffo\r\n",
    "\r\n",
    "**Disciplina:** Reinforcement Learning - Turma II\r\n",
    "\r\n",
    "**Data:** 21/08/2021\r\n",
    "\r\n",
    "\r\n",
    "\r\n",
    "Neste trabalho vamos aplicar `Gym`, `Stable-Baselines3` e `RL Baselines Zoo` para lidar com o treinamento e validação de problemas de aprendizado por reforço. Sua tarefa é:\r\n",
    "\r\n",
    "1. Selecionar um cenário da biblioteca `Gym` de sua preferência, desde que este cenário também seja contemplado pelos modelos disponibilizados na `rl baselines zoo`;\r\n",
    "2. Selecionar três algoritmos das biblioteca `Stable-baselines3` para resolver esse problema. Pesquise na documentação da biblioteca quais são os algoritmos mais adequados para o ambiente escolhido e justifique a sua escolha. \r\n",
    "3. Realize o treinamento de cada um dos três modelos ---você pode ajustar os parâmetros do modelos, se achar necessário--- e salve os modelos em disco.\r\n",
    "4. De posse dos modelos treinados e salvos, carregue-os e avalie-os por 10 episódios. Apresente os resultados médios e gere a curva de recompensa acumulada disponibilizada pelo `TensorBoard`.\r\n",
    "5. Compare os resultados dos modelos treinados com os resultados obtidos por modelo(s) existentes no `RL Baselines Zoo` para o cenário escolhido.\r\n",
    "6. Gere um vídeo do melhor modelo que você treinou e do modelo escolhido na `RL Baselines Zoo`. Verifique a documentação de cada biblioteca sobre a criação do vídeo e visualização em Notebooks.\r\n",
    "\r\n",
    "\r\n",
    "\r\n",
    "* **Data de entrega:** 04/09/2021\r\n",
    "* **Local de envio:** AVA.\r\n",
    "* **Tipo de documento:** Notebook (`.ipynb`).\r\n",
    "\r\n"
   ],
   "metadata": {}
  },
  {
   "cell_type": "markdown",
   "source": [
    "1. Preparação do ambiente"
   ],
   "metadata": {}
  },
  {
   "cell_type": "code",
   "execution_count": 1,
   "source": [
    "# Precisa instalar o swig pra windows pra funcionar o box2d-py (necessário para o atari - http://swig.org/Doc4.0/Windows.html#Windows)\r\n",
    "# Obs: Não adianta copiar o exe para o bin. Tem que adicionar a pasta do swig no path\r\n",
    "!pip install cmake\r\n",
    "\r\n",
    "!pip install gym[all]\r\n",
    "\r\n",
    "!pip install atari-py\r\n",
    "\r\n",
    "!pip install matplotlib"
   ],
   "outputs": [
    {
     "output_type": "stream",
     "name": "stdout",
     "text": [
      "Collecting cmake\n",
      "  Downloading cmake-3.21.2-py2.py3-none-win_amd64.whl (37.3 MB)\n",
      "Installing collected packages: cmake\n",
      "Successfully installed cmake-3.21.2\n",
      "Requirement already satisfied: gym[all] in .\\venv\\lib\\site-packages (0.19.0)\n",
      "Requirement already satisfied: numpy>=1.18.0 in .\\venv\\lib\\site-packages (from gym[all]) (1.21.2)\n",
      "Requirement already satisfied: cloudpickle<1.7.0,>=1.2.0 in .\\venv\\lib\\site-packages (from gym[all]) (1.6.0)\n",
      "Requirement already satisfied: scipy in .\\venv\\lib\\site-packages (from gym[all]) (1.7.1)\n",
      "Collecting mujoco-py<2.0,>=1.50\n",
      "  Using cached mujoco-py-1.50.1.68.tar.gz (120 kB)\n",
      "Requirement already satisfied: pyglet>=1.4.0 in .\\venv\\lib\\site-packages (from gym[all]) (1.5.19)\n",
      "Requirement already satisfied: box2d-py~=2.3.5 in .\\venv\\lib\\site-packages (from gym[all]) (2.3.8)\n",
      "Requirement already satisfied: imageio in .\\venv\\lib\\site-packages (from gym[all]) (2.9.0)\n",
      "Requirement already satisfied: opencv-python>=3. in .\\venv\\lib\\site-packages (from gym[all]) (4.5.3.56)\n",
      "Requirement already satisfied: atari-py==0.2.6 in .\\venv\\lib\\site-packages (from gym[all]) (0.2.6)\n",
      "Requirement already satisfied: six in .\\venv\\lib\\site-packages (from atari-py==0.2.6->gym[all]) (1.16.0)\n",
      "Requirement already satisfied: glfw>=1.4.0 in .\\venv\\lib\\site-packages (from mujoco-py<2.0,>=1.50->gym[all]) (2.1.0)\n",
      "Requirement already satisfied: Cython>=0.27.2 in .\\venv\\lib\\site-packages (from mujoco-py<2.0,>=1.50->gym[all]) (0.29.24)\n",
      "Requirement already satisfied: cffi>=1.10 in .\\venv\\lib\\site-packages (from mujoco-py<2.0,>=1.50->gym[all]) (1.14.6)\n",
      "Requirement already satisfied: lockfile>=0.12.2 in .\\venv\\lib\\site-packages (from mujoco-py<2.0,>=1.50->gym[all]) (0.12.2)\n",
      "Requirement already satisfied: pycparser in .\\venv\\lib\\site-packages (from cffi>=1.10->mujoco-py<2.0,>=1.50->gym[all]) (2.20)\n",
      "Requirement already satisfied: pillow in .\\venv\\lib\\site-packages (from imageio->gym[all]) (8.3.1)\n",
      "Building wheels for collected packages: mujoco-py\n",
      "  Building wheel for mujoco-py (setup.py): started\n",
      "  Building wheel for mujoco-py (setup.py): finished with status 'error'\n",
      "  Running setup.py clean for mujoco-py\n",
      "Failed to build mujoco-py\n",
      "Installing collected packages: mujoco-py\n",
      "    Running setup.py install for mujoco-py: started\n",
      "    Running setup.py install for mujoco-py: finished with status 'error'"
     ]
    },
    {
     "output_type": "stream",
     "name": "stderr",
     "text": [
      "  ERROR: Command errored out with exit status 1:\n",
      "   command: 'E:\\temp\\rl_exe1\\venv\\Scripts\\python.exe' -u -c 'import io, os, sys, setuptools, tokenize; sys.argv[0] = '\"'\"'C:\\\\Users\\\\joao.poffo\\\\AppData\\\\Local\\\\Temp\\\\pip-install-x3nxt3g4\\\\mujoco-py_8be4b0fc76e045b6b0ab2ff8713ac50f\\\\setup.py'\"'\"'; __file__='\"'\"'C:\\\\Users\\\\joao.poffo\\\\AppData\\\\Local\\\\Temp\\\\pip-install-x3nxt3g4\\\\mujoco-py_8be4b0fc76e045b6b0ab2ff8713ac50f\\\\setup.py'\"'\"';f = getattr(tokenize, '\"'\"'open'\"'\"', open)(__file__) if os.path.exists(__file__) else io.StringIO('\"'\"'from setuptools import setup; setup()'\"'\"');code = f.read().replace('\"'\"'\\r\\n'\"'\"', '\"'\"'\\n'\"'\"');f.close();exec(compile(code, __file__, '\"'\"'exec'\"'\"'))' bdist_wheel -d 'C:\\Users\\joao.poffo\\AppData\\Local\\Temp\\pip-wheel-p8mypnhp'\n",
      "       cwd: C:\\Users\\joao.poffo\\AppData\\Local\\Temp\\pip-install-x3nxt3g4\\mujoco-py_8be4b0fc76e045b6b0ab2ff8713ac50f\\\n",
      "  Complete output (54 lines):\n",
      "  running bdist_wheel\n",
      "  running build\n",
      "  \n",
      "  You appear to be missing MuJoCo.  We expected to find the file here: C:\\Users\\joao.poffo\\.mujoco\\mjpro150\n",
      "  \n",
      "  This package only provides python bindings, the library must be installed separately.\n",
      "  \n",
      "  Please follow the instructions on the README to install MuJoCo\n",
      "  \n",
      "      https://github.com/openai/mujoco-py#install-mujoco\n",
      "  \n",
      "  Which can be downloaded from the website\n",
      "  \n",
      "      https://www.roboti.us/index.html\n",
      "  \n",
      "  Traceback (most recent call last):\n",
      "    File \"<string>\", line 1, in <module>\n",
      "    File \"C:\\Users\\joao.poffo\\AppData\\Local\\Temp\\pip-install-x3nxt3g4\\mujoco-py_8be4b0fc76e045b6b0ab2ff8713ac50f\\setup.py\", line 44, in <module>\n",
      "      tests_require=read_requirements_file('requirements.dev.txt'),\n",
      "    File \"E:\\temp\\rl_exe1\\venv\\lib\\site-packages\\setuptools\\__init__.py\", line 153, in setup\n",
      "      return distutils.core.setup(**attrs)\n",
      "    File \"e:\\apps\\python37\\lib\\distutils\\core.py\", line 148, in setup\n",
      "      dist.run_commands()\n",
      "    File \"e:\\apps\\python37\\lib\\distutils\\dist.py\", line 966, in run_commands\n",
      "      self.run_command(cmd)\n",
      "    File \"e:\\apps\\python37\\lib\\distutils\\dist.py\", line 985, in run_command\n",
      "      cmd_obj.run()\n",
      "    File \"E:\\temp\\rl_exe1\\venv\\lib\\site-packages\\wheel\\bdist_wheel.py\", line 299, in run\n",
      "      self.run_command('build')\n",
      "    File \"e:\\apps\\python37\\lib\\distutils\\cmd.py\", line 313, in run_command\n",
      "      self.distribution.run_command(command)"
     ]
    },
    {
     "output_type": "stream",
     "name": "stdout",
     "text": [
      "\n"
     ]
    },
    {
     "output_type": "stream",
     "name": "stderr",
     "text": [
      "\n",
      "    File \"e:\\apps\\python37\\lib\\distutils\\dist.py\", line 985, in run_command\n",
      "      cmd_obj.run()\n",
      "    File \"C:\\Users\\joao.poffo\\AppData\\Local\\Temp\\pip-install-x3nxt3g4\\mujoco-py_8be4b0fc76e045b6b0ab2ff8713ac50f\\setup.py\", line 28, in run\n",
      "      import mujoco_py  # noqa: force build\n",
      "    File \"C:\\Users\\joao.poffo\\AppData\\Local\\Temp\\pip-install-x3nxt3g4\\mujoco-py_8be4b0fc76e045b6b0ab2ff8713ac50f\\mujoco_py\\__init__.py\", line 3, in <module>\n",
      "      from mujoco_py.builder import cymj, ignore_mujoco_warnings, functions, MujocoException\n",
      "    File \"C:\\Users\\joao.poffo\\AppData\\Local\\Temp\\pip-install-x3nxt3g4\\mujoco-py_8be4b0fc76e045b6b0ab2ff8713ac50f\\mujoco_py\\builder.py\", line 502, in <module>\n",
      "      mjpro_path, key_path = discover_mujoco()\n",
      "    File \"C:\\Users\\joao.poffo\\AppData\\Local\\Temp\\pip-install-x3nxt3g4\\mujoco-py_8be4b0fc76e045b6b0ab2ff8713ac50f\\mujoco_py\\utils.py\", line 93, in discover_mujoco\n",
      "      raise Exception(message)\n",
      "  Exception:\n",
      "  You appear to be missing MuJoCo.  We expected to find the file here: C:\\Users\\joao.poffo\\.mujoco\\mjpro150\n",
      "  \n",
      "  This package only provides python bindings, the library must be installed separately.\n",
      "  \n",
      "  Please follow the instructions on the README to install MuJoCo\n",
      "  \n",
      "      https://github.com/openai/mujoco-py#install-mujoco\n",
      "  \n",
      "  Which can be downloaded from the website\n",
      "  \n",
      "      https://www.roboti.us/index.html\n",
      "  \n",
      "  ----------------------------------------\n",
      "  ERROR: Failed building wheel for mujoco-py\n",
      "    ERROR: Command errored out with exit status 1:\n",
      "     command: 'E:\\temp\\rl_exe1\\venv\\Scripts\\python.exe' -u -c 'import io, os, sys, setuptools, tokenize; sys.argv[0] = '\"'\"'C:\\\\Users\\\\joao.poffo\\\\AppData\\\\Local\\\\Temp\\\\pip-install-x3nxt3g4\\\\mujoco-py_8be4b0fc76e045b6b0ab2ff8713ac50f\\\\setup.py'\"'\"'; __file__='\"'\"'C:\\\\Users\\\\joao.poffo\\\\AppData\\\\Local\\\\Temp\\\\pip-install-x3nxt3g4\\\\mujoco-py_8be4b0fc76e045b6b0ab2ff8713ac50f\\\\setup.py'\"'\"';f = getattr(tokenize, '\"'\"'open'\"'\"', open)(__file__) if os.path.exists(__file__) else io.StringIO('\"'\"'from setuptools import setup; setup()'\"'\"');code = f.read().replace('\"'\"'\\r\\n'\"'\"', '\"'\"'\\n'\"'\"');f.close();exec(compile(code, __file__, '\"'\"'exec'\"'\"'))' install --record 'C:\\Users\\joao.poffo\\AppData\\Local\\Temp\\pip-record-djuvkm9d\\install-record.txt' --single-version-externally-managed --compile --install-headers 'E:\\temp\\rl_exe1\\venv\\include\\site\\python3.7\\mujoco-py'\n",
      "         cwd: C:\\Users\\joao.poffo\\AppData\\Local\\Temp\\pip-install-x3nxt3g4\\mujoco-py_8be4b0fc76e045b6b0ab2ff8713ac50f\\\n",
      "    Complete output (56 lines):\n",
      "    running install\n",
      "    running build\n",
      "    \n",
      "    You appear to be missing MuJoCo.  We expected to find the file here: C:\\Users\\joao.poffo\\.mujoco\\mjpro150\n",
      "    \n",
      "    This package only provides python bindings, the library must be installed separately.\n",
      "    \n",
      "    Please follow the instructions on the README to install MuJoCo\n",
      "    \n",
      "        https://github.com/openai/mujoco-py#install-mujoco\n",
      "    \n",
      "    Which can be downloaded from the website\n",
      "    \n",
      "        https://www.roboti.us/index.html\n",
      "    \n",
      "    Traceback (most recent call last):\n",
      "      File \"<string>\", line 1, in <module>\n",
      "      File \"C:\\Users\\joao.poffo\\AppData\\Local\\Temp\\pip-install-x3nxt3g4\\mujoco-py_8be4b0fc76e045b6b0ab2ff8713ac50f\\setup.py\", line 44, in <module>\n",
      "        tests_require=read_requirements_file('requirements.dev.txt'),\n",
      "      File \"E:\\temp\\rl_exe1\\venv\\lib\\site-packages\\setuptools\\__init__.py\", line 153, in setup\n",
      "        return distutils.core.setup(**attrs)\n",
      "      File \"e:\\apps\\python37\\lib\\distutils\\core.py\", line 148, in setup\n",
      "        dist.run_commands()\n",
      "      File \"e:\\apps\\python37\\lib\\distutils\\dist.py\", line 966, in run_commands\n",
      "        self.run_command(cmd)\n",
      "      File \"e:\\apps\\python37\\lib\\distutils\\dist.py\", line 985, in run_command\n",
      "        cmd_obj.run()\n",
      "      File \"E:\\temp\\rl_exe1\\venv\\lib\\site-packages\\setuptools\\command\\install.py\", line 61, in run\n",
      "        return orig.install.run(self)\n",
      "      File \"e:\\apps\\python37\\lib\\distutils\\command\\install.py\", line 545, in run\n",
      "        self.run_command('build')\n",
      "      File \"e:\\apps\\python37\\lib\\distutils\\cmd.py\", line 313, in run_command\n",
      "        self.distribution.run_command(command)\n",
      "      File \"e:\\apps\\python37\\lib\\distutils\\dist.py\", line 985, in run_command\n",
      "        cmd_obj.run()\n",
      "      File \"C:\\Users\\joao.poffo\\AppData\\Local\\Temp\\pip-install-x3nxt3g4\\mujoco-py_8be4b0fc76e045b6b0ab2ff8713ac50f\\setup.py\", line 28, in run\n",
      "        import mujoco_py  # noqa: force build\n",
      "      File \"C:\\Users\\joao.poffo\\AppData\\Local\\Temp\\pip-install-x3nxt3g4\\mujoco-py_8be4b0fc76e045b6b0ab2ff8713ac50f\\mujoco_py\\__init__.py\", line 3, in <module>\n",
      "        from mujoco_py.builder import cymj, ignore_mujoco_warnings, functions, MujocoException\n",
      "      File \"C:\\Users\\joao.poffo\\AppData\\Local\\Temp\\pip-install-x3nxt3g4\\mujoco-py_8be4b0fc76e045b6b0ab2ff8713ac50f\\mujoco_py\\builder.py\", line 502, in <module>\n",
      "        mjpro_path, key_path = discover_mujoco()\n",
      "      File \"C:\\Users\\joao.poffo\\AppData\\Local\\Temp\\pip-install-x3nxt3g4\\mujoco-py_8be4b0fc76e045b6b0ab2ff8713ac50f\\mujoco_py\\utils.py\", line 93, in discover_mujoco\n",
      "        raise Exception(message)\n",
      "    Exception:\n",
      "    You appear to be missing MuJoCo.  We expected to find the file here: C:\\Users\\joao.poffo\\.mujoco\\mjpro150\n",
      "    \n",
      "    This package only provides python bindings, the library must be installed separately.\n",
      "    \n",
      "    Please follow the instructions on the README to install MuJoCo\n",
      "    \n",
      "        https://github.com/openai/mujoco-py#install-mujoco\n",
      "    \n",
      "    Which can be downloaded from the website\n",
      "    \n",
      "        https://www.roboti.us/index.html\n",
      "    \n",
      "    ----------------------------------------\n",
      "ERROR: Command errored out with exit status 1: 'E:\\temp\\rl_exe1\\venv\\Scripts\\python.exe' -u -c 'import io, os, sys, setuptools, tokenize; sys.argv[0] = '\"'\"'C:\\\\Users\\\\joao.poffo\\\\AppData\\\\Local\\\\Temp\\\\pip-install-x3nxt3g4\\\\mujoco-py_8be4b0fc76e045b6b0ab2ff8713ac50f\\\\setup.py'\"'\"'; __file__='\"'\"'C:\\\\Users\\\\joao.poffo\\\\AppData\\\\Local\\\\Temp\\\\pip-install-x3nxt3g4\\\\mujoco-py_8be4b0fc76e045b6b0ab2ff8713ac50f\\\\setup.py'\"'\"';f = getattr(tokenize, '\"'\"'open'\"'\"', open)(__file__) if os.path.exists(__file__) else io.StringIO('\"'\"'from setuptools import setup; setup()'\"'\"');code = f.read().replace('\"'\"'\\r\\n'\"'\"', '\"'\"'\\n'\"'\"');f.close();exec(compile(code, __file__, '\"'\"'exec'\"'\"'))' install --record 'C:\\Users\\joao.poffo\\AppData\\Local\\Temp\\pip-record-djuvkm9d\\install-record.txt' --single-version-externally-managed --compile --install-headers 'E:\\temp\\rl_exe1\\venv\\include\\site\\python3.7\\mujoco-py' Check the logs for full command output.\n"
     ]
    },
    {
     "output_type": "stream",
     "name": "stdout",
     "text": [
      "Requirement already satisfied: atari-py in .\\venv\\lib\\site-packages (0.2.6)\n",
      "Requirement already satisfied: six in .\\venv\\lib\\site-packages (from atari-py) (1.16.0)\n",
      "Requirement already satisfied: numpy in .\\venv\\lib\\site-packages (from atari-py) (1.21.2)\n"
     ]
    }
   ],
   "metadata": {}
  },
  {
   "cell_type": "markdown",
   "source": [
    "2. Baixando os Roms do Atari para teste"
   ],
   "metadata": {}
  },
  {
   "cell_type": "code",
   "execution_count": 2,
   "source": [
    "#Instala o pacote para fazer downloads em Python\r\n",
    "!pip install wget\r\n",
    "import wget\r\n",
    "import os\r\n",
    "\r\n",
    "# Só baixa a primeira vez (Se baixar, tem que descompactar)\r\n",
    "if not os.path.isdir('Roms'):\r\n",
    "\r\n",
    "  #função auxiliar p/ apresentar a barra de progresso de download\r\n",
    "  def bar_progress(current, total, width=80):\r\n",
    "    progress_message = 'Baixando: %d%% (%d / %d) bytes' % (current / total * 100, current, total)\r\n",
    "    print(progress_message, end='\\r')\r\n",
    "\r\n",
    "  #baixa o arquivo com as ROMS a partir da url\r\n",
    "  wget.download('http://www.atarimania.com/roms/Roms.rar', out='Roms.rar', bar=bar_progress)\r\n",
    "\r\n",
    "  #wget.download('https://github.com/openai/atari-py/archive/refs/heads/master.zip', out='atari-py.zip', bar=bar_progress)"
   ],
   "outputs": [
    {
     "output_type": "stream",
     "name": "stdout",
     "text": [
      "Collecting wget\n",
      "  Downloading wget-3.2.zip (10 kB)\n",
      "Building wheels for collected packages: wget\n",
      "  Building wheel for wget (setup.py): started\n",
      "  Building wheel for wget (setup.py): finished with status 'done'\n",
      "  Created wheel for wget: filename=wget-3.2-py3-none-any.whl size=9672 sha256=fb8a5fe418e99f113c5e7fbbe19306e860b7e6bd9f5c9b73b4d1baca0a01b40f\n",
      "  Stored in directory: c:\\users\\joao.poffo\\appdata\\local\\pip\\cache\\wheels\\a1\\b6\\7c\\0e63e34eb06634181c63adacca38b79ff8f35c37e3c13e3c02\n",
      "Successfully built wget\n",
      "Installing collected packages: wget\n",
      "Successfully installed wget-3.2\n"
     ]
    }
   ],
   "metadata": {}
  },
  {
   "cell_type": "markdown",
   "source": [
    "3. Importa as Roms"
   ],
   "metadata": {}
  },
  {
   "cell_type": "code",
   "execution_count": 6,
   "source": [
    "!python -m atari_py.import_roms 'Roms/ROMS/'"
   ],
   "outputs": [],
   "metadata": {}
  },
  {
   "cell_type": "markdown",
   "source": [
    "4. Testando o ambiente com o cenário selecionado (SpaceInvaders)"
   ],
   "metadata": {}
  },
  {
   "cell_type": "code",
   "execution_count": 15,
   "source": [
    "# Função para salvar a animação como gif (daqui: https://gist.github.com/botforge/64cbb71780e6208172bbf03cd9293553)\r\n",
    "\r\n",
    "from matplotlib import animation\r\n",
    "import matplotlib.pyplot as plt\r\n",
    "\r\n",
    "def save_frames_as_gif(frames, path='./', filename='gym_animation.gif'):\r\n",
    "\r\n",
    "    #Mess with this to change frame size\r\n",
    "    plt.figure(figsize=(frames[0].shape[1] / 72.0, frames[0].shape[0] / 72.0), dpi=72)\r\n",
    "\r\n",
    "    patch = plt.imshow(frames[0])\r\n",
    "    plt.axis('off')\r\n",
    "\r\n",
    "    def animate(i):\r\n",
    "        patch.set_data(frames[i])\r\n",
    "\r\n",
    "    anim = animation.FuncAnimation(plt.gcf(), animate, frames = len(frames), interval=50)\r\n",
    "    anim.save(path + filename, writer='imagemagick', fps=60)"
   ],
   "outputs": [],
   "metadata": {}
  },
  {
   "cell_type": "code",
   "execution_count": 17,
   "source": [
    "#importa a biblioteca gym\r\n",
    "import gym\r\n",
    "import time\r\n",
    "\r\n",
    "scenario = 'SpaceInvaders-v4'\r\n",
    "env = gym.make(scenario)\r\n",
    "frames = []\r\n",
    "\r\n",
    "observation = env.reset()\r\n",
    "#define a quantidade de passos de tempo\r\n",
    "for _ in range(1000):\r\n",
    "  #desenha a visualização do ambiente  \r\n",
    "  #env.render()\r\n",
    "  rgb_observation = env.render(mode = 'rgb_array') \r\n",
    "  frames.append(rgb_observation)\r\n",
    "  \r\n",
    "  #toma uma ação de forma aleatória\r\n",
    "  action = env.action_space.sample()\r\n",
    "  #observa o ambiente com a base na ação executada\r\n",
    "  observation, reward, done, info = env.step(action)\r\n",
    "  #adiciona um atraso na execução para melhorar a visualização\r\n",
    "  \r\n",
    "  #time.sleep(0.03)\r\n",
    "\r\n",
    "  #verifica se o agente completou a tarefa\r\n",
    "  if done:\r\n",
    "    #reinicia a simulação\r\n",
    "    observation = env.reset()\r\n",
    "#fecha a visualização\r\n",
    "env.close()\r\n",
    "\r\n",
    "save_frames_as_gif(frames, 'images/', 'spaceinvaders-sample.gif')"
   ],
   "outputs": [
    {
     "output_type": "stream",
     "name": "stderr",
     "text": [
      "MovieWriter imagemagick unavailable; using Pillow instead.\n"
     ]
    },
    {
     "output_type": "display_data",
     "data": {
      "text/plain": [
       "<Figure size 160x210 with 1 Axes>"
      ],
      "image/svg+xml": "<?xml version=\"1.0\" encoding=\"utf-8\" standalone=\"no\"?>\r\n<!DOCTYPE svg PUBLIC \"-//W3C//DTD SVG 1.1//EN\"\r\n  \"http://www.w3.org/Graphics/SVG/1.1/DTD/svg11.dtd\">\r\n<svg height=\"172.95pt\" version=\"1.1\" viewBox=\"0 0 135.2 172.95\" width=\"135.2pt\" xmlns=\"http://www.w3.org/2000/svg\" xmlns:xlink=\"http://www.w3.org/1999/xlink\">\r\n <metadata>\r\n  <rdf:RDF xmlns:cc=\"http://creativecommons.org/ns#\" xmlns:dc=\"http://purl.org/dc/elements/1.1/\" xmlns:rdf=\"http://www.w3.org/1999/02/22-rdf-syntax-ns#\">\r\n   <cc:Work>\r\n    <dc:type rdf:resource=\"http://purl.org/dc/dcmitype/StillImage\"/>\r\n    <dc:date>2021-08-29T23:29:12.453136</dc:date>\r\n    <dc:format>image/svg+xml</dc:format>\r\n    <dc:creator>\r\n     <cc:Agent>\r\n      <dc:title>Matplotlib v3.4.3, https://matplotlib.org/</dc:title>\r\n     </cc:Agent>\r\n    </dc:creator>\r\n   </cc:Work>\r\n  </rdf:RDF>\r\n </metadata>\r\n <defs>\r\n  <style type=\"text/css\">*{stroke-linecap:butt;stroke-linejoin:round;}</style>\r\n </defs>\r\n <g id=\"figure_1\">\r\n  <g id=\"patch_1\">\r\n   <path d=\"M 0 172.95 \r\nL 135.2 172.95 \r\nL 135.2 0 \r\nL 0 0 \r\nz\r\n\" style=\"fill:none;\"/>\r\n  </g>\r\n  <g id=\"axes_1\">\r\n   <g clip-path=\"url(#p4366129675)\">\r\n    <image height=\"159\" id=\"image3d0bb134e0\" transform=\"scale(1 -1)translate(0 -159)\" width=\"121\" x=\"7.2\" xlink:href=\"data:image/png;base64,\r\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\" y=\"-6.75\"/>\r\n   </g>\r\n  </g>\r\n </g>\r\n <defs>\r\n  <clipPath id=\"p4366129675\">\r\n   <rect height=\"158.55\" width=\"120.8\" x=\"7.2\" y=\"7.2\"/>\r\n  </clipPath>\r\n </defs>\r\n</svg>\r\n",
      "image/png": "[encoded data removed]"
     },
     "metadata": {
      "needs_background": "light"
     }
    }
   ],
   "metadata": {}
  },
  {
   "cell_type": "markdown",
   "source": [
    "![Exemplo do jogo Space Invaders](images/spaceinvaders-sample.gif)"
   ],
   "metadata": {}
  },
  {
   "cell_type": "markdown",
   "source": [
    "De acordo com a documentação do stable baselines 3, o space invaders possui os algoritmos A2C, PPO, DQN e QT-DQN.\r\n",
    "\r\n",
    "Selecionei A2C, PPO e DQN pois são contemplados também no zoo."
   ],
   "metadata": {}
  },
  {
   "cell_type": "code",
   "execution_count": 12,
   "source": [
    "%%time\r\n",
    "\r\n",
    "from stable_baselines3 import PPO, A2C, DQN\r\n",
    "\r\n",
    "model_ppo = PPO('MlpPolicy', 'SpaceInvaders-v4').learn(10000)\r\n",
    "model_ppo.save('models/spaceinvaders-ppo')\r\n",
    "\r\n",
    "model_a2c = A2C('MlpPolicy', 'SpaceInvaders-v4').learn(10000)\r\n",
    "model_a2c.save('models/spaceinvaders-a2c')\r\n",
    "\r\n",
    "# Precisei diminuir o Buffer (1M para 50k) pra caber na memória da minha máquina\r\n",
    "model_dqn = DQN('MlpPolicy', 'SpaceInvaders-v4', optimize_memory_usage=True, buffer_size=50000).learn(10000)\r\n",
    "model_dqn.save('models/spaceinvaders-dqn')"
   ],
   "outputs": [
    {
     "output_type": "stream",
     "name": "stdout",
     "text": [
      "Wall time: 28.1 s\n"
     ]
    }
   ],
   "metadata": {}
  },
  {
   "cell_type": "code",
   "execution_count": 28,
   "source": [
    "# Baixando o código do Stable Baselines3\r\n",
    "if not os.path.isdir('rl-baselines3-zoo'):\r\n",
    "    !git clone https://github.com/DLR-RM/rl-baselines3-zoo.git\r\n",
    "\r\n",
    "#Necessário para o baselines stables se rodar local (Mas optei por usar containers)\r\n",
    "#!pip install -r ./requirements.txt\r\n",
    "\r\n",
    "# Seta diretório raiz no baselines3 para os treinos\r\n",
    "%cd rl-baselines3-zoo"
   ],
   "outputs": [
    {
     "output_type": "stream",
     "name": "stdout",
     "text": [
      "e:\\temp\\rl_exe1\\rl-baselines3-zoo\n"
     ]
    }
   ],
   "metadata": {}
  },
  {
   "cell_type": "code",
   "execution_count": 32,
   "source": [
    "def run_script(algo, eval_freq=10000, eval_episodes=10, eval_envs=1):\r\n",
    "    # Não funcionou chamando o script do repo... pq no windows não respeita comandos bash por algum motivo. Fallback pro que o script faz com o docker.\r\n",
    "    #!./scripts/run_docker_cpu.sh python train.py --algo a2c --env SpaceInvaders-v4\r\n",
    "    !docker run -t --rm --network host --ipc=host --mount src=\"%cd%\",target=/root/code/rl_zoo,type=bind stablebaselines/rl-baselines3-zoo-cpu:latest bash -c \"cd /root/code/rl_zoo/ && python train.py --algo {algo} --env SpaceInvaders-v4 --tensorboard-log=tensorboard-logs --eval-freq {eval_freq} --eval-episodes {eval_episodes} --n-eval-envs {eval_envs}\"\r\n",
    "\r\n",
    "run_script(\"a2c\", eval_freq=500)"
   ],
   "outputs": [
    {
     "output_type": "stream",
     "name": "stdout",
     "text": [
      "^C\n"
     ]
    }
   ],
   "metadata": {}
  },
  {
   "cell_type": "code",
   "execution_count": 33,
   "source": [
    "# Treinando PPO\r\n",
    "#!docker run -t --rm --network host --ipc=host --mount src=\"%cd%\",target=/root/code/rl_zoo,type=bind stablebaselines/rl-baselines3-zoo-cpu:latest bash -c \"cd /root/code/rl_zoo/ && python train.py --algo ppo --env SpaceInvaders-v4\"\r\n",
    "run_script(\"ppo\")"
   ],
   "outputs": [],
   "metadata": {}
  },
  {
   "cell_type": "code",
   "execution_count": null,
   "source": [
    "# Treinando DQN\r\n",
    "#!docker run -t --rm --network host --ipc=host --mount src=\"%cd%\",target=/root/code/rl_zoo,type=bind stablebaselines/rl-baselines3-zoo-cpu:latest bash -c \"cd /root/code/rl_zoo/ && python train.py --algo dqn --env SpaceInvaders-v4\"\r\n",
    "run_script(\"dqn\")\r\n"
   ],
   "outputs": [],
   "metadata": {}
  }
 ],
 "metadata": {
  "kernelspec": {
   "name": "python3",
   "display_name": "Python 3.7.9 64-bit ('venv': venv)"
  },
  "language_info": {
   "codemirror_mode": {
    "name": "ipython",
    "version": 3
   },
   "file_extension": ".py",
   "mimetype": "text/x-python",
   "name": "python",
   "nbconvert_exporter": "python",
   "pygments_lexer": "ipython3",
   "version": "3.7.9"
  },
  "interpreter": {
   "hash": "4337733d7c4f8242ca10155413965bee5981b415db72db4cb080555abb5e32aa"
  }
 },
 "nbformat": 4,
 "nbformat_minor": 4
}