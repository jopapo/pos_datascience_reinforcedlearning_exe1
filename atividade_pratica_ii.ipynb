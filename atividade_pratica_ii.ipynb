{
 "cells": [
  {
   "cell_type": "markdown",
   "source": [
    "# Atividade Prática II - Treinamento e Validação de Modelos de RL\r\n",
    "\r\n",
    "**Aluno:** João Paulo Poffo\r\n",
    "\r\n",
    "**Disciplina:** Reinforcement Learning - Turma II\r\n",
    "\r\n",
    "**Data:** 21/08/2021\r\n",
    "\r\n",
    "\r\n",
    "\r\n",
    "Neste trabalho vamos aplicar `Gym`, `Stable-Baselines3` e `RL Baselines Zoo` para lidar com o treinamento e validação de problemas de aprendizado por reforço. Sua tarefa é:\r\n",
    "\r\n",
    "1. Selecionar um cenário da biblioteca `Gym` de sua preferência, desde que este cenário também seja contemplado pelos modelos disponibilizados na `rl baselines zoo`;\r\n",
    "2. Selecionar três algoritmos das biblioteca `Stable-baselines3` para resolver esse problema. Pesquise na documentação da biblioteca quais são os algoritmos mais adequados para o ambiente escolhido e justifique a sua escolha. \r\n",
    "3. Realize o treinamento de cada um dos três modelos ---você pode ajustar os parâmetros do modelos, se achar necessário--- e salve os modelos em disco.\r\n",
    "4. De posse dos modelos treinados e salvos, carregue-os e avalie-os por 10 episódios. Apresente os resultados médios e gere a curva de recompensa acumulada disponibilizada pelo `TensorBoard`.\r\n",
    "5. Compare os resultados dos modelos treinados com os resultados obtidos por modelo(s) existentes no `RL Baselines Zoo` para o cenário escolhido.\r\n",
    "6. Gere um vídeo do melhor modelo que você treinou e do modelo escolhido na `RL Baselines Zoo`. Verifique a documentação de cada biblioteca sobre a criação do vídeo e visualização em Notebooks.\r\n",
    "\r\n",
    "\r\n",
    "\r\n",
    "* **Data de entrega:** 04/09/2021\r\n",
    "* **Local de envio:** AVA.\r\n",
    "* **Tipo de documento:** Notebook (`.ipynb`).\r\n",
    "\r\n"
   ],
   "metadata": {}
  },
  {
   "cell_type": "markdown",
   "source": [
    "1. Preparação do ambiente"
   ],
   "metadata": {}
  },
  {
   "cell_type": "code",
   "execution_count": 1,
   "source": [
    "# Precisa instalar o swig pra windows pra funcionar o box2d-py (necessário para o atari - http://swig.org/Doc4.0/Windows.html#Windows)\r\n",
    "# Obs: Não adianta copiar o exe para o bin. Tem que adicionar a pasta do swig no path\r\n",
    "!pip install cmake\r\n",
    "\r\n",
    "!pip install gym[all]\r\n",
    "\r\n",
    "!pip install atari-py\r\n",
    "\r\n",
    "!pip install matplotlib"
   ],
   "outputs": [
    {
     "output_type": "stream",
     "name": "stdout",
     "text": [
      "Collecting cmake\n",
      "  Downloading cmake-3.21.2-py2.py3-none-win_amd64.whl (37.3 MB)\n",
      "Installing collected packages: cmake\n",
      "Successfully installed cmake-3.21.2\n",
      "Requirement already satisfied: gym[all] in .\\venv\\lib\\site-packages (0.19.0)\n",
      "Requirement already satisfied: numpy>=1.18.0 in .\\venv\\lib\\site-packages (from gym[all]) (1.21.2)\n",
      "Requirement already satisfied: cloudpickle<1.7.0,>=1.2.0 in .\\venv\\lib\\site-packages (from gym[all]) (1.6.0)\n",
      "Requirement already satisfied: scipy in .\\venv\\lib\\site-packages (from gym[all]) (1.7.1)\n",
      "Collecting mujoco-py<2.0,>=1.50\n",
      "  Using cached mujoco-py-1.50.1.68.tar.gz (120 kB)\n",
      "Requirement already satisfied: pyglet>=1.4.0 in .\\venv\\lib\\site-packages (from gym[all]) (1.5.19)\n",
      "Requirement already satisfied: box2d-py~=2.3.5 in .\\venv\\lib\\site-packages (from gym[all]) (2.3.8)\n",
      "Requirement already satisfied: imageio in .\\venv\\lib\\site-packages (from gym[all]) (2.9.0)\n",
      "Requirement already satisfied: opencv-python>=3. in .\\venv\\lib\\site-packages (from gym[all]) (4.5.3.56)\n",
      "Requirement already satisfied: atari-py==0.2.6 in .\\venv\\lib\\site-packages (from gym[all]) (0.2.6)\n",
      "Requirement already satisfied: six in .\\venv\\lib\\site-packages (from atari-py==0.2.6->gym[all]) (1.16.0)\n",
      "Requirement already satisfied: glfw>=1.4.0 in .\\venv\\lib\\site-packages (from mujoco-py<2.0,>=1.50->gym[all]) (2.1.0)\n",
      "Requirement already satisfied: Cython>=0.27.2 in .\\venv\\lib\\site-packages (from mujoco-py<2.0,>=1.50->gym[all]) (0.29.24)\n",
      "Requirement already satisfied: cffi>=1.10 in .\\venv\\lib\\site-packages (from mujoco-py<2.0,>=1.50->gym[all]) (1.14.6)\n",
      "Requirement already satisfied: lockfile>=0.12.2 in .\\venv\\lib\\site-packages (from mujoco-py<2.0,>=1.50->gym[all]) (0.12.2)\n",
      "Requirement already satisfied: pycparser in .\\venv\\lib\\site-packages (from cffi>=1.10->mujoco-py<2.0,>=1.50->gym[all]) (2.20)\n",
      "Requirement already satisfied: pillow in .\\venv\\lib\\site-packages (from imageio->gym[all]) (8.3.1)\n",
      "Building wheels for collected packages: mujoco-py\n",
      "  Building wheel for mujoco-py (setup.py): started\n",
      "  Building wheel for mujoco-py (setup.py): finished with status 'error'\n",
      "  Running setup.py clean for mujoco-py\n",
      "Failed to build mujoco-py\n",
      "Installing collected packages: mujoco-py\n",
      "    Running setup.py install for mujoco-py: started\n",
      "    Running setup.py install for mujoco-py: finished with status 'error'"
     ]
    },
    {
     "output_type": "stream",
     "name": "stderr",
     "text": [
      "  ERROR: Command errored out with exit status 1:\n",
      "   command: 'E:\\temp\\rl_exe1\\venv\\Scripts\\python.exe' -u -c 'import io, os, sys, setuptools, tokenize; sys.argv[0] = '\"'\"'C:\\\\Users\\\\joao.poffo\\\\AppData\\\\Local\\\\Temp\\\\pip-install-x3nxt3g4\\\\mujoco-py_8be4b0fc76e045b6b0ab2ff8713ac50f\\\\setup.py'\"'\"'; __file__='\"'\"'C:\\\\Users\\\\joao.poffo\\\\AppData\\\\Local\\\\Temp\\\\pip-install-x3nxt3g4\\\\mujoco-py_8be4b0fc76e045b6b0ab2ff8713ac50f\\\\setup.py'\"'\"';f = getattr(tokenize, '\"'\"'open'\"'\"', open)(__file__) if os.path.exists(__file__) else io.StringIO('\"'\"'from setuptools import setup; setup()'\"'\"');code = f.read().replace('\"'\"'\\r\\n'\"'\"', '\"'\"'\\n'\"'\"');f.close();exec(compile(code, __file__, '\"'\"'exec'\"'\"'))' bdist_wheel -d 'C:\\Users\\joao.poffo\\AppData\\Local\\Temp\\pip-wheel-p8mypnhp'\n",
      "       cwd: C:\\Users\\joao.poffo\\AppData\\Local\\Temp\\pip-install-x3nxt3g4\\mujoco-py_8be4b0fc76e045b6b0ab2ff8713ac50f\\\n",
      "  Complete output (54 lines):\n",
      "  running bdist_wheel\n",
      "  running build\n",
      "  \n",
      "  You appear to be missing MuJoCo.  We expected to find the file here: C:\\Users\\joao.poffo\\.mujoco\\mjpro150\n",
      "  \n",
      "  This package only provides python bindings, the library must be installed separately.\n",
      "  \n",
      "  Please follow the instructions on the README to install MuJoCo\n",
      "  \n",
      "      https://github.com/openai/mujoco-py#install-mujoco\n",
      "  \n",
      "  Which can be downloaded from the website\n",
      "  \n",
      "      https://www.roboti.us/index.html\n",
      "  \n",
      "  Traceback (most recent call last):\n",
      "    File \"<string>\", line 1, in <module>\n",
      "    File \"C:\\Users\\joao.poffo\\AppData\\Local\\Temp\\pip-install-x3nxt3g4\\mujoco-py_8be4b0fc76e045b6b0ab2ff8713ac50f\\setup.py\", line 44, in <module>\n",
      "      tests_require=read_requirements_file('requirements.dev.txt'),\n",
      "    File \"E:\\temp\\rl_exe1\\venv\\lib\\site-packages\\setuptools\\__init__.py\", line 153, in setup\n",
      "      return distutils.core.setup(**attrs)\n",
      "    File \"e:\\apps\\python37\\lib\\distutils\\core.py\", line 148, in setup\n",
      "      dist.run_commands()\n",
      "    File \"e:\\apps\\python37\\lib\\distutils\\dist.py\", line 966, in run_commands\n",
      "      self.run_command(cmd)\n",
      "    File \"e:\\apps\\python37\\lib\\distutils\\dist.py\", line 985, in run_command\n",
      "      cmd_obj.run()\n",
      "    File \"E:\\temp\\rl_exe1\\venv\\lib\\site-packages\\wheel\\bdist_wheel.py\", line 299, in run\n",
      "      self.run_command('build')\n",
      "    File \"e:\\apps\\python37\\lib\\distutils\\cmd.py\", line 313, in run_command\n",
      "      self.distribution.run_command(command)"
     ]
    },
    {
     "output_type": "stream",
     "name": "stdout",
     "text": [
      "\n"
     ]
    },
    {
     "output_type": "stream",
     "name": "stderr",
     "text": [
      "\n",
      "    File \"e:\\apps\\python37\\lib\\distutils\\dist.py\", line 985, in run_command\n",
      "      cmd_obj.run()\n",
      "    File \"C:\\Users\\joao.poffo\\AppData\\Local\\Temp\\pip-install-x3nxt3g4\\mujoco-py_8be4b0fc76e045b6b0ab2ff8713ac50f\\setup.py\", line 28, in run\n",
      "      import mujoco_py  # noqa: force build\n",
      "    File \"C:\\Users\\joao.poffo\\AppData\\Local\\Temp\\pip-install-x3nxt3g4\\mujoco-py_8be4b0fc76e045b6b0ab2ff8713ac50f\\mujoco_py\\__init__.py\", line 3, in <module>\n",
      "      from mujoco_py.builder import cymj, ignore_mujoco_warnings, functions, MujocoException\n",
      "    File \"C:\\Users\\joao.poffo\\AppData\\Local\\Temp\\pip-install-x3nxt3g4\\mujoco-py_8be4b0fc76e045b6b0ab2ff8713ac50f\\mujoco_py\\builder.py\", line 502, in <module>\n",
      "      mjpro_path, key_path = discover_mujoco()\n",
      "    File \"C:\\Users\\joao.poffo\\AppData\\Local\\Temp\\pip-install-x3nxt3g4\\mujoco-py_8be4b0fc76e045b6b0ab2ff8713ac50f\\mujoco_py\\utils.py\", line 93, in discover_mujoco\n",
      "      raise Exception(message)\n",
      "  Exception:\n",
      "  You appear to be missing MuJoCo.  We expected to find the file here: C:\\Users\\joao.poffo\\.mujoco\\mjpro150\n",
      "  \n",
      "  This package only provides python bindings, the library must be installed separately.\n",
      "  \n",
      "  Please follow the instructions on the README to install MuJoCo\n",
      "  \n",
      "      https://github.com/openai/mujoco-py#install-mujoco\n",
      "  \n",
      "  Which can be downloaded from the website\n",
      "  \n",
      "      https://www.roboti.us/index.html\n",
      "  \n",
      "  ----------------------------------------\n",
      "  ERROR: Failed building wheel for mujoco-py\n",
      "    ERROR: Command errored out with exit status 1:\n",
      "     command: 'E:\\temp\\rl_exe1\\venv\\Scripts\\python.exe' -u -c 'import io, os, sys, setuptools, tokenize; sys.argv[0] = '\"'\"'C:\\\\Users\\\\joao.poffo\\\\AppData\\\\Local\\\\Temp\\\\pip-install-x3nxt3g4\\\\mujoco-py_8be4b0fc76e045b6b0ab2ff8713ac50f\\\\setup.py'\"'\"'; __file__='\"'\"'C:\\\\Users\\\\joao.poffo\\\\AppData\\\\Local\\\\Temp\\\\pip-install-x3nxt3g4\\\\mujoco-py_8be4b0fc76e045b6b0ab2ff8713ac50f\\\\setup.py'\"'\"';f = getattr(tokenize, '\"'\"'open'\"'\"', open)(__file__) if os.path.exists(__file__) else io.StringIO('\"'\"'from setuptools import setup; setup()'\"'\"');code = f.read().replace('\"'\"'\\r\\n'\"'\"', '\"'\"'\\n'\"'\"');f.close();exec(compile(code, __file__, '\"'\"'exec'\"'\"'))' install --record 'C:\\Users\\joao.poffo\\AppData\\Local\\Temp\\pip-record-djuvkm9d\\install-record.txt' --single-version-externally-managed --compile --install-headers 'E:\\temp\\rl_exe1\\venv\\include\\site\\python3.7\\mujoco-py'\n",
      "         cwd: C:\\Users\\joao.poffo\\AppData\\Local\\Temp\\pip-install-x3nxt3g4\\mujoco-py_8be4b0fc76e045b6b0ab2ff8713ac50f\\\n",
      "    Complete output (56 lines):\n",
      "    running install\n",
      "    running build\n",
      "    \n",
      "    You appear to be missing MuJoCo.  We expected to find the file here: C:\\Users\\joao.poffo\\.mujoco\\mjpro150\n",
      "    \n",
      "    This package only provides python bindings, the library must be installed separately.\n",
      "    \n",
      "    Please follow the instructions on the README to install MuJoCo\n",
      "    \n",
      "        https://github.com/openai/mujoco-py#install-mujoco\n",
      "    \n",
      "    Which can be downloaded from the website\n",
      "    \n",
      "        https://www.roboti.us/index.html\n",
      "    \n",
      "    Traceback (most recent call last):\n",
      "      File \"<string>\", line 1, in <module>\n",
      "      File \"C:\\Users\\joao.poffo\\AppData\\Local\\Temp\\pip-install-x3nxt3g4\\mujoco-py_8be4b0fc76e045b6b0ab2ff8713ac50f\\setup.py\", line 44, in <module>\n",
      "        tests_require=read_requirements_file('requirements.dev.txt'),\n",
      "      File \"E:\\temp\\rl_exe1\\venv\\lib\\site-packages\\setuptools\\__init__.py\", line 153, in setup\n",
      "        return distutils.core.setup(**attrs)\n",
      "      File \"e:\\apps\\python37\\lib\\distutils\\core.py\", line 148, in setup\n",
      "        dist.run_commands()\n",
      "      File \"e:\\apps\\python37\\lib\\distutils\\dist.py\", line 966, in run_commands\n",
      "        self.run_command(cmd)\n",
      "      File \"e:\\apps\\python37\\lib\\distutils\\dist.py\", line 985, in run_command\n",
      "        cmd_obj.run()\n",
      "      File \"E:\\temp\\rl_exe1\\venv\\lib\\site-packages\\setuptools\\command\\install.py\", line 61, in run\n",
      "        return orig.install.run(self)\n",
      "      File \"e:\\apps\\python37\\lib\\distutils\\command\\install.py\", line 545, in run\n",
      "        self.run_command('build')\n",
      "      File \"e:\\apps\\python37\\lib\\distutils\\cmd.py\", line 313, in run_command\n",
      "        self.distribution.run_command(command)\n",
      "      File \"e:\\apps\\python37\\lib\\distutils\\dist.py\", line 985, in run_command\n",
      "        cmd_obj.run()\n",
      "      File \"C:\\Users\\joao.poffo\\AppData\\Local\\Temp\\pip-install-x3nxt3g4\\mujoco-py_8be4b0fc76e045b6b0ab2ff8713ac50f\\setup.py\", line 28, in run\n",
      "        import mujoco_py  # noqa: force build\n",
      "      File \"C:\\Users\\joao.poffo\\AppData\\Local\\Temp\\pip-install-x3nxt3g4\\mujoco-py_8be4b0fc76e045b6b0ab2ff8713ac50f\\mujoco_py\\__init__.py\", line 3, in <module>\n",
      "        from mujoco_py.builder import cymj, ignore_mujoco_warnings, functions, MujocoException\n",
      "      File \"C:\\Users\\joao.poffo\\AppData\\Local\\Temp\\pip-install-x3nxt3g4\\mujoco-py_8be4b0fc76e045b6b0ab2ff8713ac50f\\mujoco_py\\builder.py\", line 502, in <module>\n",
      "        mjpro_path, key_path = discover_mujoco()\n",
      "      File \"C:\\Users\\joao.poffo\\AppData\\Local\\Temp\\pip-install-x3nxt3g4\\mujoco-py_8be4b0fc76e045b6b0ab2ff8713ac50f\\mujoco_py\\utils.py\", line 93, in discover_mujoco\n",
      "        raise Exception(message)\n",
      "    Exception:\n",
      "    You appear to be missing MuJoCo.  We expected to find the file here: C:\\Users\\joao.poffo\\.mujoco\\mjpro150\n",
      "    \n",
      "    This package only provides python bindings, the library must be installed separately.\n",
      "    \n",
      "    Please follow the instructions on the README to install MuJoCo\n",
      "    \n",
      "        https://github.com/openai/mujoco-py#install-mujoco\n",
      "    \n",
      "    Which can be downloaded from the website\n",
      "    \n",
      "        https://www.roboti.us/index.html\n",
      "    \n",
      "    ----------------------------------------\n",
      "ERROR: Command errored out with exit status 1: 'E:\\temp\\rl_exe1\\venv\\Scripts\\python.exe' -u -c 'import io, os, sys, setuptools, tokenize; sys.argv[0] = '\"'\"'C:\\\\Users\\\\joao.poffo\\\\AppData\\\\Local\\\\Temp\\\\pip-install-x3nxt3g4\\\\mujoco-py_8be4b0fc76e045b6b0ab2ff8713ac50f\\\\setup.py'\"'\"'; __file__='\"'\"'C:\\\\Users\\\\joao.poffo\\\\AppData\\\\Local\\\\Temp\\\\pip-install-x3nxt3g4\\\\mujoco-py_8be4b0fc76e045b6b0ab2ff8713ac50f\\\\setup.py'\"'\"';f = getattr(tokenize, '\"'\"'open'\"'\"', open)(__file__) if os.path.exists(__file__) else io.StringIO('\"'\"'from setuptools import setup; setup()'\"'\"');code = f.read().replace('\"'\"'\\r\\n'\"'\"', '\"'\"'\\n'\"'\"');f.close();exec(compile(code, __file__, '\"'\"'exec'\"'\"'))' install --record 'C:\\Users\\joao.poffo\\AppData\\Local\\Temp\\pip-record-djuvkm9d\\install-record.txt' --single-version-externally-managed --compile --install-headers 'E:\\temp\\rl_exe1\\venv\\include\\site\\python3.7\\mujoco-py' Check the logs for full command output.\n"
     ]
    },
    {
     "output_type": "stream",
     "name": "stdout",
     "text": [
      "Requirement already satisfied: atari-py in .\\venv\\lib\\site-packages (0.2.6)\n",
      "Requirement already satisfied: six in .\\venv\\lib\\site-packages (from atari-py) (1.16.0)\n",
      "Requirement already satisfied: numpy in .\\venv\\lib\\site-packages (from atari-py) (1.21.2)\n"
     ]
    }
   ],
   "metadata": {}
  },
  {
   "cell_type": "markdown",
   "source": [
    "2. Baixando os Roms do Atari para teste"
   ],
   "metadata": {}
  },
  {
   "cell_type": "code",
   "execution_count": 2,
   "source": [
    "#Instala o pacote para fazer downloads em Python\r\n",
    "!pip install wget\r\n",
    "import wget\r\n",
    "import os\r\n",
    "\r\n",
    "# Só baixa a primeira vez (Se baixar, tem que descompactar)\r\n",
    "if not os.path.isdir('Roms'):\r\n",
    "\r\n",
    "  #função auxiliar p/ apresentar a barra de progresso de download\r\n",
    "  def bar_progress(current, total, width=80):\r\n",
    "    progress_message = 'Baixando: %d%% (%d / %d) bytes' % (current / total * 100, current, total)\r\n",
    "    print(progress_message, end='\\r')\r\n",
    "\r\n",
    "  #baixa o arquivo com as ROMS a partir da url\r\n",
    "  wget.download('http://www.atarimania.com/roms/Roms.rar', out='Roms.rar', bar=bar_progress)\r\n",
    "\r\n",
    "  #wget.download('https://github.com/openai/atari-py/archive/refs/heads/master.zip', out='atari-py.zip', bar=bar_progress)"
   ],
   "outputs": [
    {
     "output_type": "stream",
     "name": "stdout",
     "text": [
      "Collecting wget\n",
      "  Downloading wget-3.2.zip (10 kB)\n",
      "Building wheels for collected packages: wget\n",
      "  Building wheel for wget (setup.py): started\n",
      "  Building wheel for wget (setup.py): finished with status 'done'\n",
      "  Created wheel for wget: filename=wget-3.2-py3-none-any.whl size=9672 sha256=fb8a5fe418e99f113c5e7fbbe19306e860b7e6bd9f5c9b73b4d1baca0a01b40f\n",
      "  Stored in directory: c:\\users\\joao.poffo\\appdata\\local\\pip\\cache\\wheels\\a1\\b6\\7c\\0e63e34eb06634181c63adacca38b79ff8f35c37e3c13e3c02\n",
      "Successfully built wget\n",
      "Installing collected packages: wget\n",
      "Successfully installed wget-3.2\n"
     ]
    }
   ],
   "metadata": {}
  },
  {
   "cell_type": "markdown",
   "source": [
    "3. Importa as Roms"
   ],
   "metadata": {}
  },
  {
   "cell_type": "code",
   "execution_count": 6,
   "source": [
    "!python -m atari_py.import_roms 'Roms/ROMS/'"
   ],
   "outputs": [],
   "metadata": {}
  },
  {
   "cell_type": "markdown",
   "source": [
    "4. Testando o ambiente com o cenário selecionado (SpaceInvaders)"
   ],
   "metadata": {}
  },
  {
   "cell_type": "code",
   "execution_count": 56,
   "source": [
    "# Função para salvar a animação como gif (daqui: https://www.tensorflow.org/tutorials/reinforcement_learning/actor_critic)\r\n",
    "# Adaptado pra escrever o episódio e tipo de gif na base.\r\n",
    "\r\n",
    "from PIL import Image, ImageDraw, ImageFont\r\n",
    "\r\n",
    "def save_frames_as_gif(frames, path='./', filename='gym_animation', label='sample'):\r\n",
    "    images = []\r\n",
    "\r\n",
    "    font = ImageFont.truetype('arial')\r\n",
    "\r\n",
    "    for index, frame in enumerate(frames):\r\n",
    "        image = Image.fromarray(frame)\r\n",
    "        title = f'{label}-{index}'\r\n",
    "        draw = ImageDraw.Draw(image)\r\n",
    "        width, height = image.size\r\n",
    "        text_w, text_h = draw.textsize(title, font)\r\n",
    "        draw.text((0, height-text_h),title,(255,255,255),font=font)\r\n",
    "        images.append(image)\r\n",
    "\r\n",
    "    # loop=0: loop forever, duration=1: play each frame for 1ms\r\n",
    "    images[0].save(\r\n",
    "        f'{path}{filename}-{label}.gif', save_all=True, append_images=images[1:], loop=0, duration=1)\r\n"
   ],
   "outputs": [],
   "metadata": {}
  },
  {
   "cell_type": "code",
   "execution_count": 57,
   "source": [
    "#importa a biblioteca gym\r\n",
    "import gym\r\n",
    "import time\r\n",
    "\r\n",
    "scenario = 'SpaceInvaders-v4'\r\n",
    "env = gym.make(scenario)\r\n",
    "frames = []\r\n",
    "\r\n",
    "observation = env.reset()\r\n",
    "#define a quantidade de passos de tempo\r\n",
    "for _ in range(1000):\r\n",
    "  #desenha a visualização do ambiente  \r\n",
    "  #env.render()\r\n",
    "  rgb_observation = env.render(mode = 'rgb_array') \r\n",
    "  frames.append(rgb_observation)\r\n",
    "  \r\n",
    "  #toma uma ação de forma aleatória\r\n",
    "  action = env.action_space.sample()\r\n",
    "  #observa o ambiente com a base na ação executada\r\n",
    "  observation, reward, done, info = env.step(action)\r\n",
    "  #adiciona um atraso na execução para melhorar a visualização\r\n",
    "  \r\n",
    "  #time.sleep(0.03)\r\n",
    "\r\n",
    "  #verifica se o agente completou a tarefa\r\n",
    "  if done:\r\n",
    "    #reinicia a simulação\r\n",
    "    observation = env.reset()\r\n",
    "#fecha a visualização\r\n",
    "env.close()\r\n",
    "\r\n",
    "save_frames_as_gif(frames, 'images/', scenario, 'sample')"
   ],
   "outputs": [],
   "metadata": {}
  },
  {
   "cell_type": "markdown",
   "source": [
    "![Exemplo do jogo Space Invaders](images/SpaceInvaders-v4-sample.gif)"
   ],
   "metadata": {}
  },
  {
   "cell_type": "markdown",
   "source": [
    "De acordo com a documentação do stable baselines 3, o space invaders possui os algoritmos A2C, PPO, DQN e QT-DQN.\r\n",
    "\r\n",
    "Selecionei A2C, PPO e DQN pois são contemplados também no zoo."
   ],
   "metadata": {}
  },
  {
   "cell_type": "code",
   "execution_count": 12,
   "source": [
    "# Treina e salva os modelos\r\n",
    "\r\n",
    "%%time\r\n",
    "\r\n",
    "from stable_baselines3 import PPO, A2C, DQN\r\n",
    "\r\n",
    "PPO('MlpPolicy', scenario).learn(10000).save(f'models/{scenario}-PPO')\r\n",
    "\r\n",
    "A2C('MlpPolicy', scenario).learn(10000).save(f'models/{scenario}-A2C')\r\n",
    "\r\n",
    "# Precisei diminuir o Buffer (1M para 50k) pra caber na memória da minha máquina\r\n",
    "DQN('MlpPolicy', scenario, optimize_memory_usage=True, buffer_size=50000).learn(10000).save(f'models/{scenario}-DQN')"
   ],
   "outputs": [
    {
     "output_type": "stream",
     "name": "stdout",
     "text": [
      "Wall time: 28.1 s\n"
     ]
    }
   ],
   "metadata": {}
  },
  {
   "cell_type": "code",
   "execution_count": 58,
   "source": [
    "# Carrega e avalia por 100 (10 pareceu mto pouco) episódios (PPO)\r\n",
    "def evaluate(algo_class, episodes=100):\r\n",
    "  env = gym.make(scenario)\r\n",
    "\r\n",
    "  algo_name = algo_class.__name__\r\n",
    "  trained_model = algo_class.load(f\"models/{scenario}-{algo_name}\", verbose=1)\r\n",
    "  env = gym.make(scenario)\r\n",
    "\r\n",
    "  frames = []\r\n",
    "  obs = env.reset()\r\n",
    "  for i in range(episodes):\r\n",
    "      action, _states = trained_model.predict(obs, deterministic=True)\r\n",
    "      obs, reward, done, info = env.step(action)\r\n",
    "      \r\n",
    "      # Para ver na tela\r\n",
    "      #env.render()\r\n",
    "\r\n",
    "      rgb_observation = env.render(mode = 'rgb_array') \r\n",
    "      frames.append(rgb_observation)\r\n",
    "\r\n",
    "      if done:\r\n",
    "        obs = env.reset()\r\n",
    "\r\n",
    "  env.close()\r\n",
    "\r\n",
    "  save_frames_as_gif(frames, 'images/', scenario, algo_name)\r\n",
    "\r\n",
    "evaluate(PPO)\r\n",
    "evaluate(A2C)\r\n",
    "evaluate(DQN)"
   ],
   "outputs": [],
   "metadata": {}
  },
  {
   "cell_type": "markdown",
   "source": [
    "![Avaliação por 10 episódios do treino com PPO](images/SpaceInvaders-v4-PPO.gif)\r\n",
    "![Avaliação por 10 episódios do treino com A2C](images/SpaceInvaders-v4-A2C.gif)\r\n",
    "![Avaliação por 10 episódios do treino com DQN](images/SpaceInvaders-v4-DQN.gif)"
   ],
   "metadata": {}
  },
  {
   "cell_type": "code",
   "execution_count": 28,
   "source": [
    "# Baixando o código do Stable Baselines3\r\n",
    "if not os.path.isdir('rl-baselines3-zoo'):\r\n",
    "    !git clone https://github.com/DLR-RM/rl-baselines3-zoo.git\r\n",
    "\r\n",
    "#Necessário para o baselines stables se rodar local (Mas optei por usar containers)\r\n",
    "#!pip install -r ./requirements.txt\r\n",
    "\r\n",
    "# Seta diretório raiz no baselines3 para os treinos\r\n",
    "%cd rl-baselines3-zoo"
   ],
   "outputs": [
    {
     "output_type": "stream",
     "name": "stdout",
     "text": [
      "e:\\temp\\rl_exe1\\rl-baselines3-zoo\n"
     ]
    }
   ],
   "metadata": {}
  },
  {
   "cell_type": "code",
   "execution_count": 32,
   "source": [
    "def run_script(algo, eval_freq=10000, eval_episodes=10, eval_envs=1):\r\n",
    "    # Não funcionou chamando o script do repo... pq no windows não respeita comandos bash por algum motivo. Fallback pro que o script faz com o docker.\r\n",
    "    #!./scripts/run_docker_cpu.sh python train.py --algo a2c --env SpaceInvaders-v4\r\n",
    "    !docker run -t --rm --network host --ipc=host --mount src=\"%cd%\",target=/root/code/rl_zoo,type=bind stablebaselines/rl-baselines3-zoo-cpu:latest bash -c \"cd /root/code/rl_zoo/ && python train.py --algo {algo} --env SpaceInvaders-v4 --tensorboard-log=tensorboard-logs --eval-freq {eval_freq} --eval-episodes {eval_episodes} --n-eval-envs {eval_envs}\"\r\n",
    "\r\n",
    "run_script(\"a2c\", eval_freq=500)"
   ],
   "outputs": [
    {
     "output_type": "stream",
     "name": "stdout",
     "text": [
      "^C\n"
     ]
    }
   ],
   "metadata": {}
  },
  {
   "cell_type": "code",
   "execution_count": 33,
   "source": [
    "# Treinando PPO\r\n",
    "#!docker run -t --rm --network host --ipc=host --mount src=\"%cd%\",target=/root/code/rl_zoo,type=bind stablebaselines/rl-baselines3-zoo-cpu:latest bash -c \"cd /root/code/rl_zoo/ && python train.py --algo ppo --env SpaceInvaders-v4\"\r\n",
    "run_script(\"ppo\")"
   ],
   "outputs": [],
   "metadata": {}
  },
  {
   "cell_type": "code",
   "execution_count": null,
   "source": [
    "# Treinando DQN\r\n",
    "#!docker run -t --rm --network host --ipc=host --mount src=\"%cd%\",target=/root/code/rl_zoo,type=bind stablebaselines/rl-baselines3-zoo-cpu:latest bash -c \"cd /root/code/rl_zoo/ && python train.py --algo dqn --env SpaceInvaders-v4\"\r\n",
    "run_script(\"dqn\")\r\n"
   ],
   "outputs": [],
   "metadata": {}
  }
 ],
 "metadata": {
  "kernelspec": {
   "name": "python3",
   "display_name": "Python 3.7.9 64-bit ('venv': venv)"
  },
  "language_info": {
   "codemirror_mode": {
    "name": "ipython",
    "version": 3
   },
   "file_extension": ".py",
   "mimetype": "text/x-python",
   "name": "python",
   "nbconvert_exporter": "python",
   "pygments_lexer": "ipython3",
   "version": "3.7.9"
  },
  "interpreter": {
   "hash": "4337733d7c4f8242ca10155413965bee5981b415db72db4cb080555abb5e32aa"
  }
 },
 "nbformat": 4,
 "nbformat_minor": 4
}