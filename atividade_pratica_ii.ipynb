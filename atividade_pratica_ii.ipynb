{
 "cells": [
  {
   "cell_type": "markdown",
   "source": [
    "# Atividade Prática II - Treinamento e Validação de Modelos de RL\r\n",
    "\r\n",
    "**Aluno:** João Paulo Poffo\r\n",
    "\r\n",
    "**Disciplina:** Reinforcement Learning - Turma II\r\n",
    "\r\n",
    "**Data:** 21/08/2021\r\n",
    "\r\n",
    "\r\n",
    "\r\n",
    "Neste trabalho vamos aplicar `Gym`, `Stable-Baselines3` e `RL Baselines Zoo` para lidar com o treinamento e validação de problemas de aprendizado por reforço. Sua tarefa é:\r\n",
    "\r\n",
    "1. Selecionar um cenário da biblioteca `Gym` de sua preferência, desde que este cenário também seja contemplado pelos modelos disponibilizados na `rl baselines zoo`;\r\n",
    "1. Selecionar três algoritmos das biblioteca `Stable-baselines3` para resolver esse problema. Pesquise na documentação da biblioteca quais são os algoritmos mais adequados para o ambiente escolhido e justifique a sua escolha. \r\n",
    "1. Realize o treinamento de cada um dos três modelos ---você pode ajustar os parâmetros do modelos, se achar necessário--- e salve os modelos em disco.\r\n",
    "1. De posse dos modelos treinados e salvos, carregue-os e avalie-os por 10 episódios. Apresente os resultados médios e gere a curva de recompensa acumulada disponibilizada pelo `TensorBoard`.\r\n",
    "1. Compare os resultados dos modelos treinados com os resultados obtidos por modelo(s) existentes no `RL Baselines Zoo` para o cenário escolhido.\r\n",
    "1. Gere um vídeo do melhor modelo que você treinou e do modelo escolhido na `RL Baselines Zoo`. Verifique a documentação de cada biblioteca sobre a criação do vídeo e visualização em Notebooks.\r\n",
    "\r\n",
    "\r\n",
    "\r\n",
    "* **Data de entrega:** 04/09/2021\r\n",
    "* **Local de envio:** AVA.\r\n",
    "* **Tipo de documento:** Notebook (`.ipynb`).\r\n",
    "\r\n"
   ],
   "metadata": {}
  },
  {
   "cell_type": "markdown",
   "source": [
    "## Preparação do ambiente"
   ],
   "metadata": {}
  },
  {
   "cell_type": "code",
   "execution_count": 2,
   "source": [
    "# Precisa instalar o swig pra windows pra funcionar o box2d-py (necessário para o atari - http://swig.org/Doc4.0/Windows.html#Windows)\r\n",
    "# Obs: Não adianta copiar o exe para o bin. Tem que adicionar a pasta do swig no path\r\n",
    "!pip install cmake\r\n",
    "\r\n",
    "!pip install gym[all]\r\n",
    "\r\n",
    "!pip install atari-py\r\n",
    "\r\n",
    "!pip install matplotlib"
   ],
   "outputs": [
    {
     "output_type": "stream",
     "name": "stdout",
     "text": [
      "Requirement already satisfied: cmake in .\\venv\\lib\\site-packages (3.21.2)\n",
      "Requirement already satisfied: gym[all] in .\\venv\\lib\\site-packages (0.19.0)\n",
      "Requirement already satisfied: numpy>=1.18.0 in .\\venv\\lib\\site-packages (from gym[all]) (1.21.2)\n",
      "Requirement already satisfied: cloudpickle<1.7.0,>=1.2.0 in .\\venv\\lib\\site-packages (from gym[all]) (1.6.0)\n",
      "Requirement already satisfied: scipy in .\\venv\\lib\\site-packages (from gym[all]) (1.7.1)\n",
      "Requirement already satisfied: opencv-python>=3. in .\\venv\\lib\\site-packages (from gym[all]) (4.5.3.56)\n",
      "Collecting atari-py==0.2.6\n",
      "  Using cached atari_py-0.2.6-cp37-cp37m-win_amd64.whl (1.8 MB)\n",
      "Collecting mujoco-py<2.0,>=1.50\n",
      "  Using cached mujoco-py-1.50.1.68.tar.gz (120 kB)\n",
      "Requirement already satisfied: pyglet>=1.4.0 in .\\venv\\lib\\site-packages (from gym[all]) (1.5.19)\n"
     ]
    },
    {
     "output_type": "stream",
     "name": "stderr",
     "text": [
      "WARNING: The candidate selected for download or install is a yanked version: 'atari-py' candidate (version 0.2.6 at https://files.pythonhosted.org/packages/df/c3/f70777c0a66fa8a26cbf471c4d96e304f5cf79718ea734880b4b36bc95fd/atari_py-0.2.6-cp37-cp37m-win_amd64.whl#sha256=ac3315c7a1d6cfb09f043e7971598cb53a749393b150614986a0eab28b049aea (from https://pypi.org/simple/atari-py/))\n",
      "Reason for being yanked: re-release with new wheels\n",
      "  ERROR: Command errored out with exit status 1:\n",
      "   command: 'E:\\temp\\rl_exe1\\venv\\Scripts\\python.exe' -u -c 'import io, os, sys, setuptools, tokenize; sys.argv[0] = '\"'\"'C:\\\\Users\\\\joao.poffo\\\\AppData\\\\Local\\\\Temp\\\\pip-install-yeylubu5\\\\mujoco-py_140ebdafec404e5889ab1373f3f65b5c\\\\setup.py'\"'\"'; __file__='\"'\"'C:\\\\Users\\\\joao.poffo\\\\AppData\\\\Local\\\\Temp\\\\pip-install-yeylubu5\\\\mujoco-py_140ebdafec404e5889ab1373f3f65b5c\\\\setup.py'\"'\"';f = getattr(tokenize, '\"'\"'open'\"'\"', open)(__file__) if os.path.exists(__file__) else io.StringIO('\"'\"'from setuptools import setup; setup()'\"'\"');code = f.read().replace('\"'\"'\\r\\n'\"'\"', '\"'\"'\\n'\"'\"');f.close();exec(compile(code, __file__, '\"'\"'exec'\"'\"'))' bdist_wheel -d 'C:\\Users\\joao.poffo\\AppData\\Local\\Temp\\pip-wheel-zeqi7wmh'\n",
      "       cwd: C:\\Users\\joao.poffo\\AppData\\Local\\Temp\\pip-install-yeylubu5\\mujoco-py_140ebdafec404e5889ab1373f3f65b5c\\\n",
      "  Complete output (54 lines):\n",
      "  running bdist_wheel\n",
      "  running build\n",
      "  \n",
      "  You appear to be missing MuJoCo.  We expected to find the file here: C:\\Users\\joao.poffo\\.mujoco\\mjpro150\n",
      "  \n",
      "  This package only provides python bindings, the library must be installed separately.\n",
      "  \n",
      "  Please follow the instructions on the README to install MuJoCo\n",
      "  \n",
      "      https://github.com/openai/mujoco-py#install-mujoco\n",
      "  \n",
      "  Which can be downloaded from the website\n",
      "  \n"
     ]
    },
    {
     "output_type": "stream",
     "name": "stdout",
     "text": [
      "Requirement already satisfied: imageio in .\\venv\\lib\\site-packages (from gym[all]) (2.9.0)\n",
      "Requirement already satisfied: box2d-py~=2.3.5 in .\\venv\\lib\\site-packages (from gym[all]) (2.3.8)\n",
      "Requirement already satisfied: six in .\\venv\\lib\\site-packages (from atari-py==0.2.6->gym[all]) (1.16.0)\n",
      "Requirement already satisfied: glfw>=1.4.0 in .\\venv\\lib\\site-packages (from mujoco-py<2.0,>=1.50->gym[all]) (2.1.0)\n",
      "Requirement already satisfied: Cython>=0.27.2 in .\\venv\\lib\\site-packages (from mujoco-py<2.0,>=1.50->gym[all]) (0.29.24)\n",
      "Requirement already satisfied: cffi>=1.10 in .\\venv\\lib\\site-packages (from mujoco-py<2.0,>=1.50->gym[all]) (1.14.6)\n",
      "Requirement already satisfied: lockfile>=0.12.2 in .\\venv\\lib\\site-packages (from mujoco-py<2.0,>=1.50->gym[all]) (0.12.2)\n",
      "Requirement already satisfied: pycparser in .\\venv\\lib\\site-packages (from cffi>=1.10->mujoco-py<2.0,>=1.50->gym[all]) (2.20)\n",
      "Requirement already satisfied: pillow in .\\venv\\lib\\site-packages (from imageio->gym[all]) (8.3.1)\n",
      "Building wheels for collected packages: mujoco-py\n",
      "  Building wheel for mujoco-py (setup.py): started\n",
      "  Building wheel for mujoco-py (setup.py): finished with status 'error'\n",
      "  Running setup.py clean for mujoco-py\n",
      "Failed to build mujoco-py\n",
      "Installing collected packages: mujoco-py, atari-py\n",
      "    Running setup.py install for mujoco-py: started\n",
      "    Running setup.py install for mujoco-py: finished with status 'error'\n"
     ]
    },
    {
     "output_type": "stream",
     "name": "stderr",
     "text": [
      "      https://www.roboti.us/index.html\n",
      "  \n",
      "  Traceback (most recent call last):\n",
      "    File \"<string>\", line 1, in <module>\n",
      "    File \"C:\\Users\\joao.poffo\\AppData\\Local\\Temp\\pip-install-yeylubu5\\mujoco-py_140ebdafec404e5889ab1373f3f65b5c\\setup.py\", line 44, in <module>\n",
      "      tests_require=read_requirements_file('requirements.dev.txt'),\n",
      "    File \"E:\\temp\\rl_exe1\\venv\\lib\\site-packages\\setuptools\\__init__.py\", line 153, in setup\n",
      "      return distutils.core.setup(**attrs)\n",
      "    File \"e:\\apps\\python37\\lib\\distutils\\core.py\", line 148, in setup\n",
      "      dist.run_commands()\n",
      "    File \"e:\\apps\\python37\\lib\\distutils\\dist.py\", line 966, in run_commands\n",
      "      self.run_command(cmd)\n",
      "    File \"e:\\apps\\python37\\lib\\distutils\\dist.py\", line 985, in run_command\n",
      "      cmd_obj.run()\n",
      "    File \"E:\\temp\\rl_exe1\\venv\\lib\\site-packages\\wheel\\bdist_wheel.py\", line 299, in run\n",
      "      self.run_command('build')\n",
      "    File \"e:\\apps\\python37\\lib\\distutils\\cmd.py\", line 313, in run_command\n",
      "      self.distribution.run_command(command)\n",
      "    File \"e:\\apps\\python37\\lib\\distutils\\dist.py\", line 985, in run_command\n",
      "      cmd_obj.run()\n",
      "    File \"C:\\Users\\joao.poffo\\AppData\\Local\\Temp\\pip-install-yeylubu5\\mujoco-py_140ebdafec404e5889ab1373f3f65b5c\\setup.py\", line 28, in run\n",
      "      import mujoco_py  # noqa: force build\n",
      "    File \"C:\\Users\\joao.poffo\\AppData\\Local\\Temp\\pip-install-yeylubu5\\mujoco-py_140ebdafec404e5889ab1373f3f65b5c\\mujoco_py\\__init__.py\", line 3, in <module>\n",
      "      from mujoco_py.builder import cymj, ignore_mujoco_warnings, functions, MujocoException\n",
      "    File \"C:\\Users\\joao.poffo\\AppData\\Local\\Temp\\pip-install-yeylubu5\\mujoco-py_140ebdafec404e5889ab1373f3f65b5c\\mujoco_py\\builder.py\", line 502, in <module>\n",
      "      mjpro_path, key_path = discover_mujoco()\n",
      "    File \"C:\\Users\\joao.poffo\\AppData\\Local\\Temp\\pip-install-yeylubu5\\mujoco-py_140ebdafec404e5889ab1373f3f65b5c\\mujoco_py\\utils.py\", line 93, in discover_mujoco\n",
      "      raise Exception(message)\n",
      "  Exception:\n",
      "  You appear to be missing MuJoCo.  We expected to find the file here: C:\\Users\\joao.poffo\\.mujoco\\mjpro150\n",
      "  \n",
      "  This package only provides python bindings, the library must be installed separately.\n",
      "  \n",
      "  Please follow the instructions on the README to install MuJoCo\n",
      "  \n",
      "      https://github.com/openai/mujoco-py#install-mujoco\n",
      "  \n",
      "  Which can be downloaded from the website\n",
      "  \n",
      "      https://www.roboti.us/index.html\n",
      "  \n",
      "  ----------------------------------------\n",
      "  ERROR: Failed building wheel for mujoco-py\n",
      "    ERROR: Command errored out with exit status 1:\n",
      "     command: 'E:\\temp\\rl_exe1\\venv\\Scripts\\python.exe' -u -c 'import io, os, sys, setuptools, tokenize; sys.argv[0] = '\"'\"'C:\\\\Users\\\\joao.poffo\\\\AppData\\\\Local\\\\Temp\\\\pip-install-yeylubu5\\\\mujoco-py_140ebdafec404e5889ab1373f3f65b5c\\\\setup.py'\"'\"'; __file__='\"'\"'C:\\\\Users\\\\joao.poffo\\\\AppData\\\\Local\\\\Temp\\\\pip-install-yeylubu5\\\\mujoco-py_140ebdafec404e5889ab1373f3f65b5c\\\\setup.py'\"'\"';f = getattr(tokenize, '\"'\"'open'\"'\"', open)(__file__) if os.path.exists(__file__) else io.StringIO('\"'\"'from setuptools import setup; setup()'\"'\"');code = f.read().replace('\"'\"'\\r\\n'\"'\"', '\"'\"'\\n'\"'\"');f.close();exec(compile(code, __file__, '\"'\"'exec'\"'\"'))' install --record 'C:\\Users\\joao.poffo\\AppData\\Local\\Temp\\pip-record-z2mfu9m2\\install-record.txt' --single-version-externally-managed --compile --install-headers 'E:\\temp\\rl_exe1\\venv\\include\\site\\python3.7\\mujoco-py'\n",
      "         cwd: C:\\Users\\joao.poffo\\AppData\\Local\\Temp\\pip-install-yeylubu5\\mujoco-py_140ebdafec404e5889ab1373f3f65b5c\\\n",
      "    Complete output (56 lines):\n",
      "    running install\n",
      "    running build\n",
      "    \n",
      "    You appear to be missing MuJoCo.  We expected to find the file here: C:\\Users\\joao.poffo\\.mujoco\\mjpro150\n",
      "    \n",
      "    This package only provides python bindings, the library must be installed separately.\n",
      "    \n",
      "    Please follow the instructions on the README to install MuJoCo\n",
      "    \n",
      "        https://github.com/openai/mujoco-py#install-mujoco\n",
      "    \n",
      "    Which can be downloaded from the website\n",
      "    \n",
      "        https://www.roboti.us/index.html\n",
      "    \n",
      "    Traceback (most recent call last):\n",
      "      File \"<string>\", line 1, in <module>\n",
      "      File \"C:\\Users\\joao.poffo\\AppData\\Local\\Temp\\pip-install-yeylubu5\\mujoco-py_140ebdafec404e5889ab1373f3f65b5c\\setup.py\", line 44, in <module>\n",
      "        tests_require=read_requirements_file('requirements.dev.txt'),\n",
      "      File \"E:\\temp\\rl_exe1\\venv\\lib\\site-packages\\setuptools\\__init__.py\", line 153, in setup\n",
      "        return distutils.core.setup(**attrs)\n",
      "      File \"e:\\apps\\python37\\lib\\distutils\\core.py\", line 148, in setup\n",
      "        dist.run_commands()\n",
      "      File \"e:\\apps\\python37\\lib\\distutils\\dist.py\", line 966, in run_commands\n",
      "        self.run_command(cmd)\n",
      "      File \"e:\\apps\\python37\\lib\\distutils\\dist.py\", line 985, in run_command\n",
      "        cmd_obj.run()\n",
      "      File \"E:\\temp\\rl_exe1\\venv\\lib\\site-packages\\setuptools\\command\\install.py\", line 61, in run\n",
      "        return orig.install.run(self)\n",
      "      File \"e:\\apps\\python37\\lib\\distutils\\command\\install.py\", line 545, in run\n",
      "        self.run_command('build')\n",
      "      File \"e:\\apps\\python37\\lib\\distutils\\cmd.py\", line 313, in run_command\n",
      "        self.distribution.run_command(command)\n",
      "      File \"e:\\apps\\python37\\lib\\distutils\\dist.py\", line 985, in run_command\n",
      "        cmd_obj.run()\n",
      "      File \"C:\\Users\\joao.poffo\\AppData\\Local\\Temp\\pip-install-yeylubu5\\mujoco-py_140ebdafec404e5889ab1373f3f65b5c\\setup.py\", line 28, in run\n",
      "        import mujoco_py  # noqa: force build\n",
      "      File \"C:\\Users\\joao.poffo\\AppData\\Local\\Temp\\pip-install-yeylubu5\\mujoco-py_140ebdafec404e5889ab1373f3f65b5c\\mujoco_py\\__init__.py\", line 3, in <module>\n",
      "        from mujoco_py.builder import cymj, ignore_mujoco_warnings, functions, MujocoException\n",
      "      File \"C:\\Users\\joao.poffo\\AppData\\Local\\Temp\\pip-install-yeylubu5\\mujoco-py_140ebdafec404e5889ab1373f3f65b5c\\mujoco_py\\builder.py\", line 502, in <module>\n",
      "        mjpro_path, key_path = discover_mujoco()\n",
      "      File \"C:\\Users\\joao.poffo\\AppData\\Local\\Temp\\pip-install-yeylubu5\\mujoco-py_140ebdafec404e5889ab1373f3f65b5c\\mujoco_py\\utils.py\", line 93, in discover_mujoco\n",
      "        raise Exception(message)\n",
      "    Exception:\n",
      "    You appear to be missing MuJoCo.  We expected to find the file here: C:\\Users\\joao.poffo\\.mujoco\\mjpro150\n",
      "    \n",
      "    This package only provides python bindings, the library must be installed separately.\n",
      "    \n",
      "    Please follow the instructions on the README to install MuJoCo\n",
      "    \n",
      "        https://github.com/openai/mujoco-py#install-mujoco\n",
      "    \n",
      "    Which can be downloaded from the website\n",
      "    \n",
      "        https://www.roboti.us/index.html\n",
      "    \n",
      "    ----------------------------------------\n",
      "ERROR: Command errored out with exit status 1: 'E:\\temp\\rl_exe1\\venv\\Scripts\\python.exe' -u -c 'import io, os, sys, setuptools, tokenize; sys.argv[0] = '\"'\"'C:\\\\Users\\\\joao.poffo\\\\AppData\\\\Local\\\\Temp\\\\pip-install-yeylubu5\\\\mujoco-py_140ebdafec404e5889ab1373f3f65b5c\\\\setup.py'\"'\"'; __file__='\"'\"'C:\\\\Users\\\\joao.poffo\\\\AppData\\\\Local\\\\Temp\\\\pip-install-yeylubu5\\\\mujoco-py_140ebdafec404e5889ab1373f3f65b5c\\\\setup.py'\"'\"';f = getattr(tokenize, '\"'\"'open'\"'\"', open)(__file__) if os.path.exists(__file__) else io.StringIO('\"'\"'from setuptools import setup; setup()'\"'\"');code = f.read().replace('\"'\"'\\r\\n'\"'\"', '\"'\"'\\n'\"'\"');f.close();exec(compile(code, __file__, '\"'\"'exec'\"'\"'))' install --record 'C:\\Users\\joao.poffo\\AppData\\Local\\Temp\\pip-record-z2mfu9m2\\install-record.txt' --single-version-externally-managed --compile --install-headers 'E:\\temp\\rl_exe1\\venv\\include\\site\\python3.7\\mujoco-py' Check the logs for full command output.\n"
     ]
    },
    {
     "output_type": "stream",
     "name": "stdout",
     "text": [
      "Requirement already satisfied: atari-py in .\\venv\\lib\\site-packages (0.2.9)\n",
      "Requirement already satisfied: numpy in .\\venv\\lib\\site-packages (from atari-py) (1.21.2)\n",
      "Requirement already satisfied: six in .\\venv\\lib\\site-packages (from atari-py) (1.16.0)\n",
      "Requirement already satisfied: matplotlib in .\\venv\\lib\\site-packages (3.4.3)\n",
      "Requirement already satisfied: numpy>=1.16 in .\\venv\\lib\\site-packages (from matplotlib) (1.21.2)\n",
      "Requirement already satisfied: kiwisolver>=1.0.1 in .\\venv\\lib\\site-packages (from matplotlib) (1.3.2)\n",
      "Requirement already satisfied: python-dateutil>=2.7 in .\\venv\\lib\\site-packages (from matplotlib) (2.8.2)\n",
      "Requirement already satisfied: pyparsing>=2.2.1 in .\\venv\\lib\\site-packages (from matplotlib) (2.4.7)\n",
      "Requirement already satisfied: pillow>=6.2.0 in .\\venv\\lib\\site-packages (from matplotlib) (8.3.1)\n",
      "Requirement already satisfied: cycler>=0.10 in .\\venv\\lib\\site-packages (from matplotlib) (0.10.0)\n",
      "Requirement already satisfied: six in .\\venv\\lib\\site-packages (from cycler>=0.10->matplotlib) (1.16.0)\n"
     ]
    }
   ],
   "metadata": {}
  },
  {
   "cell_type": "markdown",
   "source": [
    "### Baixando os Roms do Atari para teste"
   ],
   "metadata": {}
  },
  {
   "cell_type": "code",
   "execution_count": 3,
   "source": [
    "#Instala o pacote para fazer downloads em Python\r\n",
    "!pip install wget\r\n",
    "import wget\r\n",
    "import os\r\n",
    "\r\n",
    "# Só baixa a primeira vez (Se baixar, tem que descompactar)\r\n",
    "if not os.path.isdir('Roms'):\r\n",
    "\r\n",
    "  #função auxiliar p/ apresentar a barra de progresso de download\r\n",
    "  def bar_progress(current, total, width=80):\r\n",
    "    progress_message = 'Baixando: %d%% (%d / %d) bytes' % (current / total * 100, current, total)\r\n",
    "    print(progress_message, end='\\r')\r\n",
    "\r\n",
    "  #baixa o arquivo com as ROMS a partir da url\r\n",
    "  wget.download('http://www.atarimania.com/roms/Roms.rar', out='Roms.rar', bar=bar_progress)\r\n",
    "\r\n",
    "  #wget.download('https://github.com/openai/atari-py/archive/refs/heads/master.zip', out='atari-py.zip', bar=bar_progress)"
   ],
   "outputs": [
    {
     "output_type": "stream",
     "name": "stdout",
     "text": [
      "Requirement already satisfied: wget in .\\venv\\lib\\site-packages (3.2)\n"
     ]
    }
   ],
   "metadata": {}
  },
  {
   "cell_type": "markdown",
   "source": [
    "### Importa as Roms"
   ],
   "metadata": {}
  },
  {
   "cell_type": "code",
   "execution_count": 4,
   "source": [
    "!python -m atari_py.import_roms 'Roms/ROMS/'"
   ],
   "outputs": [],
   "metadata": {}
  },
  {
   "cell_type": "markdown",
   "source": [
    "### Testando o ambiente com o cenário selecionado (SpaceInvaders)"
   ],
   "metadata": {}
  },
  {
   "cell_type": "code",
   "execution_count": null,
   "source": [
    "# Função para salvar a animação como gif (daqui: https://www.tensorflow.org/tutorials/reinforcement_learning/actor_critic)\r\n",
    "# Adaptado pra escrever o episódio e tipo de gif na base.\r\n",
    "\r\n",
    "from PIL import Image, ImageDraw, ImageFont\r\n",
    "from IPython.display import display, HTML\r\n",
    "\r\n",
    "def save_frames_as_gif(frames, path='./', filename='gym_animation', label='sample', auto_output=True):\r\n",
    "    images = []\r\n",
    "\r\n",
    "    font = ImageFont.truetype('arial')\r\n",
    "\r\n",
    "    for index, frame in enumerate(frames):\r\n",
    "        image = Image.fromarray(frame)\r\n",
    "        title = f'{label}-{index}'\r\n",
    "        draw = ImageDraw.Draw(image)\r\n",
    "        width, height = image.size\r\n",
    "        text_w, text_h = draw.textsize(title, font)\r\n",
    "        draw.text((1, height-text_h-1),title,(255,255,255),font=font)\r\n",
    "        images.append(image)\r\n",
    "\r\n",
    "    # loop=0: loop forever, duration=1: play each frame for 1ms (.png pro ImadeD funcionar)\r\n",
    "    fname = f'{path}{filename}-{label}.gif' \r\n",
    "    images[0].save(\r\n",
    "        fname, save_all=True, append_images=images[1:], loop=0, duration=1)\r\n",
    "\r\n",
    "    if auto_output:\r\n",
    "        display(HTML(f'<img src=\"{fname}\" alt=\"ops!\"/>'))\r\n"
   ],
   "outputs": [],
   "metadata": {}
  },
  {
   "cell_type": "code",
   "execution_count": null,
   "source": [
    "#importa a biblioteca gym\r\n",
    "import gym\r\n",
    "\r\n",
    "scenario = 'SpaceInvaders-v4'\r\n",
    "env = gym.make(scenario)\r\n",
    "frames = []\r\n",
    "\r\n",
    "observation = env.reset()\r\n",
    "#define a quantidade de passos de tempo\r\n",
    "for _ in range(1000):\r\n",
    "  #desenha a visualização do ambiente  \r\n",
    "  #env.render()\r\n",
    "  rgb_observation = env.render(mode = 'rgb_array') \r\n",
    "  frames.append(rgb_observation)\r\n",
    "  \r\n",
    "  #toma uma ação de forma aleatória\r\n",
    "  action = env.action_space.sample()\r\n",
    "  #observa o ambiente com a base na ação executada\r\n",
    "  observation, reward, done, info = env.step(action)\r\n",
    "  #adiciona um atraso na execução para melhorar a visualização\r\n",
    "  \r\n",
    "  #time.sleep(0.03)\r\n",
    "\r\n",
    "  #verifica se o agente completou a tarefa\r\n",
    "  if done:\r\n",
    "    #reinicia a simulação\r\n",
    "    observation = env.reset()\r\n",
    "#fecha a visualização\r\n",
    "env.close()\r\n",
    "\r\n",
    "save_frames_as_gif(frames, 'images/', scenario, 'sample')"
   ],
   "outputs": [
    {
     "output_type": "display_data",
     "data": {
      "text/plain": [
       "<IPython.core.display.HTML object>"
      ],
      "text/html": [
       "<img src=\"images/SpaceInvaders-v4-sample.gif\" alt=\"ops!\" align=top/>"
      ]
     },
     "metadata": {}
    }
   ],
   "metadata": {}
  },
  {
   "cell_type": "markdown",
   "source": [
    "## Escolhendo os algoritmos e treinando\r\n",
    "\r\n",
    "De acordo com a documentação do stable baselines 3, o space invaders possui os algoritmos A2C, PPO, DQN e QT-DQN.\r\n",
    "\r\n",
    "Selecionei A2C, PPO e DQN pois são contemplados também no zoo."
   ],
   "metadata": {}
  },
  {
   "cell_type": "code",
   "execution_count": 67,
   "source": [
    "%%time\r\n",
    "# Treina e salva os modelos\r\n",
    "from stable_baselines3 import PPO, A2C, DQN\r\n",
    "\r\n",
    "PPO('MlpPolicy', scenario, tensorboard_log=f\"./tensorboard/{scenario}-PPO/\") \\\r\n",
    "    .learn(10000, tb_log_name=\"first_run\").save(f'models/{scenario}-PPO')\r\n",
    "\r\n",
    "A2C('MlpPolicy', scenario, tensorboard_log=f\"./tensorboard/{scenario}-A2C/\") \\\r\n",
    "    .learn(10000, tb_log_name=\"first_run\").save(f'models/{scenario}-A2C')\r\n",
    "\r\n",
    "# Precisei diminuir o Buffer (1M para 50k) pra caber na memória da minha máquina\r\n",
    "DQN('MlpPolicy', scenario, tensorboard_log=f\"./tensorboard/{scenario}-DQN/\" \\\r\n",
    "    , optimize_memory_usage=True, buffer_size=50000) \\\r\n",
    "    .learn(10000, tb_log_name=\"first_run\").save(f'models/{scenario}-DQN')"
   ],
   "outputs": [
    {
     "output_type": "stream",
     "name": "stdout",
     "text": [
      "Wall time: 12min 10s\n"
     ]
    }
   ],
   "metadata": {}
  },
  {
   "cell_type": "markdown",
   "source": [
    "## Carregando e avaliando os modelos"
   ],
   "metadata": {}
  },
  {
   "cell_type": "markdown",
   "source": [
    "### Avaliando no tensorboard do treino base\r\n",
    "\r\n",
    "Na avaliação do stable baselines3 treinado no notebook temos o A2C como melhor algoritmo. Porém, o DQN rodou menos que os outros. Talvez tivesse potencial de passar.\r\n",
    "\r\n",
    "![Comparação dos indicadores do TensorFlow no stable baselines3](images/tensor-comparison-training-stables.png)"
   ],
   "metadata": {}
  },
  {
   "cell_type": "markdown",
   "source": [
    "### Gravando vídeos de referência e avaliando modelo treinado"
   ],
   "metadata": {}
  },
  {
   "cell_type": "code",
   "execution_count": 72,
   "source": [
    "from stable_baselines3.common.evaluation import evaluate_policy\r\n",
    "\r\n",
    "# Carrega e grava um vídeo por 100 episódios mas avalia por 10 (PPO) - 10 foi mto pouco pra ficar algo visível no gif\r\n",
    "def evaluate(algo_class, episodes=100):\r\n",
    "  env = gym.make(scenario)\r\n",
    "\r\n",
    "  algo_name = algo_class.__name__\r\n",
    "  trained_model = algo_class.load(f\"models/{scenario}-{algo_name}\", verbose=1)\r\n",
    "  env = gym.make(scenario)\r\n",
    "\r\n",
    "  frames = []\r\n",
    "  obs = env.reset()\r\n",
    "  for i in range(episodes):\r\n",
    "      action, _states = trained_model.predict(obs, deterministic=True)\r\n",
    "      obs, reward, done, info = env.step(action)\r\n",
    "      \r\n",
    "      # Para ver na tela\r\n",
    "      #env.render()\r\n",
    "\r\n",
    "      rgb_observation = env.render(mode = 'rgb_array') \r\n",
    "      frames.append(rgb_observation)\r\n",
    "\r\n",
    "      if done:\r\n",
    "        obs = env.reset()\r\n",
    "\r\n",
    "  env.close()\r\n",
    "\r\n",
    "  save_frames_as_gif(frames, 'images/', scenario, algo_name)\r\n",
    "\r\n",
    "  # Avalia 10\r\n",
    "  mean_reward, std_reward = evaluate_policy(trained_model, env, n_eval_episodes=10, deterministic=True, warn=False)\r\n",
    "\r\n",
    "  print(f\"{scenario} - {algo_name}: mean_reward={mean_reward:.2f} +/- {std_reward}\")\r\n",
    "\r\n",
    "evaluate(PPO)\r\n",
    "evaluate(A2C)\r\n",
    "evaluate(DQN)"
   ],
   "outputs": [
    {
     "output_type": "stream",
     "name": "stdout",
     "text": [
      "e:\\temp\\rl_exe1\n"
     ]
    },
    {
     "output_type": "display_data",
     "data": {
      "text/plain": [
       "<IPython.core.display.HTML object>"
      ],
      "text/html": [
       "<img src=\"images/SpaceInvaders-v4-PPO.gif\" alt=\"ops!\" align=top/>"
      ]
     },
     "metadata": {}
    },
    {
     "output_type": "stream",
     "name": "stdout",
     "text": [
      "SpaceInvaders-v4 - PPO: mean_reward=226.50 +/- 151.16299150255\n"
     ]
    },
    {
     "output_type": "display_data",
     "data": {
      "text/plain": [
       "<IPython.core.display.HTML object>"
      ],
      "text/html": [
       "<img src=\"images/SpaceInvaders-v4-A2C.gif\" alt=\"ops!\" align=top/>"
      ]
     },
     "metadata": {}
    },
    {
     "output_type": "stream",
     "name": "stdout",
     "text": [
      "SpaceInvaders-v4 - A2C: mean_reward=285.00 +/- 0.0\n"
     ]
    },
    {
     "output_type": "display_data",
     "data": {
      "text/plain": [
       "<IPython.core.display.HTML object>"
      ],
      "text/html": [
       "<img src=\"images/SpaceInvaders-v4-DQN.gif\" alt=\"ops!\" align=top/>"
      ]
     },
     "metadata": {}
    },
    {
     "output_type": "stream",
     "name": "stdout",
     "text": [
      "SpaceInvaders-v4 - DQN: mean_reward=270.00 +/- 0.0\n"
     ]
    }
   ],
   "metadata": {}
  },
  {
   "cell_type": "markdown",
   "source": [
    "Analisando o resultado, a melhor recompensa foi do A2C. Corrobora com os dados do treino no tensorboard."
   ],
   "metadata": {}
  },
  {
   "cell_type": "markdown",
   "source": [
    "### Comparando com o Zoo"
   ],
   "metadata": {}
  },
  {
   "cell_type": "code",
   "execution_count": 74,
   "source": [
    "# Baixando o código do Stable Baselines3 (recursive para baixar os modelos pré-treinados)\r\n",
    "if not os.path.isdir('rl-baselines3-zoo'):\r\n",
    "    !git clone --recursive https://github.com/DLR-RM/rl-baselines3-zoo.git\r\n",
    "\r\n",
    "#Necessário para o baselines stables se rodar local (Mas optei por usar containers)\r\n",
    "#!pip install -r ./requirements.txt\r\n",
    "\r\n",
    "# Seta diretório raiz no baselines3 para as avaliações\r\n",
    "%cd rl-baselines3-zoo"
   ],
   "outputs": [
    {
     "output_type": "stream",
     "name": "stdout",
     "text": [
      "e:\\temp\\rl_exe1\\rl-baselines3-zoo\n"
     ]
    }
   ],
   "metadata": {}
  },
  {
   "cell_type": "code",
   "execution_count": 104,
   "source": [
    "trained_scenario = 'SpaceInvadersNoFrameskip-v4'\r\n",
    "\r\n",
    "command = f\"cd /root/code/rl_zoo/ && python scripts/all_plots.py -a ppo a2c dqn --env {trained_scenario} -f rl-trained-agents/\"\r\n",
    "!docker run -t --rm --network host --ipc=host --mount src=\"%cd%\",target=/root/code/rl_zoo,type=bind stablebaselines/rl-baselines3-zoo-cpu:latest bash -c \"{command}\"\r\n"
   ],
   "outputs": [
    {
     "output_type": "stream",
     "name": "stdout",
     "text": [
      "+ Xvfb :1 -screen 0 1024x768x24\n",
      "+ export DISPLAY=:1\n",
      "+ DISPLAY=:1\n",
      "+ display=1\n",
      "+ file=/tmp/.X11-unix/X1\n",
      "+ sleep 1\n",
      "++ seq 1 10\n",
      "+ for i in $(seq 1 10)\n",
      "+ '[' -e /tmp/.X11-unix/X1 ']'\n",
      "+ break\n",
      "+ '[' -e /tmp/.X11-unix/X1 ']'\n",
      "+ exec bash -c 'cd /root/code/rl_zoo/ && python scripts/all_plots.py -a ppo a2c dqn --env SpaceInvadersNoFrameskip-v4 -f rl-trained-agents/'\n",
      "# results_table\n",
      "|       Environments        |       PPO        |       A2C        |       DQN        |\n",
      "|---------------------------|------------------|------------------|------------------|\n",
      "|                           |rl-trained-agents/|rl-trained-agents/|rl-trained-agents/|\n",
      "|SpaceInvadersNoFrameskip-v4|516 +/- 0         |200 +/- 0         |612 +/- 0         |\n"
     ]
    }
   ],
   "metadata": {}
  },
  {
   "cell_type": "markdown",
   "source": [
    "#### Avaliação dos pré-treinados\r\n",
    "\r\n",
    "O importante é a tabela do log acima:\r\n",
    "\r\n",
    "|       Environments        |       PPO        |       A2C        |       DQN        |\r\n",
    "|---------------------------|------------------|------------------|------------------|\r\n",
    "|                           |rl-trained-agents/|rl-trained-agents/|rl-trained-agents/|\r\n",
    "|SpaceInvadersNoFrameskip-v4|516 +/- 0         |200 +/- 0         |612 +/- 0         |\r\n",
    "\r\n",
    "Obs.: Alterando um pouco o código do all_plots para salvar o plot ao invés de mostrar, consegui ilustrar a evolução:\r\n",
    "\r\n",
    "![Plot Agentes Treinados](images/plot.png)\r\n",
    "\r\n",
    "Podemos ver que de saída realmente o A2C se sai melhor. Mas ao decorrer do tempo, os outros se sobressaem. Em especial o DQN."
   ],
   "metadata": {}
  },
  {
   "cell_type": "code",
   "execution_count": 50,
   "source": [
    "from shutil import copyfile\r\n",
    "\r\n",
    "def record_video(algo, steps=1000):\r\n",
    "    # Não funcionou chamando o script do repo... pq no windows não respeita comandos bash por algum motivo. Fallback pro que o script faz com o docker.\r\n",
    "    #!./scripts/run_docker_cpu.sh python train.py --algo a2c --env SpaceInvaders-v4\r\n",
    "    fname = f'final-model-{algo}-SpaceInvadersNoFrameskip-v4-step-0-to-step-1000'\r\n",
    "    path = f\"rl-trained-agents/{algo}/SpaceInvadersNoFrameskip-v4_1/videos/{fname}\"\r\n",
    "    # Adicionei ao comando a parte pra converter o vídeo pra gif. Mais fácil de mostrar no notebook.\r\n",
    "    command = f\"cd /root/code/rl_zoo/ && python -m utils.record_video --algo {algo} --env SpaceInvadersNoFrameskip-v4 -n {steps} \" \\\r\n",
    "        f\"&& ffmpeg -i {path}.mp4 -vf fps=10 {path}.gif -hide_banner -loglevel error\"\r\n",
    "    !docker run -t --rm --network host --ipc=host --mount src=\"%cd%\",target=/root/code/rl_zoo,type=bind stablebaselines/rl-baselines3-zoo-cpu:latest bash -c \"{command}\"\r\n",
    "\r\n",
    "    copyfile(f'{path}.gif', f'../images/{fname}.gif')\r\n",
    "\r\n",
    "# Gravei dos três\r\n",
    "record_video(\"dqn\")\r\n",
    "record_video(\"a2c\")\r\n",
    "record_video(\"dqn\")\r\n"
   ],
   "outputs": [
    {
     "output_type": "stream",
     "name": "stdout",
     "text": [
      "+ export DISPLAY=:1\n",
      "+ DISPLAY=:1\n",
      "+ display=1\n",
      "+ Xvfb :1 -screen 0 1024x768x24\n",
      "+ file=/tmp/.X11-unix/X1\n",
      "+ sleep 1\n",
      "++ seq 1 10\n",
      "+ for i in $(seq 1 10)\n",
      "+ '[' -e /tmp/.X11-unix/X1 ']'\n",
      "+ break\n",
      "+ '[' -e /tmp/.X11-unix/X1 ']'\n",
      "+ exec bash -c 'cd /root/code/rl_zoo/ && python -m utils.record_video --algo ppo --env SpaceInvadersNoFrameskip-v4 -n 1000 && ffmpeg -i rl-trained-agents/ppo/SpaceInvadersNoFrameskip-v4_1/videos/final-model-ppo-SpaceInvadersNoFrameskip-v4-step-0-to-step-1000.mp4 -vf fps=10 rl-trained-agents/ppo/SpaceInvadersNoFrameskip-v4_1/videos/final-model-ppo-SpaceInvadersNoFrameskip-v4-step-0-to-step-1000.gif -hide_banner -loglevel error'\n",
      "Loading latest experiment, id=1\n",
      "Stacking 4 frames\n",
      "Wrapping the env in a VecTransposeImage.\n",
      "Saving video to /root/code/rl_zoo/rl-trained-agents/ppo/SpaceInvadersNoFrameskip-v4_1/videos/final-model-ppo-SpaceInvadersNoFrameskip-v4-step-0-to-step-1000.mp4\n",
      "^C\n",
      "^C\n"
     ]
    }
   ],
   "metadata": {}
  },
  {
   "cell_type": "markdown",
   "source": [
    "### PPO - RL Baselines 3 Zoo:\r\n",
    "![PPO - RL Baselines 3 Zoo](images/final-model-ppo-SpaceInvadersNoFrameskip-v4-step-0-to-step-1000.gif)\r\n",
    "\r\n",
    "### A2C - RL Baselines 3 Zoo:\r\n",
    "![A2C - RL Baselines 3 Zoo](images/final-model-a2c-SpaceInvadersNoFrameskip-v4-step-0-to-step-1000.gif)\r\n",
    "\r\n",
    "### DQN - RL Baselines 3 Zoo:\r\n",
    "![VENCEDOR!!! DQN - RL Baselines 3 Zoo](images/final-model-dqn-SpaceInvadersNoFrameskip-v4-step-0-to-step-1000.gif)\r\n"
   ],
   "metadata": {}
  }
 ],
 "metadata": {
  "kernelspec": {
   "name": "python3",
   "display_name": "Python 3.7.9 64-bit ('venv': venv)"
  },
  "language_info": {
   "codemirror_mode": {
    "name": "ipython",
    "version": 3
   },
   "file_extension": ".py",
   "mimetype": "text/x-python",
   "name": "python",
   "nbconvert_exporter": "python",
   "pygments_lexer": "ipython3",
   "version": "3.7.9"
  },
  "interpreter": {
   "hash": "4337733d7c4f8242ca10155413965bee5981b415db72db4cb080555abb5e32aa"
  }
 },
 "nbformat": 4,
 "nbformat_minor": 4
}