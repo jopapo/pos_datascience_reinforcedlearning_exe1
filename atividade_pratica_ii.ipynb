{
 "cells": [
  {
   "cell_type": "markdown",
   "source": [
    "# Atividade Prática II - Treinamento e Validação de Modelos de RL\r\n",
    "\r\n",
    "**Aluno:** João Paulo Poffo\r\n",
    "\r\n",
    "**Disciplina:** Reinforcement Learning - Turma II\r\n",
    "\r\n",
    "**Data:** 21/08/2021\r\n",
    "\r\n",
    "\r\n",
    "\r\n",
    "Neste trabalho vamos aplicar `Gym`, `Stable-Baselines3` e `RL Baselines Zoo` para lidar com o treinamento e validação de problemas de aprendizado por reforço. Sua tarefa é:\r\n",
    "\r\n",
    "1. Selecionar um cenário da biblioteca `Gym` de sua preferência, desde que este cenário também seja contemplado pelos modelos disponibilizados na `rl baselines zoo`;\r\n",
    "1. Selecionar três algoritmos das biblioteca `Stable-baselines3` para resolver esse problema. Pesquise na documentação da biblioteca quais são os algoritmos mais adequados para o ambiente escolhido e justifique a sua escolha. \r\n",
    "1. Realize o treinamento de cada um dos três modelos ---você pode ajustar os parâmetros do modelos, se achar necessário--- e salve os modelos em disco.\r\n",
    "1. De posse dos modelos treinados e salvos, carregue-os e avalie-os por 10 episódios. Apresente os resultados médios e gere a curva de recompensa acumulada disponibilizada pelo `TensorBoard`.\r\n",
    "1. Compare os resultados dos modelos treinados com os resultados obtidos por modelo(s) existentes no `RL Baselines Zoo` para o cenário escolhido.\r\n",
    "1. Gere um vídeo do melhor modelo que você treinou e do modelo escolhido na `RL Baselines Zoo`. Verifique a documentação de cada biblioteca sobre a criação do vídeo e visualização em Notebooks.\r\n",
    "\r\n",
    "\r\n",
    "\r\n",
    "* **Data de entrega:** 04/09/2021\r\n",
    "* **Local de envio:** AVA.\r\n",
    "* **Tipo de documento:** Notebook (`.ipynb`).\r\n",
    "\r\n"
   ],
   "metadata": {}
  },
  {
   "cell_type": "markdown",
   "source": [
    "## Preparação do ambiente"
   ],
   "metadata": {}
  },
  {
   "cell_type": "code",
   "execution_count": 2,
   "source": [
    "# Precisa instalar o swig pra windows pra funcionar o box2d-py (necessário para o atari - http://swig.org/Doc4.0/Windows.html#Windows)\r\n",
    "# Obs: Não adianta copiar o exe para o bin. Tem que adicionar a pasta do swig no path\r\n",
    "!pip install cmake\r\n",
    "\r\n",
    "!pip install gym[all]\r\n",
    "\r\n",
    "!pip install atari-py\r\n",
    "\r\n",
    "!pip install matplotlib"
   ],
   "outputs": [
    {
     "output_type": "stream",
     "name": "stdout",
     "text": [
      "Requirement already satisfied: cmake in .\\venv\\lib\\site-packages (3.21.2)\n",
      "Requirement already satisfied: gym[all] in .\\venv\\lib\\site-packages (0.19.0)\n",
      "Requirement already satisfied: numpy>=1.18.0 in .\\venv\\lib\\site-packages (from gym[all]) (1.21.2)\n",
      "Requirement already satisfied: cloudpickle<1.7.0,>=1.2.0 in .\\venv\\lib\\site-packages (from gym[all]) (1.6.0)\n",
      "Requirement already satisfied: scipy in .\\venv\\lib\\site-packages (from gym[all]) (1.7.1)\n",
      "Requirement already satisfied: opencv-python>=3. in .\\venv\\lib\\site-packages (from gym[all]) (4.5.3.56)\n",
      "Collecting atari-py==0.2.6\n",
      "  Using cached atari_py-0.2.6-cp37-cp37m-win_amd64.whl (1.8 MB)\n",
      "Collecting mujoco-py<2.0,>=1.50\n",
      "  Using cached mujoco-py-1.50.1.68.tar.gz (120 kB)\n",
      "Requirement already satisfied: pyglet>=1.4.0 in .\\venv\\lib\\site-packages (from gym[all]) (1.5.19)\n"
     ]
    },
    {
     "output_type": "stream",
     "name": "stderr",
     "text": [
      "WARNING: The candidate selected for download or install is a yanked version: 'atari-py' candidate (version 0.2.6 at https://files.pythonhosted.org/packages/df/c3/f70777c0a66fa8a26cbf471c4d96e304f5cf79718ea734880b4b36bc95fd/atari_py-0.2.6-cp37-cp37m-win_amd64.whl#sha256=ac3315c7a1d6cfb09f043e7971598cb53a749393b150614986a0eab28b049aea (from https://pypi.org/simple/atari-py/))\n",
      "Reason for being yanked: re-release with new wheels\n",
      "  ERROR: Command errored out with exit status 1:\n",
      "   command: 'E:\\temp\\rl_exe1\\venv\\Scripts\\python.exe' -u -c 'import io, os, sys, setuptools, tokenize; sys.argv[0] = '\"'\"'C:\\\\Users\\\\joao.poffo\\\\AppData\\\\Local\\\\Temp\\\\pip-install-yeylubu5\\\\mujoco-py_140ebdafec404e5889ab1373f3f65b5c\\\\setup.py'\"'\"'; __file__='\"'\"'C:\\\\Users\\\\joao.poffo\\\\AppData\\\\Local\\\\Temp\\\\pip-install-yeylubu5\\\\mujoco-py_140ebdafec404e5889ab1373f3f65b5c\\\\setup.py'\"'\"';f = getattr(tokenize, '\"'\"'open'\"'\"', open)(__file__) if os.path.exists(__file__) else io.StringIO('\"'\"'from setuptools import setup; setup()'\"'\"');code = f.read().replace('\"'\"'\\r\\n'\"'\"', '\"'\"'\\n'\"'\"');f.close();exec(compile(code, __file__, '\"'\"'exec'\"'\"'))' bdist_wheel -d 'C:\\Users\\joao.poffo\\AppData\\Local\\Temp\\pip-wheel-zeqi7wmh'\n",
      "       cwd: C:\\Users\\joao.poffo\\AppData\\Local\\Temp\\pip-install-yeylubu5\\mujoco-py_140ebdafec404e5889ab1373f3f65b5c\\\n",
      "  Complete output (54 lines):\n",
      "  running bdist_wheel\n",
      "  running build\n",
      "  \n",
      "  You appear to be missing MuJoCo.  We expected to find the file here: C:\\Users\\joao.poffo\\.mujoco\\mjpro150\n",
      "  \n",
      "  This package only provides python bindings, the library must be installed separately.\n",
      "  \n",
      "  Please follow the instructions on the README to install MuJoCo\n",
      "  \n",
      "      https://github.com/openai/mujoco-py#install-mujoco\n",
      "  \n",
      "  Which can be downloaded from the website\n",
      "  \n"
     ]
    },
    {
     "output_type": "stream",
     "name": "stdout",
     "text": [
      "Requirement already satisfied: imageio in .\\venv\\lib\\site-packages (from gym[all]) (2.9.0)\n",
      "Requirement already satisfied: box2d-py~=2.3.5 in .\\venv\\lib\\site-packages (from gym[all]) (2.3.8)\n",
      "Requirement already satisfied: six in .\\venv\\lib\\site-packages (from atari-py==0.2.6->gym[all]) (1.16.0)\n",
      "Requirement already satisfied: glfw>=1.4.0 in .\\venv\\lib\\site-packages (from mujoco-py<2.0,>=1.50->gym[all]) (2.1.0)\n",
      "Requirement already satisfied: Cython>=0.27.2 in .\\venv\\lib\\site-packages (from mujoco-py<2.0,>=1.50->gym[all]) (0.29.24)\n",
      "Requirement already satisfied: cffi>=1.10 in .\\venv\\lib\\site-packages (from mujoco-py<2.0,>=1.50->gym[all]) (1.14.6)\n",
      "Requirement already satisfied: lockfile>=0.12.2 in .\\venv\\lib\\site-packages (from mujoco-py<2.0,>=1.50->gym[all]) (0.12.2)\n",
      "Requirement already satisfied: pycparser in .\\venv\\lib\\site-packages (from cffi>=1.10->mujoco-py<2.0,>=1.50->gym[all]) (2.20)\n",
      "Requirement already satisfied: pillow in .\\venv\\lib\\site-packages (from imageio->gym[all]) (8.3.1)\n",
      "Building wheels for collected packages: mujoco-py\n",
      "  Building wheel for mujoco-py (setup.py): started\n",
      "  Building wheel for mujoco-py (setup.py): finished with status 'error'\n",
      "  Running setup.py clean for mujoco-py\n",
      "Failed to build mujoco-py\n",
      "Installing collected packages: mujoco-py, atari-py\n",
      "    Running setup.py install for mujoco-py: started\n",
      "    Running setup.py install for mujoco-py: finished with status 'error'\n"
     ]
    },
    {
     "output_type": "stream",
     "name": "stderr",
     "text": [
      "      https://www.roboti.us/index.html\n",
      "  \n",
      "  Traceback (most recent call last):\n",
      "    File \"<string>\", line 1, in <module>\n",
      "    File \"C:\\Users\\joao.poffo\\AppData\\Local\\Temp\\pip-install-yeylubu5\\mujoco-py_140ebdafec404e5889ab1373f3f65b5c\\setup.py\", line 44, in <module>\n",
      "      tests_require=read_requirements_file('requirements.dev.txt'),\n",
      "    File \"E:\\temp\\rl_exe1\\venv\\lib\\site-packages\\setuptools\\__init__.py\", line 153, in setup\n",
      "      return distutils.core.setup(**attrs)\n",
      "    File \"e:\\apps\\python37\\lib\\distutils\\core.py\", line 148, in setup\n",
      "      dist.run_commands()\n",
      "    File \"e:\\apps\\python37\\lib\\distutils\\dist.py\", line 966, in run_commands\n",
      "      self.run_command(cmd)\n",
      "    File \"e:\\apps\\python37\\lib\\distutils\\dist.py\", line 985, in run_command\n",
      "      cmd_obj.run()\n",
      "    File \"E:\\temp\\rl_exe1\\venv\\lib\\site-packages\\wheel\\bdist_wheel.py\", line 299, in run\n",
      "      self.run_command('build')\n",
      "    File \"e:\\apps\\python37\\lib\\distutils\\cmd.py\", line 313, in run_command\n",
      "      self.distribution.run_command(command)\n",
      "    File \"e:\\apps\\python37\\lib\\distutils\\dist.py\", line 985, in run_command\n",
      "      cmd_obj.run()\n",
      "    File \"C:\\Users\\joao.poffo\\AppData\\Local\\Temp\\pip-install-yeylubu5\\mujoco-py_140ebdafec404e5889ab1373f3f65b5c\\setup.py\", line 28, in run\n",
      "      import mujoco_py  # noqa: force build\n",
      "    File \"C:\\Users\\joao.poffo\\AppData\\Local\\Temp\\pip-install-yeylubu5\\mujoco-py_140ebdafec404e5889ab1373f3f65b5c\\mujoco_py\\__init__.py\", line 3, in <module>\n",
      "      from mujoco_py.builder import cymj, ignore_mujoco_warnings, functions, MujocoException\n",
      "    File \"C:\\Users\\joao.poffo\\AppData\\Local\\Temp\\pip-install-yeylubu5\\mujoco-py_140ebdafec404e5889ab1373f3f65b5c\\mujoco_py\\builder.py\", line 502, in <module>\n",
      "      mjpro_path, key_path = discover_mujoco()\n",
      "    File \"C:\\Users\\joao.poffo\\AppData\\Local\\Temp\\pip-install-yeylubu5\\mujoco-py_140ebdafec404e5889ab1373f3f65b5c\\mujoco_py\\utils.py\", line 93, in discover_mujoco\n",
      "      raise Exception(message)\n",
      "  Exception:\n",
      "  You appear to be missing MuJoCo.  We expected to find the file here: C:\\Users\\joao.poffo\\.mujoco\\mjpro150\n",
      "  \n",
      "  This package only provides python bindings, the library must be installed separately.\n",
      "  \n",
      "  Please follow the instructions on the README to install MuJoCo\n",
      "  \n",
      "      https://github.com/openai/mujoco-py#install-mujoco\n",
      "  \n",
      "  Which can be downloaded from the website\n",
      "  \n",
      "      https://www.roboti.us/index.html\n",
      "  \n",
      "  ----------------------------------------\n",
      "  ERROR: Failed building wheel for mujoco-py\n",
      "    ERROR: Command errored out with exit status 1:\n",
      "     command: 'E:\\temp\\rl_exe1\\venv\\Scripts\\python.exe' -u -c 'import io, os, sys, setuptools, tokenize; sys.argv[0] = '\"'\"'C:\\\\Users\\\\joao.poffo\\\\AppData\\\\Local\\\\Temp\\\\pip-install-yeylubu5\\\\mujoco-py_140ebdafec404e5889ab1373f3f65b5c\\\\setup.py'\"'\"'; __file__='\"'\"'C:\\\\Users\\\\joao.poffo\\\\AppData\\\\Local\\\\Temp\\\\pip-install-yeylubu5\\\\mujoco-py_140ebdafec404e5889ab1373f3f65b5c\\\\setup.py'\"'\"';f = getattr(tokenize, '\"'\"'open'\"'\"', open)(__file__) if os.path.exists(__file__) else io.StringIO('\"'\"'from setuptools import setup; setup()'\"'\"');code = f.read().replace('\"'\"'\\r\\n'\"'\"', '\"'\"'\\n'\"'\"');f.close();exec(compile(code, __file__, '\"'\"'exec'\"'\"'))' install --record 'C:\\Users\\joao.poffo\\AppData\\Local\\Temp\\pip-record-z2mfu9m2\\install-record.txt' --single-version-externally-managed --compile --install-headers 'E:\\temp\\rl_exe1\\venv\\include\\site\\python3.7\\mujoco-py'\n",
      "         cwd: C:\\Users\\joao.poffo\\AppData\\Local\\Temp\\pip-install-yeylubu5\\mujoco-py_140ebdafec404e5889ab1373f3f65b5c\\\n",
      "    Complete output (56 lines):\n",
      "    running install\n",
      "    running build\n",
      "    \n",
      "    You appear to be missing MuJoCo.  We expected to find the file here: C:\\Users\\joao.poffo\\.mujoco\\mjpro150\n",
      "    \n",
      "    This package only provides python bindings, the library must be installed separately.\n",
      "    \n",
      "    Please follow the instructions on the README to install MuJoCo\n",
      "    \n",
      "        https://github.com/openai/mujoco-py#install-mujoco\n",
      "    \n",
      "    Which can be downloaded from the website\n",
      "    \n",
      "        https://www.roboti.us/index.html\n",
      "    \n",
      "    Traceback (most recent call last):\n",
      "      File \"<string>\", line 1, in <module>\n",
      "      File \"C:\\Users\\joao.poffo\\AppData\\Local\\Temp\\pip-install-yeylubu5\\mujoco-py_140ebdafec404e5889ab1373f3f65b5c\\setup.py\", line 44, in <module>\n",
      "        tests_require=read_requirements_file('requirements.dev.txt'),\n",
      "      File \"E:\\temp\\rl_exe1\\venv\\lib\\site-packages\\setuptools\\__init__.py\", line 153, in setup\n",
      "        return distutils.core.setup(**attrs)\n",
      "      File \"e:\\apps\\python37\\lib\\distutils\\core.py\", line 148, in setup\n",
      "        dist.run_commands()\n",
      "      File \"e:\\apps\\python37\\lib\\distutils\\dist.py\", line 966, in run_commands\n",
      "        self.run_command(cmd)\n",
      "      File \"e:\\apps\\python37\\lib\\distutils\\dist.py\", line 985, in run_command\n",
      "        cmd_obj.run()\n",
      "      File \"E:\\temp\\rl_exe1\\venv\\lib\\site-packages\\setuptools\\command\\install.py\", line 61, in run\n",
      "        return orig.install.run(self)\n",
      "      File \"e:\\apps\\python37\\lib\\distutils\\command\\install.py\", line 545, in run\n",
      "        self.run_command('build')\n",
      "      File \"e:\\apps\\python37\\lib\\distutils\\cmd.py\", line 313, in run_command\n",
      "        self.distribution.run_command(command)\n",
      "      File \"e:\\apps\\python37\\lib\\distutils\\dist.py\", line 985, in run_command\n",
      "        cmd_obj.run()\n",
      "      File \"C:\\Users\\joao.poffo\\AppData\\Local\\Temp\\pip-install-yeylubu5\\mujoco-py_140ebdafec404e5889ab1373f3f65b5c\\setup.py\", line 28, in run\n",
      "        import mujoco_py  # noqa: force build\n",
      "      File \"C:\\Users\\joao.poffo\\AppData\\Local\\Temp\\pip-install-yeylubu5\\mujoco-py_140ebdafec404e5889ab1373f3f65b5c\\mujoco_py\\__init__.py\", line 3, in <module>\n",
      "        from mujoco_py.builder import cymj, ignore_mujoco_warnings, functions, MujocoException\n",
      "      File \"C:\\Users\\joao.poffo\\AppData\\Local\\Temp\\pip-install-yeylubu5\\mujoco-py_140ebdafec404e5889ab1373f3f65b5c\\mujoco_py\\builder.py\", line 502, in <module>\n",
      "        mjpro_path, key_path = discover_mujoco()\n",
      "      File \"C:\\Users\\joao.poffo\\AppData\\Local\\Temp\\pip-install-yeylubu5\\mujoco-py_140ebdafec404e5889ab1373f3f65b5c\\mujoco_py\\utils.py\", line 93, in discover_mujoco\n",
      "        raise Exception(message)\n",
      "    Exception:\n",
      "    You appear to be missing MuJoCo.  We expected to find the file here: C:\\Users\\joao.poffo\\.mujoco\\mjpro150\n",
      "    \n",
      "    This package only provides python bindings, the library must be installed separately.\n",
      "    \n",
      "    Please follow the instructions on the README to install MuJoCo\n",
      "    \n",
      "        https://github.com/openai/mujoco-py#install-mujoco\n",
      "    \n",
      "    Which can be downloaded from the website\n",
      "    \n",
      "        https://www.roboti.us/index.html\n",
      "    \n",
      "    ----------------------------------------\n",
      "ERROR: Command errored out with exit status 1: 'E:\\temp\\rl_exe1\\venv\\Scripts\\python.exe' -u -c 'import io, os, sys, setuptools, tokenize; sys.argv[0] = '\"'\"'C:\\\\Users\\\\joao.poffo\\\\AppData\\\\Local\\\\Temp\\\\pip-install-yeylubu5\\\\mujoco-py_140ebdafec404e5889ab1373f3f65b5c\\\\setup.py'\"'\"'; __file__='\"'\"'C:\\\\Users\\\\joao.poffo\\\\AppData\\\\Local\\\\Temp\\\\pip-install-yeylubu5\\\\mujoco-py_140ebdafec404e5889ab1373f3f65b5c\\\\setup.py'\"'\"';f = getattr(tokenize, '\"'\"'open'\"'\"', open)(__file__) if os.path.exists(__file__) else io.StringIO('\"'\"'from setuptools import setup; setup()'\"'\"');code = f.read().replace('\"'\"'\\r\\n'\"'\"', '\"'\"'\\n'\"'\"');f.close();exec(compile(code, __file__, '\"'\"'exec'\"'\"'))' install --record 'C:\\Users\\joao.poffo\\AppData\\Local\\Temp\\pip-record-z2mfu9m2\\install-record.txt' --single-version-externally-managed --compile --install-headers 'E:\\temp\\rl_exe1\\venv\\include\\site\\python3.7\\mujoco-py' Check the logs for full command output.\n"
     ]
    },
    {
     "output_type": "stream",
     "name": "stdout",
     "text": [
      "Requirement already satisfied: atari-py in .\\venv\\lib\\site-packages (0.2.9)\n",
      "Requirement already satisfied: numpy in .\\venv\\lib\\site-packages (from atari-py) (1.21.2)\n",
      "Requirement already satisfied: six in .\\venv\\lib\\site-packages (from atari-py) (1.16.0)\n",
      "Requirement already satisfied: matplotlib in .\\venv\\lib\\site-packages (3.4.3)\n",
      "Requirement already satisfied: numpy>=1.16 in .\\venv\\lib\\site-packages (from matplotlib) (1.21.2)\n",
      "Requirement already satisfied: kiwisolver>=1.0.1 in .\\venv\\lib\\site-packages (from matplotlib) (1.3.2)\n",
      "Requirement already satisfied: python-dateutil>=2.7 in .\\venv\\lib\\site-packages (from matplotlib) (2.8.2)\n",
      "Requirement already satisfied: pyparsing>=2.2.1 in .\\venv\\lib\\site-packages (from matplotlib) (2.4.7)\n",
      "Requirement already satisfied: pillow>=6.2.0 in .\\venv\\lib\\site-packages (from matplotlib) (8.3.1)\n",
      "Requirement already satisfied: cycler>=0.10 in .\\venv\\lib\\site-packages (from matplotlib) (0.10.0)\n",
      "Requirement already satisfied: six in .\\venv\\lib\\site-packages (from cycler>=0.10->matplotlib) (1.16.0)\n"
     ]
    }
   ],
   "metadata": {}
  },
  {
   "cell_type": "markdown",
   "source": [
    "### Baixando os Roms do Atari para teste"
   ],
   "metadata": {}
  },
  {
   "cell_type": "code",
   "execution_count": 3,
   "source": [
    "#Instala o pacote para fazer downloads em Python\r\n",
    "!pip install wget\r\n",
    "import wget\r\n",
    "import os\r\n",
    "\r\n",
    "# Só baixa a primeira vez (Se baixar, tem que descompactar)\r\n",
    "if not os.path.isdir('Roms'):\r\n",
    "\r\n",
    "  #função auxiliar p/ apresentar a barra de progresso de download\r\n",
    "  def bar_progress(current, total, width=80):\r\n",
    "    progress_message = 'Baixando: %d%% (%d / %d) bytes' % (current / total * 100, current, total)\r\n",
    "    print(progress_message, end='\\r')\r\n",
    "\r\n",
    "  #baixa o arquivo com as ROMS a partir da url\r\n",
    "  wget.download('http://www.atarimania.com/roms/Roms.rar', out='Roms.rar', bar=bar_progress)\r\n",
    "\r\n",
    "  #wget.download('https://github.com/openai/atari-py/archive/refs/heads/master.zip', out='atari-py.zip', bar=bar_progress)"
   ],
   "outputs": [
    {
     "output_type": "stream",
     "name": "stdout",
     "text": [
      "Requirement already satisfied: wget in .\\venv\\lib\\site-packages (3.2)\n"
     ]
    }
   ],
   "metadata": {}
  },
  {
   "cell_type": "markdown",
   "source": [
    "### Importa as Roms"
   ],
   "metadata": {}
  },
  {
   "cell_type": "code",
   "execution_count": 4,
   "source": [
    "!python -m atari_py.import_roms 'Roms/ROMS/'"
   ],
   "outputs": [],
   "metadata": {}
  },
  {
   "cell_type": "markdown",
   "source": [
    "### Testando o ambiente com o cenário selecionado (SpaceInvaders)"
   ],
   "metadata": {}
  },
  {
   "cell_type": "code",
   "execution_count": null,
   "source": [
    "# Função para salvar a animação como gif (daqui: https://www.tensorflow.org/tutorials/reinforcement_learning/actor_critic)\r\n",
    "# Adaptado pra escrever o episódio e tipo de gif na base.\r\n",
    "\r\n",
    "from PIL import Image, ImageDraw, ImageFont\r\n",
    "from IPython.display import display, HTML\r\n",
    "\r\n",
    "def save_frames_as_gif(frames, path='./', filename='gym_animation', label='sample', auto_output=True):\r\n",
    "    images = []\r\n",
    "\r\n",
    "    font = ImageFont.truetype('arial')\r\n",
    "\r\n",
    "    for index, frame in enumerate(frames):\r\n",
    "        image = Image.fromarray(frame)\r\n",
    "        title = f'{label}-{index}'\r\n",
    "        draw = ImageDraw.Draw(image)\r\n",
    "        width, height = image.size\r\n",
    "        text_w, text_h = draw.textsize(title, font)\r\n",
    "        draw.text((1, height-text_h-1),title,(255,255,255),font=font)\r\n",
    "        images.append(image)\r\n",
    "\r\n",
    "    # loop=0: loop forever, duration=1: play each frame for 1ms (.png pro ImadeD funcionar)\r\n",
    "    fname = f'{path}{filename}-{label}.gif' \r\n",
    "    images[0].save(\r\n",
    "        fname, save_all=True, append_images=images[1:], loop=0, duration=1)\r\n",
    "\r\n",
    "    if auto_output:\r\n",
    "        display(HTML(f'<img src=\"{fname}\" alt=\"ops!\"/>'))\r\n"
   ],
   "outputs": [],
   "metadata": {}
  },
  {
   "cell_type": "code",
   "execution_count": null,
   "source": [
    "#importa a biblioteca gym\r\n",
    "import gym\r\n",
    "\r\n",
    "scenario = 'SpaceInvaders-v4'\r\n",
    "env = gym.make(scenario)\r\n",
    "frames = []\r\n",
    "\r\n",
    "observation = env.reset()\r\n",
    "#define a quantidade de passos de tempo\r\n",
    "for _ in range(1000):\r\n",
    "  #desenha a visualização do ambiente  \r\n",
    "  #env.render()\r\n",
    "  rgb_observation = env.render(mode = 'rgb_array') \r\n",
    "  frames.append(rgb_observation)\r\n",
    "  \r\n",
    "  #toma uma ação de forma aleatória\r\n",
    "  action = env.action_space.sample()\r\n",
    "  #observa o ambiente com a base na ação executada\r\n",
    "  observation, reward, done, info = env.step(action)\r\n",
    "  #adiciona um atraso na execução para melhorar a visualização\r\n",
    "  \r\n",
    "  #time.sleep(0.03)\r\n",
    "\r\n",
    "  #verifica se o agente completou a tarefa\r\n",
    "  if done:\r\n",
    "    #reinicia a simulação\r\n",
    "    observation = env.reset()\r\n",
    "#fecha a visualização\r\n",
    "env.close()\r\n",
    "\r\n",
    "save_frames_as_gif(frames, 'images/', scenario, 'sample')"
   ],
   "outputs": [
    {
     "output_type": "display_data",
     "data": {
      "text/plain": [
       "<IPython.core.display.HTML object>"
      ],
      "text/html": [
       "<img src=\"images/SpaceInvaders-v4-sample.gif\" alt=\"ops!\" align=top/>"
      ]
     },
     "metadata": {}
    }
   ],
   "metadata": {}
  },
  {
   "cell_type": "markdown",
   "source": [
    "## Escolhendo os algoritmos e treinando\r\n",
    "\r\n",
    "De acordo com a documentação do stable baselines 3, o space invaders possui os algoritmos A2C, PPO, DQN e QT-DQN.\r\n",
    "\r\n",
    "Selecionei A2C, PPO e DQN pois são contemplados também no zoo."
   ],
   "metadata": {}
  },
  {
   "cell_type": "code",
   "execution_count": 67,
   "source": [
    "%%time\r\n",
    "# Treina e salva os modelos\r\n",
    "from stable_baselines3 import PPO, A2C, DQN\r\n",
    "\r\n",
    "PPO('MlpPolicy', scenario, tensorboard_log=f\"./tensorboard/{scenario}-PPO/\") \\\r\n",
    "    .learn(10000, tb_log_name=\"first_run\").save(f'models/{scenario}-PPO')\r\n",
    "\r\n",
    "A2C('MlpPolicy', scenario, tensorboard_log=f\"./tensorboard/{scenario}-A2C/\") \\\r\n",
    "    .learn(10000, tb_log_name=\"first_run\").save(f'models/{scenario}-A2C')\r\n",
    "\r\n",
    "# Precisei diminuir o Buffer (1M para 50k) pra caber na memória da minha máquina\r\n",
    "DQN('MlpPolicy', scenario, tensorboard_log=f\"./tensorboard/{scenario}-DQN/\" \\\r\n",
    "    , optimize_memory_usage=True, buffer_size=50000) \\\r\n",
    "    .learn(10000, tb_log_name=\"first_run\").save(f'models/{scenario}-DQN')"
   ],
   "outputs": [
    {
     "output_type": "stream",
     "name": "stdout",
     "text": [
      "Wall time: 12min 10s\n"
     ]
    }
   ],
   "metadata": {}
  },
  {
   "cell_type": "markdown",
   "source": [
    "## Carregando e avaliando os modelos"
   ],
   "metadata": {}
  },
  {
   "cell_type": "markdown",
   "source": [
    "### Avaliando no tensorboard do treino base\r\n",
    "\r\n",
    "Na avaliação do stable baselines3 treinado no notebook temos o A2C como melhor algoritmo. Porém, o DQN rodou menos que os outros. Talvez tivesse potencial de passar.\r\n",
    "\r\n",
    "![Comparação dos indicadores do TensorFlow no stable baselines3](images/tensor-comparison-training-stables.png)"
   ],
   "metadata": {}
  },
  {
   "cell_type": "markdown",
   "source": [
    "### Gravando vídeos de referência e avaliando modelo treinado"
   ],
   "metadata": {}
  },
  {
   "cell_type": "code",
   "execution_count": 68,
   "source": [
    "from stable_baselines3.common.evaluation import evaluate_policy\r\n",
    "\r\n",
    "# Carrega e grava um vídeo por 100 episódios mas avalia por 10 (PPO) - 10 foi mto pouco pra ficar algo visível no gif\r\n",
    "def evaluate(algo_class, episodes=100):\r\n",
    "  env = gym.make(scenario)\r\n",
    "\r\n",
    "  algo_name = algo_class.__name__\r\n",
    "  trained_model = algo_class.load(f\"models/{scenario}-{algo_name}\", verbose=1)\r\n",
    "  env = gym.make(scenario)\r\n",
    "\r\n",
    "  frames = []\r\n",
    "  obs = env.reset()\r\n",
    "  for i in range(episodes):\r\n",
    "      action, _states = trained_model.predict(obs, deterministic=True)\r\n",
    "      obs, reward, done, info = env.step(action)\r\n",
    "      \r\n",
    "      # Para ver na tela\r\n",
    "      #env.render()\r\n",
    "\r\n",
    "      rgb_observation = env.render(mode = 'rgb_array') \r\n",
    "      frames.append(rgb_observation)\r\n",
    "\r\n",
    "      if done:\r\n",
    "        obs = env.reset()\r\n",
    "\r\n",
    "  env.close()\r\n",
    "\r\n",
    "  save_frames_as_gif(frames, 'images/', scenario, algo_name)\r\n",
    "\r\n",
    "  # Avalia 10\r\n",
    "  mean_reward, std_reward = evaluate_policy(trained_model, env, n_eval_episodes=10, deterministic=True, warn=False)\r\n",
    "\r\n",
    "  print(f\"{scenario} - {algo_name}: mean_reward={mean_reward:.2f} +/- {std_reward}\")\r\n",
    "\r\n",
    "evaluate(PPO)\r\n",
    "evaluate(A2C)\r\n",
    "evaluate(DQN)"
   ],
   "outputs": [
    {
     "output_type": "display_data",
     "data": {
      "text/plain": [
       "<IPython.core.display.HTML object>"
      ],
      "text/html": [
       "<img src=\"images/SpaceInvaders-v4-PPO.gif\" alt=\"ops!\" align=top/>"
      ]
     },
     "metadata": {}
    },
    {
     "output_type": "stream",
     "name": "stdout",
     "text": [
      "SpaceInvaders-v4 - PPO: mean_reward=189.00 +/- 137.1276777313756\n"
     ]
    },
    {
     "output_type": "display_data",
     "data": {
      "text/plain": [
       "<IPython.core.display.HTML object>"
      ],
      "text/html": [
       "<img src=\"images/SpaceInvaders-v4-A2C.gif\" alt=\"ops!\" align=top/>"
      ]
     },
     "metadata": {}
    },
    {
     "output_type": "stream",
     "name": "stdout",
     "text": [
      "SpaceInvaders-v4 - A2C: mean_reward=285.00 +/- 0.0\n"
     ]
    },
    {
     "output_type": "stream",
     "name": "stderr",
     "text": [
      "e:\\temp\\rl_exe1\\venv\\lib\\site-packages\\stable_baselines3\\common\\buffers.py:220: UserWarning: This system does not have apparently enough memory to store the complete replay buffer 5.04GB > 4.96GB\n",
      "  \"This system does not have apparently enough memory to store the complete \"\n"
     ]
    },
    {
     "output_type": "display_data",
     "data": {
      "text/plain": [
       "<IPython.core.display.HTML object>"
      ],
      "text/html": [
       "<img src=\"images/SpaceInvaders-v4-DQN.gif\" alt=\"ops!\" align=top/>"
      ]
     },
     "metadata": {}
    }
   ],
   "metadata": {}
  },
  {
   "cell_type": "markdown",
   "source": [
    "### Comparando com o Zoo"
   ],
   "metadata": {}
  },
  {
   "cell_type": "code",
   "execution_count": 53,
   "source": [
    "# Baixando o código do Stable Baselines3 (recursive para baixar os modelos pré-treinados)\r\n",
    "if not os.path.isdir('rl-baselines3-zoo'):\r\n",
    "    !git clone --recursive https://github.com/DLR-RM/rl-baselines3-zoo.git\r\n",
    "\r\n",
    "#Necessário para o baselines stables se rodar local (Mas optei por usar containers)\r\n",
    "#!pip install -r ./requirements.txt\r\n",
    "\r\n",
    "# Seta diretório raiz no baselines3 para as avaliações\r\n",
    "%cd rl-baselines3-zoo"
   ],
   "outputs": [
    {
     "output_type": "stream",
     "name": "stdout",
     "text": [
      "e:\\temp\\rl_exe1\\rl-baselines3-zoo\n"
     ]
    }
   ],
   "metadata": {}
  },
  {
   "cell_type": "code",
   "execution_count": 54,
   "source": [
    "#scenario = 'SpaceInvaders-v4'\r\n",
    "trained_scenario = 'SpaceInvadersNoFrameskip-v4'\r\n",
    "\r\n",
    "def evaluate(algo, eval_freq=1, eval_episodes=10, n_eval_envs=1):\r\n",
    "    # Adicionei ao comando a parte pra converter o vídeo pra gif. Mais fácil de mostrar no notebook.\r\n",
    "    #command = f\"cd /root/code/rl_zoo/ && python train.py --algo {algo} --env {scenario} --eval-freq {eval_freq} --eval-episodes {eval_episodes} --n-eval-envs {n_eval_envs} --tensorboard-log=tensorboard-logs -i rl-trained-agents/{algo}/{trained_scenario}_1/{trained_scenario}.zip\"\r\n",
    "    command = f\"cd /root/code/rl_zoo/ && python enjoy.py --algo {algo} --env {scenario} --folder rl-trained-agents/ -n 100\"\r\n",
    "    !docker run -t --rm --network host --ipc=host --mount src=\"%cd%\",target=/root/code/rl_zoo,type=bind stablebaselines/rl-baselines3-zoo-cpu:latest bash -c \"{command}\"\r\n",
    "\r\n",
    "evaluate(\"ppo\")\r\n",
    "#evaluate(\"a2c\")\r\n",
    "#evaluate(\"dqn\")\r\n"
   ],
   "outputs": [
    {
     "output_type": "stream",
     "name": "stdout",
     "text": [
      "+ export DISPLAY=:1\n",
      "+ Xvfb :1 -screen 0 1024x768x24\n",
      "+ DISPLAY=:1\n",
      "+ display=1\n",
      "+ file=/tmp/.X11-unix/X1\n",
      "+ sleep 1\n",
      "++ seq 1 10\n",
      "+ for i in $(seq 1 10)\n",
      "+ '[' -e /tmp/.X11-unix/X1 ']'\n",
      "+ break\n",
      "+ '[' -e /tmp/.X11-unix/X1 ']'\n",
      "+ exec bash -c 'cd /root/code/rl_zoo/ && python train.py --algo ppo --env SpaceInvaders-v4 --eval-freq 1 --eval-episodes 10 --n-eval-envs 1 --tensorboard-log=tensorboard-logs -i rl-trained-agents/ppo/SpaceInvadersNoFrameskip-v4_1/SpaceInvadersNoFrameskip-v4.zip'\n",
      "========== SpaceInvaders-v4 ==========\n",
      "Seed: 2179341106\n",
      "Default hyperparameters for environment (ones being tuned will be overridden):\n",
      "OrderedDict([('batch_size', 256),\n",
      "             ('clip_range', 'lin_0.1'),\n",
      "             ('ent_coef', 0.01),\n",
      "             ('env_wrapper',\n",
      "              ['stable_baselines3.common.atari_wrappers.AtariWrapper']),\n",
      "             ('frame_stack', 4),\n",
      "             ('learning_rate', 'lin_2.5e-4'),\n",
      "             ('n_envs', 8),\n",
      "             ('n_epochs', 4),\n",
      "             ('n_steps', 128),\n",
      "             ('n_timesteps', 10000000.0),\n",
      "             ('policy', 'CnnPolicy'),\n",
      "             ('vf_coef', 0.5)])\n",
      "Using 8 environments\n",
      "Creating test environment\n",
      "Stacking 4 frames\n",
      "Wrapping into a VecTransposeImage\n",
      "Stacking 4 frames\n",
      "Wrapping into a VecTransposeImage\n",
      "Loading pretrained agent\n",
      "Log path: logs/ppo/SpaceInvaders-v4_3\n",
      "Logging to tensorboard-logs/SpaceInvaders-v4/PPO_2\n",
      "Eval num_timesteps=8, episode_reward=398.50 +/- 213.95\n",
      "Episode length: 919.40 +/- 337.80\n",
      "New best mean reward!\n",
      "Eval num_timesteps=16, episode_reward=497.00 +/- 149.70\n",
      "Episode length: 1117.90 +/- 262.04\n",
      "New best mean reward!\n",
      "Eval num_timesteps=24, episode_reward=403.50 +/- 181.60\n",
      "Episode length: 956.60 +/- 201.33\n",
      "Eval num_timesteps=32, episode_reward=536.50 +/- 307.16\n",
      "Episode length: 1192.80 +/- 501.67\n",
      "New best mean reward!\n",
      "Eval num_timesteps=40, episode_reward=403.00 +/- 190.44\n",
      "Episode length: 1017.50 +/- 223.60\n",
      "Eval num_timesteps=48, episode_reward=567.50 +/- 377.58\n",
      "Episode length: 1195.70 +/- 429.66\n",
      "New best mean reward!\n",
      "Eval num_timesteps=56, episode_reward=487.00 +/- 281.28\n",
      "Episode length: 1116.20 +/- 460.47\n",
      "Eval num_timesteps=64, episode_reward=504.50 +/- 166.11\n",
      "Episode length: 1178.60 +/- 206.30\n",
      "Eval num_timesteps=72, episode_reward=571.50 +/- 175.60\n",
      "Episode length: 1121.40 +/- 227.60\n",
      "New best mean reward!\n",
      "Eval num_timesteps=80, episode_reward=495.00 +/- 180.29\n",
      "Episode length: 1115.50 +/- 258.20\n",
      "Eval num_timesteps=88, episode_reward=520.00 +/- 164.98\n",
      "Episode length: 1189.20 +/- 243.54\n",
      "Eval num_timesteps=96, episode_reward=456.50 +/- 179.36\n",
      "Episode length: 1024.70 +/- 285.17\n",
      "Eval num_timesteps=104, episode_reward=505.50 +/- 98.53\n",
      "Episode length: 1118.10 +/- 225.30\n",
      "Eval num_timesteps=112, episode_reward=492.00 +/- 161.11\n",
      "Episode length: 1116.70 +/- 233.71\n",
      "Eval num_timesteps=120, episode_reward=487.00 +/- 157.18\n",
      "Episode length: 1142.20 +/- 313.96\n",
      "Eval num_timesteps=128, episode_reward=409.50 +/- 129.49\n",
      "Episode length: 1089.80 +/- 261.32\n",
      "Eval num_timesteps=136, episode_reward=502.00 +/- 197.27\n",
      "Episode length: 1087.60 +/- 279.59\n",
      "Eval num_timesteps=144, episode_reward=457.50 +/- 196.60\n",
      "Episode length: 1099.50 +/- 242.66\n",
      "Eval num_timesteps=152, episode_reward=420.50 +/- 164.06\n",
      "Episode length: 1011.50 +/- 334.63\n",
      "Eval num_timesteps=160, episode_reward=470.50 +/- 114.81\n",
      "Episode length: 1074.10 +/- 173.28\n",
      "Eval num_timesteps=168, episode_reward=371.50 +/- 229.70\n",
      "Episode length: 909.50 +/- 275.57\n",
      "Eval num_timesteps=176, episode_reward=466.00 +/- 116.85\n",
      "Episode length: 993.50 +/- 182.83\n",
      "Eval num_timesteps=184, episode_reward=567.00 +/- 112.68\n",
      "Episode length: 1242.00 +/- 206.28\n",
      "Eval num_timesteps=192, episode_reward=359.50 +/- 182.87\n",
      "Episode length: 938.70 +/- 324.90\n",
      "Eval num_timesteps=200, episode_reward=606.50 +/- 121.90\n",
      "Episode length: 1316.80 +/- 163.44\n",
      "New best mean reward!\n",
      "Eval num_timesteps=208, episode_reward=458.50 +/- 156.88\n",
      "Episode length: 1083.80 +/- 270.65\n",
      "Eval num_timesteps=216, episode_reward=476.00 +/- 191.27\n",
      "Episode length: 1067.70 +/- 175.69\n",
      "Eval num_timesteps=224, episode_reward=422.00 +/- 212.37\n",
      "Episode length: 1103.10 +/- 464.01\n",
      "Eval num_timesteps=232, episode_reward=472.50 +/- 208.32\n",
      "Episode length: 1006.80 +/- 321.59\n",
      "Eval num_timesteps=240, episode_reward=463.00 +/- 228.50\n",
      "Episode length: 1079.70 +/- 326.77\n",
      "Eval num_timesteps=248, episode_reward=463.50 +/- 147.26\n",
      "Episode length: 1091.70 +/- 228.53\n",
      "Eval num_timesteps=256, episode_reward=462.00 +/- 223.40\n",
      "Episode length: 1089.70 +/- 326.29\n"
     ]
    }
   ],
   "metadata": {}
  },
  {
   "cell_type": "code",
   "execution_count": 6,
   "source": [
    "trained_scenario = scenario\r\n",
    "command = f\"cd /root/code/rl_zoo/ && python scripts/all_plots.py -a ppo a2c dqn --env {trained_scenario} -f rl-trained-agents/\"\r\n",
    "!docker run -t --rm --network host --ipc=host --mount src=\"%cd%\",target=/root/code/rl_zoo,type=bind stablebaselines/rl-baselines3-zoo-cpu:latest bash -c \"{command}\""
   ],
   "outputs": [
    {
     "output_type": "stream",
     "name": "stdout",
     "text": [
      "^C\n",
      "+ Xvfb :1 -screen 0 1024x768x24\n",
      "+ export DISPLAY=:1\n",
      "+ DISPLAY=:1\n",
      "+ display=1\n",
      "+ file=/tmp/.X11-unix/X1\n",
      "+ sleep 1\n",
      "++ seq 1 10\n",
      "+ for i in $(seq 1 10)\n",
      "+ '[' -e /tmp/.X11-unix/X1 ']'\n",
      "+ break\n",
      "+ '[' -e /tmp/.X11-unix/X1 ']'\n",
      "+ exec bash -c 'cd /root/code/rl_zoo/ && python scripts/all_plots.py -a ppo a2c dqn --env SpaceInvaders-v4 -f rl-trained-agents/'\n",
      "No handles with labels found to put in legend.\n",
      "# results_table\n",
      "|  Environments  |       PPO        |       A2C        |       DQN        |\n",
      "|----------------|------------------|------------------|------------------|\n",
      "|                |rl-trained-agents/|rl-trained-agents/|rl-trained-agents/|\n",
      "|SpaceInvaders-v4|0.0 +/- 0.0       |0.0 +/- 0.0       |0.0 +/- 0.0       |\n"
     ]
    }
   ],
   "metadata": {}
  },
  {
   "cell_type": "code",
   "execution_count": 50,
   "source": [
    "from shutil import copyfile\r\n",
    "\r\n",
    "def record_video(algo, steps=1000):\r\n",
    "    # Não funcionou chamando o script do repo... pq no windows não respeita comandos bash por algum motivo. Fallback pro que o script faz com o docker.\r\n",
    "    #!./scripts/run_docker_cpu.sh python train.py --algo a2c --env SpaceInvaders-v4\r\n",
    "    fname = f'final-model-{algo}-SpaceInvadersNoFrameskip-v4-step-0-to-step-1000'\r\n",
    "    path = f\"rl-trained-agents/{algo}/SpaceInvadersNoFrameskip-v4_1/videos/{fname}\"\r\n",
    "    # Adicionei ao comando a parte pra converter o vídeo pra gif. Mais fácil de mostrar no notebook.\r\n",
    "    command = f\"cd /root/code/rl_zoo/ && python -m utils.record_video --algo {algo} --env SpaceInvadersNoFrameskip-v4 -n {steps} \" \\\r\n",
    "        f\"&& ffmpeg -i {path}.mp4 -vf fps=10 {path}.gif -hide_banner -loglevel error\"\r\n",
    "    !docker run -t --rm --network host --ipc=host --mount src=\"%cd%\",target=/root/code/rl_zoo,type=bind stablebaselines/rl-baselines3-zoo-cpu:latest bash -c \"{command}\"\r\n",
    "\r\n",
    "    copyfile(f'{path}.gif', f'../images/{fname}.gif')\r\n",
    "\r\n",
    "record_video(\"ppo\")\r\n",
    "record_video(\"a2c\")\r\n",
    "record_video(\"dqn\")\r\n"
   ],
   "outputs": [
    {
     "output_type": "stream",
     "name": "stdout",
     "text": [
      "+ export DISPLAY=:1\n",
      "+ DISPLAY=:1\n",
      "+ display=1\n",
      "+ Xvfb :1 -screen 0 1024x768x24\n",
      "+ file=/tmp/.X11-unix/X1\n",
      "+ sleep 1\n",
      "++ seq 1 10\n",
      "+ for i in $(seq 1 10)\n",
      "+ '[' -e /tmp/.X11-unix/X1 ']'\n",
      "+ break\n",
      "+ '[' -e /tmp/.X11-unix/X1 ']'\n",
      "+ exec bash -c 'cd /root/code/rl_zoo/ && python -m utils.record_video --algo ppo --env SpaceInvadersNoFrameskip-v4 -n 1000 && ffmpeg -i rl-trained-agents/ppo/SpaceInvadersNoFrameskip-v4_1/videos/final-model-ppo-SpaceInvadersNoFrameskip-v4-step-0-to-step-1000.mp4 -vf fps=10 rl-trained-agents/ppo/SpaceInvadersNoFrameskip-v4_1/videos/final-model-ppo-SpaceInvadersNoFrameskip-v4-step-0-to-step-1000.gif -hide_banner -loglevel error'\n",
      "Loading latest experiment, id=1\n",
      "Stacking 4 frames\n",
      "Wrapping the env in a VecTransposeImage.\n",
      "Saving video to /root/code/rl_zoo/rl-trained-agents/ppo/SpaceInvadersNoFrameskip-v4_1/videos/final-model-ppo-SpaceInvadersNoFrameskip-v4-step-0-to-step-1000.mp4\n",
      "^C\n",
      "^C\n"
     ]
    }
   ],
   "metadata": {}
  },
  {
   "cell_type": "markdown",
   "source": [
    "### PPO - RL Baselines 3 Zoo:\r\n",
    "![PPO - RL Baselines 3 Zoo](images/final-model-ppo-SpaceInvadersNoFrameskip-v4-step-0-to-step-1000.gif)\r\n",
    "\r\n",
    "### A2C - RL Baselines 3 Zoo:\r\n",
    "![A2C - RL Baselines 3 Zoo](images/final-model-a2c-SpaceInvadersNoFrameskip-v4-step-0-to-step-1000.gif)\r\n",
    "\r\n",
    "### DQN - RL Baselines 3 Zoo:\r\n",
    "![DQN - RL Baselines 3 Zoo](images/final-model-dqn-SpaceInvadersNoFrameskip-v4-step-0-to-step-1000.gif)\r\n"
   ],
   "metadata": {}
  },
  {
   "cell_type": "code",
   "execution_count": 32,
   "source": [
    "def run_script(algo, eval_freq=10000, eval_episodes=10, eval_envs=1):\r\n",
    "    # Não funcionou chamando o script do repo... pq no windows não respeita comandos bash por algum motivo. Fallback pro que o script faz com o docker.\r\n",
    "    #!./scripts/run_docker_cpu.sh python train.py --algo a2c --env SpaceInvaders-v4\r\n",
    "    !docker run -t --rm --network host --ipc=host --mount src=\"%cd%\",target=/root/code/rl_zoo,type=bind stablebaselines/rl-baselines3-zoo-cpu:latest bash -c \"cd /root/code/rl_zoo/ && python train.py --algo {algo} --env SpaceInvaders-v4 --tensorboard-log=tensorboard-logs --eval-freq {eval_freq} --eval-episodes {eval_episodes} --n-eval-envs {eval_envs}\"\r\n",
    "\r\n",
    "run_script(\"a2c\", eval_freq=500)"
   ],
   "outputs": [
    {
     "output_type": "stream",
     "name": "stdout",
     "text": [
      "^C\n"
     ]
    }
   ],
   "metadata": {}
  },
  {
   "cell_type": "code",
   "execution_count": 33,
   "source": [
    "# Treinando PPO\r\n",
    "#!docker run -t --rm --network host --ipc=host --mount src=\"%cd%\",target=/root/code/rl_zoo,type=bind stablebaselines/rl-baselines3-zoo-cpu:latest bash -c \"cd /root/code/rl_zoo/ && python train.py --algo ppo --env SpaceInvaders-v4\"\r\n",
    "run_script(\"ppo\")"
   ],
   "outputs": [],
   "metadata": {}
  },
  {
   "cell_type": "code",
   "execution_count": null,
   "source": [
    "# Treinando DQN\r\n",
    "#!docker run -t --rm --network host --ipc=host --mount src=\"%cd%\",target=/root/code/rl_zoo,type=bind stablebaselines/rl-baselines3-zoo-cpu:latest bash -c \"cd /root/code/rl_zoo/ && python train.py --algo dqn --env SpaceInvaders-v4\"\r\n",
    "run_script(\"dqn\")\r\n"
   ],
   "outputs": [],
   "metadata": {}
  }
 ],
 "metadata": {
  "kernelspec": {
   "name": "python3",
   "display_name": "Python 3.7.9 64-bit ('venv': venv)"
  },
  "language_info": {
   "codemirror_mode": {
    "name": "ipython",
    "version": 3
   },
   "file_extension": ".py",
   "mimetype": "text/x-python",
   "name": "python",
   "nbconvert_exporter": "python",
   "pygments_lexer": "ipython3",
   "version": "3.7.9"
  },
  "interpreter": {
   "hash": "4337733d7c4f8242ca10155413965bee5981b415db72db4cb080555abb5e32aa"
  }
 },
 "nbformat": 4,
 "nbformat_minor": 4
}