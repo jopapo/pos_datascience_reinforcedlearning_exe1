{
 "cells": [
  {
   "cell_type": "markdown",
   "source": [
    "# Atividade Prática II - Treinamento e Validação de Modelos de RL\r\n",
    "\r\n",
    "**Aluno:** João Paulo Poffo\r\n",
    "\r\n",
    "**Disciplina:** Reinforcement Learning - Turma II\r\n",
    "\r\n",
    "**Data:** 21/08/2021\r\n",
    "\r\n",
    "\r\n",
    "\r\n",
    "Neste trabalho vamos aplicar `Gym`, `Stable-Baselines3` e `RL Baselines Zoo` para lidar com o treinamento e validação de problemas de aprendizado por reforço. Sua tarefa é:\r\n",
    "\r\n",
    "1. Selecionar um cenário da biblioteca `Gym` de sua preferência, desde que este cenário também seja contemplado pelos modelos disponibilizados na `rl baselines zoo`;\r\n",
    "2. Selecionar três algoritmos das biblioteca `Stable-baselines3` para resolver esse problema. Pesquise na documentação da biblioteca quais são os algoritmos mais adequados para o ambiente escolhido e justifique a sua escolha. \r\n",
    "3. Realize o treinamento de cada um dos três modelos ---você pode ajustar os parâmetros do modelos, se achar necessário--- e salve os modelos em disco.\r\n",
    "4. De posse dos modelos treinados e salvos, carregue-os e avalie-os por 10 episódios. Apresente os resultados médios e gere a curva de recompensa acumulada disponibilizada pelo `TensorBoard`.\r\n",
    "5. Compare os resultados dos modelos treinados com os resultados obtidos por modelo(s) existentes no `RL Baselines Zoo` para o cenário escolhido.\r\n",
    "6. Gere um vídeo do melhor modelo que você treinou e do modelo escolhido na `RL Baselines Zoo`. Verifique a documentação de cada biblioteca sobre a criação do vídeo e visualização em Notebooks.\r\n",
    "\r\n",
    "\r\n",
    "\r\n",
    "* **Data de entrega:** 04/09/2021\r\n",
    "* **Local de envio:** AVA.\r\n",
    "* **Tipo de documento:** Notebook (`.ipynb`).\r\n",
    "\r\n"
   ],
   "metadata": {}
  },
  {
   "cell_type": "markdown",
   "source": [
    "1. Preparação do ambiente"
   ],
   "metadata": {}
  },
  {
   "cell_type": "code",
   "execution_count": 1,
   "source": [
    "# Precisa instalar o swig pra windows pra funcionar o box2d-py (necessário para o atari - http://swig.org/Doc4.0/Windows.html#Windows)\r\n",
    "# Obs: Não adianta copiar o exe para o bin. Tem que adicionar a pasta do swig no path\r\n",
    "!pip install cmake\r\n",
    "\r\n",
    "!pip install gym[all]\r\n",
    "\r\n",
    "!pip install atari-py\r\n",
    "\r\n",
    "!pip install matplotlib"
   ],
   "outputs": [
    {
     "output_type": "stream",
     "name": "stdout",
     "text": [
      "Collecting cmake\n",
      "  Downloading cmake-3.21.2-py2.py3-none-win_amd64.whl (37.3 MB)\n",
      "Installing collected packages: cmake\n",
      "Successfully installed cmake-3.21.2\n",
      "Requirement already satisfied: gym[all] in .\\venv\\lib\\site-packages (0.19.0)\n",
      "Requirement already satisfied: numpy>=1.18.0 in .\\venv\\lib\\site-packages (from gym[all]) (1.21.2)\n",
      "Requirement already satisfied: cloudpickle<1.7.0,>=1.2.0 in .\\venv\\lib\\site-packages (from gym[all]) (1.6.0)\n",
      "Requirement already satisfied: scipy in .\\venv\\lib\\site-packages (from gym[all]) (1.7.1)\n",
      "Collecting mujoco-py<2.0,>=1.50\n",
      "  Using cached mujoco-py-1.50.1.68.tar.gz (120 kB)\n",
      "Requirement already satisfied: pyglet>=1.4.0 in .\\venv\\lib\\site-packages (from gym[all]) (1.5.19)\n",
      "Requirement already satisfied: box2d-py~=2.3.5 in .\\venv\\lib\\site-packages (from gym[all]) (2.3.8)\n",
      "Requirement already satisfied: imageio in .\\venv\\lib\\site-packages (from gym[all]) (2.9.0)\n",
      "Requirement already satisfied: opencv-python>=3. in .\\venv\\lib\\site-packages (from gym[all]) (4.5.3.56)\n",
      "Requirement already satisfied: atari-py==0.2.6 in .\\venv\\lib\\site-packages (from gym[all]) (0.2.6)\n",
      "Requirement already satisfied: six in .\\venv\\lib\\site-packages (from atari-py==0.2.6->gym[all]) (1.16.0)\n",
      "Requirement already satisfied: glfw>=1.4.0 in .\\venv\\lib\\site-packages (from mujoco-py<2.0,>=1.50->gym[all]) (2.1.0)\n",
      "Requirement already satisfied: Cython>=0.27.2 in .\\venv\\lib\\site-packages (from mujoco-py<2.0,>=1.50->gym[all]) (0.29.24)\n",
      "Requirement already satisfied: cffi>=1.10 in .\\venv\\lib\\site-packages (from mujoco-py<2.0,>=1.50->gym[all]) (1.14.6)\n",
      "Requirement already satisfied: lockfile>=0.12.2 in .\\venv\\lib\\site-packages (from mujoco-py<2.0,>=1.50->gym[all]) (0.12.2)\n",
      "Requirement already satisfied: pycparser in .\\venv\\lib\\site-packages (from cffi>=1.10->mujoco-py<2.0,>=1.50->gym[all]) (2.20)\n",
      "Requirement already satisfied: pillow in .\\venv\\lib\\site-packages (from imageio->gym[all]) (8.3.1)\n",
      "Building wheels for collected packages: mujoco-py\n",
      "  Building wheel for mujoco-py (setup.py): started\n",
      "  Building wheel for mujoco-py (setup.py): finished with status 'error'\n",
      "  Running setup.py clean for mujoco-py\n",
      "Failed to build mujoco-py\n",
      "Installing collected packages: mujoco-py\n",
      "    Running setup.py install for mujoco-py: started\n",
      "    Running setup.py install for mujoco-py: finished with status 'error'"
     ]
    },
    {
     "output_type": "stream",
     "name": "stderr",
     "text": [
      "  ERROR: Command errored out with exit status 1:\n",
      "   command: 'E:\\temp\\rl_exe1\\venv\\Scripts\\python.exe' -u -c 'import io, os, sys, setuptools, tokenize; sys.argv[0] = '\"'\"'C:\\\\Users\\\\joao.poffo\\\\AppData\\\\Local\\\\Temp\\\\pip-install-x3nxt3g4\\\\mujoco-py_8be4b0fc76e045b6b0ab2ff8713ac50f\\\\setup.py'\"'\"'; __file__='\"'\"'C:\\\\Users\\\\joao.poffo\\\\AppData\\\\Local\\\\Temp\\\\pip-install-x3nxt3g4\\\\mujoco-py_8be4b0fc76e045b6b0ab2ff8713ac50f\\\\setup.py'\"'\"';f = getattr(tokenize, '\"'\"'open'\"'\"', open)(__file__) if os.path.exists(__file__) else io.StringIO('\"'\"'from setuptools import setup; setup()'\"'\"');code = f.read().replace('\"'\"'\\r\\n'\"'\"', '\"'\"'\\n'\"'\"');f.close();exec(compile(code, __file__, '\"'\"'exec'\"'\"'))' bdist_wheel -d 'C:\\Users\\joao.poffo\\AppData\\Local\\Temp\\pip-wheel-p8mypnhp'\n",
      "       cwd: C:\\Users\\joao.poffo\\AppData\\Local\\Temp\\pip-install-x3nxt3g4\\mujoco-py_8be4b0fc76e045b6b0ab2ff8713ac50f\\\n",
      "  Complete output (54 lines):\n",
      "  running bdist_wheel\n",
      "  running build\n",
      "  \n",
      "  You appear to be missing MuJoCo.  We expected to find the file here: C:\\Users\\joao.poffo\\.mujoco\\mjpro150\n",
      "  \n",
      "  This package only provides python bindings, the library must be installed separately.\n",
      "  \n",
      "  Please follow the instructions on the README to install MuJoCo\n",
      "  \n",
      "      https://github.com/openai/mujoco-py#install-mujoco\n",
      "  \n",
      "  Which can be downloaded from the website\n",
      "  \n",
      "      https://www.roboti.us/index.html\n",
      "  \n",
      "  Traceback (most recent call last):\n",
      "    File \"<string>\", line 1, in <module>\n",
      "    File \"C:\\Users\\joao.poffo\\AppData\\Local\\Temp\\pip-install-x3nxt3g4\\mujoco-py_8be4b0fc76e045b6b0ab2ff8713ac50f\\setup.py\", line 44, in <module>\n",
      "      tests_require=read_requirements_file('requirements.dev.txt'),\n",
      "    File \"E:\\temp\\rl_exe1\\venv\\lib\\site-packages\\setuptools\\__init__.py\", line 153, in setup\n",
      "      return distutils.core.setup(**attrs)\n",
      "    File \"e:\\apps\\python37\\lib\\distutils\\core.py\", line 148, in setup\n",
      "      dist.run_commands()\n",
      "    File \"e:\\apps\\python37\\lib\\distutils\\dist.py\", line 966, in run_commands\n",
      "      self.run_command(cmd)\n",
      "    File \"e:\\apps\\python37\\lib\\distutils\\dist.py\", line 985, in run_command\n",
      "      cmd_obj.run()\n",
      "    File \"E:\\temp\\rl_exe1\\venv\\lib\\site-packages\\wheel\\bdist_wheel.py\", line 299, in run\n",
      "      self.run_command('build')\n",
      "    File \"e:\\apps\\python37\\lib\\distutils\\cmd.py\", line 313, in run_command\n",
      "      self.distribution.run_command(command)"
     ]
    },
    {
     "output_type": "stream",
     "name": "stdout",
     "text": [
      "\n"
     ]
    },
    {
     "output_type": "stream",
     "name": "stderr",
     "text": [
      "\n",
      "    File \"e:\\apps\\python37\\lib\\distutils\\dist.py\", line 985, in run_command\n",
      "      cmd_obj.run()\n",
      "    File \"C:\\Users\\joao.poffo\\AppData\\Local\\Temp\\pip-install-x3nxt3g4\\mujoco-py_8be4b0fc76e045b6b0ab2ff8713ac50f\\setup.py\", line 28, in run\n",
      "      import mujoco_py  # noqa: force build\n",
      "    File \"C:\\Users\\joao.poffo\\AppData\\Local\\Temp\\pip-install-x3nxt3g4\\mujoco-py_8be4b0fc76e045b6b0ab2ff8713ac50f\\mujoco_py\\__init__.py\", line 3, in <module>\n",
      "      from mujoco_py.builder import cymj, ignore_mujoco_warnings, functions, MujocoException\n",
      "    File \"C:\\Users\\joao.poffo\\AppData\\Local\\Temp\\pip-install-x3nxt3g4\\mujoco-py_8be4b0fc76e045b6b0ab2ff8713ac50f\\mujoco_py\\builder.py\", line 502, in <module>\n",
      "      mjpro_path, key_path = discover_mujoco()\n",
      "    File \"C:\\Users\\joao.poffo\\AppData\\Local\\Temp\\pip-install-x3nxt3g4\\mujoco-py_8be4b0fc76e045b6b0ab2ff8713ac50f\\mujoco_py\\utils.py\", line 93, in discover_mujoco\n",
      "      raise Exception(message)\n",
      "  Exception:\n",
      "  You appear to be missing MuJoCo.  We expected to find the file here: C:\\Users\\joao.poffo\\.mujoco\\mjpro150\n",
      "  \n",
      "  This package only provides python bindings, the library must be installed separately.\n",
      "  \n",
      "  Please follow the instructions on the README to install MuJoCo\n",
      "  \n",
      "      https://github.com/openai/mujoco-py#install-mujoco\n",
      "  \n",
      "  Which can be downloaded from the website\n",
      "  \n",
      "      https://www.roboti.us/index.html\n",
      "  \n",
      "  ----------------------------------------\n",
      "  ERROR: Failed building wheel for mujoco-py\n",
      "    ERROR: Command errored out with exit status 1:\n",
      "     command: 'E:\\temp\\rl_exe1\\venv\\Scripts\\python.exe' -u -c 'import io, os, sys, setuptools, tokenize; sys.argv[0] = '\"'\"'C:\\\\Users\\\\joao.poffo\\\\AppData\\\\Local\\\\Temp\\\\pip-install-x3nxt3g4\\\\mujoco-py_8be4b0fc76e045b6b0ab2ff8713ac50f\\\\setup.py'\"'\"'; __file__='\"'\"'C:\\\\Users\\\\joao.poffo\\\\AppData\\\\Local\\\\Temp\\\\pip-install-x3nxt3g4\\\\mujoco-py_8be4b0fc76e045b6b0ab2ff8713ac50f\\\\setup.py'\"'\"';f = getattr(tokenize, '\"'\"'open'\"'\"', open)(__file__) if os.path.exists(__file__) else io.StringIO('\"'\"'from setuptools import setup; setup()'\"'\"');code = f.read().replace('\"'\"'\\r\\n'\"'\"', '\"'\"'\\n'\"'\"');f.close();exec(compile(code, __file__, '\"'\"'exec'\"'\"'))' install --record 'C:\\Users\\joao.poffo\\AppData\\Local\\Temp\\pip-record-djuvkm9d\\install-record.txt' --single-version-externally-managed --compile --install-headers 'E:\\temp\\rl_exe1\\venv\\include\\site\\python3.7\\mujoco-py'\n",
      "         cwd: C:\\Users\\joao.poffo\\AppData\\Local\\Temp\\pip-install-x3nxt3g4\\mujoco-py_8be4b0fc76e045b6b0ab2ff8713ac50f\\\n",
      "    Complete output (56 lines):\n",
      "    running install\n",
      "    running build\n",
      "    \n",
      "    You appear to be missing MuJoCo.  We expected to find the file here: C:\\Users\\joao.poffo\\.mujoco\\mjpro150\n",
      "    \n",
      "    This package only provides python bindings, the library must be installed separately.\n",
      "    \n",
      "    Please follow the instructions on the README to install MuJoCo\n",
      "    \n",
      "        https://github.com/openai/mujoco-py#install-mujoco\n",
      "    \n",
      "    Which can be downloaded from the website\n",
      "    \n",
      "        https://www.roboti.us/index.html\n",
      "    \n",
      "    Traceback (most recent call last):\n",
      "      File \"<string>\", line 1, in <module>\n",
      "      File \"C:\\Users\\joao.poffo\\AppData\\Local\\Temp\\pip-install-x3nxt3g4\\mujoco-py_8be4b0fc76e045b6b0ab2ff8713ac50f\\setup.py\", line 44, in <module>\n",
      "        tests_require=read_requirements_file('requirements.dev.txt'),\n",
      "      File \"E:\\temp\\rl_exe1\\venv\\lib\\site-packages\\setuptools\\__init__.py\", line 153, in setup\n",
      "        return distutils.core.setup(**attrs)\n",
      "      File \"e:\\apps\\python37\\lib\\distutils\\core.py\", line 148, in setup\n",
      "        dist.run_commands()\n",
      "      File \"e:\\apps\\python37\\lib\\distutils\\dist.py\", line 966, in run_commands\n",
      "        self.run_command(cmd)\n",
      "      File \"e:\\apps\\python37\\lib\\distutils\\dist.py\", line 985, in run_command\n",
      "        cmd_obj.run()\n",
      "      File \"E:\\temp\\rl_exe1\\venv\\lib\\site-packages\\setuptools\\command\\install.py\", line 61, in run\n",
      "        return orig.install.run(self)\n",
      "      File \"e:\\apps\\python37\\lib\\distutils\\command\\install.py\", line 545, in run\n",
      "        self.run_command('build')\n",
      "      File \"e:\\apps\\python37\\lib\\distutils\\cmd.py\", line 313, in run_command\n",
      "        self.distribution.run_command(command)\n",
      "      File \"e:\\apps\\python37\\lib\\distutils\\dist.py\", line 985, in run_command\n",
      "        cmd_obj.run()\n",
      "      File \"C:\\Users\\joao.poffo\\AppData\\Local\\Temp\\pip-install-x3nxt3g4\\mujoco-py_8be4b0fc76e045b6b0ab2ff8713ac50f\\setup.py\", line 28, in run\n",
      "        import mujoco_py  # noqa: force build\n",
      "      File \"C:\\Users\\joao.poffo\\AppData\\Local\\Temp\\pip-install-x3nxt3g4\\mujoco-py_8be4b0fc76e045b6b0ab2ff8713ac50f\\mujoco_py\\__init__.py\", line 3, in <module>\n",
      "        from mujoco_py.builder import cymj, ignore_mujoco_warnings, functions, MujocoException\n",
      "      File \"C:\\Users\\joao.poffo\\AppData\\Local\\Temp\\pip-install-x3nxt3g4\\mujoco-py_8be4b0fc76e045b6b0ab2ff8713ac50f\\mujoco_py\\builder.py\", line 502, in <module>\n",
      "        mjpro_path, key_path = discover_mujoco()\n",
      "      File \"C:\\Users\\joao.poffo\\AppData\\Local\\Temp\\pip-install-x3nxt3g4\\mujoco-py_8be4b0fc76e045b6b0ab2ff8713ac50f\\mujoco_py\\utils.py\", line 93, in discover_mujoco\n",
      "        raise Exception(message)\n",
      "    Exception:\n",
      "    You appear to be missing MuJoCo.  We expected to find the file here: C:\\Users\\joao.poffo\\.mujoco\\mjpro150\n",
      "    \n",
      "    This package only provides python bindings, the library must be installed separately.\n",
      "    \n",
      "    Please follow the instructions on the README to install MuJoCo\n",
      "    \n",
      "        https://github.com/openai/mujoco-py#install-mujoco\n",
      "    \n",
      "    Which can be downloaded from the website\n",
      "    \n",
      "        https://www.roboti.us/index.html\n",
      "    \n",
      "    ----------------------------------------\n",
      "ERROR: Command errored out with exit status 1: 'E:\\temp\\rl_exe1\\venv\\Scripts\\python.exe' -u -c 'import io, os, sys, setuptools, tokenize; sys.argv[0] = '\"'\"'C:\\\\Users\\\\joao.poffo\\\\AppData\\\\Local\\\\Temp\\\\pip-install-x3nxt3g4\\\\mujoco-py_8be4b0fc76e045b6b0ab2ff8713ac50f\\\\setup.py'\"'\"'; __file__='\"'\"'C:\\\\Users\\\\joao.poffo\\\\AppData\\\\Local\\\\Temp\\\\pip-install-x3nxt3g4\\\\mujoco-py_8be4b0fc76e045b6b0ab2ff8713ac50f\\\\setup.py'\"'\"';f = getattr(tokenize, '\"'\"'open'\"'\"', open)(__file__) if os.path.exists(__file__) else io.StringIO('\"'\"'from setuptools import setup; setup()'\"'\"');code = f.read().replace('\"'\"'\\r\\n'\"'\"', '\"'\"'\\n'\"'\"');f.close();exec(compile(code, __file__, '\"'\"'exec'\"'\"'))' install --record 'C:\\Users\\joao.poffo\\AppData\\Local\\Temp\\pip-record-djuvkm9d\\install-record.txt' --single-version-externally-managed --compile --install-headers 'E:\\temp\\rl_exe1\\venv\\include\\site\\python3.7\\mujoco-py' Check the logs for full command output.\n"
     ]
    },
    {
     "output_type": "stream",
     "name": "stdout",
     "text": [
      "Requirement already satisfied: atari-py in .\\venv\\lib\\site-packages (0.2.6)\n",
      "Requirement already satisfied: six in .\\venv\\lib\\site-packages (from atari-py) (1.16.0)\n",
      "Requirement already satisfied: numpy in .\\venv\\lib\\site-packages (from atari-py) (1.21.2)\n"
     ]
    }
   ],
   "metadata": {}
  },
  {
   "cell_type": "markdown",
   "source": [
    "2. Baixando os Roms do Atari para teste"
   ],
   "metadata": {}
  },
  {
   "cell_type": "code",
   "execution_count": 2,
   "source": [
    "#Instala o pacote para fazer downloads em Python\r\n",
    "!pip install wget\r\n",
    "import wget\r\n",
    "import os\r\n",
    "\r\n",
    "# Só baixa a primeira vez (Se baixar, tem que descompactar)\r\n",
    "if not os.path.isdir('Roms'):\r\n",
    "\r\n",
    "  #função auxiliar p/ apresentar a barra de progresso de download\r\n",
    "  def bar_progress(current, total, width=80):\r\n",
    "    progress_message = 'Baixando: %d%% (%d / %d) bytes' % (current / total * 100, current, total)\r\n",
    "    print(progress_message, end='\\r')\r\n",
    "\r\n",
    "  #baixa o arquivo com as ROMS a partir da url\r\n",
    "  wget.download('http://www.atarimania.com/roms/Roms.rar', out='Roms.rar', bar=bar_progress)\r\n",
    "\r\n",
    "  #wget.download('https://github.com/openai/atari-py/archive/refs/heads/master.zip', out='atari-py.zip', bar=bar_progress)"
   ],
   "outputs": [
    {
     "output_type": "stream",
     "name": "stdout",
     "text": [
      "Collecting wget\n",
      "  Downloading wget-3.2.zip (10 kB)\n",
      "Building wheels for collected packages: wget\n",
      "  Building wheel for wget (setup.py): started\n",
      "  Building wheel for wget (setup.py): finished with status 'done'\n",
      "  Created wheel for wget: filename=wget-3.2-py3-none-any.whl size=9672 sha256=fb8a5fe418e99f113c5e7fbbe19306e860b7e6bd9f5c9b73b4d1baca0a01b40f\n",
      "  Stored in directory: c:\\users\\joao.poffo\\appdata\\local\\pip\\cache\\wheels\\a1\\b6\\7c\\0e63e34eb06634181c63adacca38b79ff8f35c37e3c13e3c02\n",
      "Successfully built wget\n",
      "Installing collected packages: wget\n",
      "Successfully installed wget-3.2\n"
     ]
    }
   ],
   "metadata": {}
  },
  {
   "cell_type": "markdown",
   "source": [
    "3. Importa as Roms"
   ],
   "metadata": {}
  },
  {
   "cell_type": "code",
   "execution_count": 6,
   "source": [
    "!python -m atari_py.import_roms 'Roms/ROMS/'"
   ],
   "outputs": [],
   "metadata": {}
  },
  {
   "cell_type": "markdown",
   "source": [
    "4. Testando o ambiente com o cenário selecionado (SpaceInvaders)"
   ],
   "metadata": {}
  },
  {
   "cell_type": "code",
   "execution_count": 25,
   "source": [
    "# Função para salvar a animação como gif (daqui: https://gist.github.com/botforge/64cbb71780e6208172bbf03cd9293553)\r\n",
    "\r\n",
    "from matplotlib import animation\r\n",
    "import matplotlib.pyplot as plt\r\n",
    "\r\n",
    "def save_frames_as_gif(frames, path='./', filename='gym_animation.gif'):\r\n",
    "\r\n",
    "    #Mess with this to change frame size\r\n",
    "    plt.figure(figsize=(frames[0].shape[1] / 72.0, frames[0].shape[0] / 72.0), dpi=72)\r\n",
    "\r\n",
    "    patch = plt.imshow(frames[0])\r\n",
    "    plt.axis('off')\r\n",
    "\r\n",
    "    def animate(i):\r\n",
    "        patch.set_data(frames[i])\r\n",
    "\r\n",
    "    anim = animation.FuncAnimation(plt.gcf(), animate, frames = len(frames), interval=50)\r\n",
    "    anim.save(path + filename, writer='imagemagick', fps=60)"
   ],
   "outputs": [],
   "metadata": {}
  },
  {
   "cell_type": "code",
   "execution_count": 24,
   "source": [
    "#importa a biblioteca gym\r\n",
    "import gym\r\n",
    "import time\r\n",
    "\r\n",
    "scenario = 'SpaceInvaders-v4'\r\n",
    "env = gym.make(scenario)\r\n",
    "frames = []\r\n",
    "\r\n",
    "observation = env.reset()\r\n",
    "#define a quantidade de passos de tempo\r\n",
    "for _ in range(1000):\r\n",
    "  #desenha a visualização do ambiente  \r\n",
    "  #env.render()\r\n",
    "  rgb_observation = env.render(mode = 'rgb_array') \r\n",
    "  frames.append(rgb_observation)\r\n",
    "  \r\n",
    "  #toma uma ação de forma aleatória\r\n",
    "  action = env.action_space.sample()\r\n",
    "  #observa o ambiente com a base na ação executada\r\n",
    "  observation, reward, done, info = env.step(action)\r\n",
    "  #adiciona um atraso na execução para melhorar a visualização\r\n",
    "  \r\n",
    "  #time.sleep(0.03)\r\n",
    "\r\n",
    "  #verifica se o agente completou a tarefa\r\n",
    "  if done:\r\n",
    "    #reinicia a simulação\r\n",
    "    observation = env.reset()\r\n",
    "#fecha a visualização\r\n",
    "env.close()\r\n",
    "\r\n",
    "save_frames_as_gif(frames, 'images/', f'{scenario}-sample.gif')"
   ],
   "outputs": [
    {
     "output_type": "stream",
     "name": "stderr",
     "text": [
      "MovieWriter imagemagick unavailable; using Pillow instead.\n"
     ]
    },
    {
     "output_type": "display_data",
     "data": {
      "text/plain": [
       "<Figure size 160x210 with 1 Axes>"
      ],
      "image/svg+xml": "<?xml version=\"1.0\" encoding=\"utf-8\" standalone=\"no\"?>\r\n<!DOCTYPE svg PUBLIC \"-//W3C//DTD SVG 1.1//EN\"\r\n  \"http://www.w3.org/Graphics/SVG/1.1/DTD/svg11.dtd\">\r\n<svg height=\"172.95pt\" version=\"1.1\" viewBox=\"0 0 135.2 172.95\" width=\"135.2pt\" xmlns=\"http://www.w3.org/2000/svg\" xmlns:xlink=\"http://www.w3.org/1999/xlink\">\r\n <metadata>\r\n  <rdf:RDF xmlns:cc=\"http://creativecommons.org/ns#\" xmlns:dc=\"http://purl.org/dc/elements/1.1/\" xmlns:rdf=\"http://www.w3.org/1999/02/22-rdf-syntax-ns#\">\r\n   <cc:Work>\r\n    <dc:type rdf:resource=\"http://purl.org/dc/dcmitype/StillImage\"/>\r\n    <dc:date>2021-08-31T20:51:11.734649</dc:date>\r\n    <dc:format>image/svg+xml</dc:format>\r\n    <dc:creator>\r\n     <cc:Agent>\r\n      <dc:title>Matplotlib v3.4.3, https://matplotlib.org/</dc:title>\r\n     </cc:Agent>\r\n    </dc:creator>\r\n   </cc:Work>\r\n  </rdf:RDF>\r\n </metadata>\r\n <defs>\r\n  <style type=\"text/css\">*{stroke-linecap:butt;stroke-linejoin:round;}</style>\r\n </defs>\r\n <g id=\"figure_1\">\r\n  <g id=\"patch_1\">\r\n   <path d=\"M 0 172.95 \r\nL 135.2 172.95 \r\nL 135.2 0 \r\nL 0 0 \r\nz\r\n\" style=\"fill:none;\"/>\r\n  </g>\r\n  <g id=\"axes_1\">\r\n   <g clip-path=\"url(#p78bf96e413)\">\r\n    <image height=\"159\" id=\"imagefb8f8c56cc\" transform=\"scale(1 -1)translate(0 -159)\" width=\"121\" x=\"7.2\" xlink:href=\"data:image/png;base64,\r\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\" y=\"-6.75\"/>\r\n   </g>\r\n  </g>\r\n </g>\r\n <defs>\r\n  <clipPath id=\"p78bf96e413\">\r\n   <rect height=\"158.55\" width=\"120.8\" x=\"7.2\" y=\"7.2\"/>\r\n  </clipPath>\r\n </defs>\r\n</svg>\r\n",
      "image/png": "[encoded data removed]"
     },
     "metadata": {
      "needs_background": "light"
     }
    }
   ],
   "metadata": {}
  },
  {
   "cell_type": "markdown",
   "source": [
    "![Exemplo do jogo Space Invaders](images/SpaceInvaders-v4-sample.gif)"
   ],
   "metadata": {}
  },
  {
   "cell_type": "markdown",
   "source": [
    "De acordo com a documentação do stable baselines 3, o space invaders possui os algoritmos A2C, PPO, DQN e QT-DQN.\r\n",
    "\r\n",
    "Selecionei A2C, PPO e DQN pois são contemplados também no zoo."
   ],
   "metadata": {}
  },
  {
   "cell_type": "code",
   "execution_count": 12,
   "source": [
    "# Treina e salva os modelos\r\n",
    "\r\n",
    "%%time\r\n",
    "\r\n",
    "from stable_baselines3 import PPO, A2C, DQN\r\n",
    "\r\n",
    "PPO('MlpPolicy', scenario).learn(10000).save(f'models/{scenario}-PPO')\r\n",
    "\r\n",
    "A2C('MlpPolicy', scenario).learn(10000).save(f'models/{scenario}-A2C')\r\n",
    "\r\n",
    "# Precisei diminuir o Buffer (1M para 50k) pra caber na memória da minha máquina\r\n",
    "DQN('MlpPolicy', scenario, optimize_memory_usage=True, buffer_size=50000).learn(10000).save(f'models/{scenario}-DQN')"
   ],
   "outputs": [
    {
     "output_type": "stream",
     "name": "stdout",
     "text": [
      "Wall time: 28.1 s\n"
     ]
    }
   ],
   "metadata": {}
  },
  {
   "cell_type": "code",
   "execution_count": 31,
   "source": [
    "# Carrega e avalia por 100 (10 pareceu mto pouco) episódios (PPO)\r\n",
    "def evaluate(algo_class, episodes=100):\r\n",
    "  env = gym.make(scenario)\r\n",
    "\r\n",
    "  algo_name = algo_class.__name__\r\n",
    "  trained_model = algo_class.load(f\"models/{scenario}-{algo_name}\", verbose=1)\r\n",
    "  env = gym.make(scenario)\r\n",
    "\r\n",
    "  frames = []\r\n",
    "  obs = env.reset()\r\n",
    "  for i in range(episodes):\r\n",
    "      action, _states = trained_model.predict(obs, deterministic=True)\r\n",
    "      obs, reward, done, info = env.step(action)\r\n",
    "      \r\n",
    "      # Para ver na tela\r\n",
    "      #env.render()\r\n",
    "\r\n",
    "      rgb_observation = env.render(mode = 'rgb_array') \r\n",
    "      frames.append(rgb_observation)\r\n",
    "\r\n",
    "      if done:\r\n",
    "        obs = env.reset()\r\n",
    "\r\n",
    "  env.close()\r\n",
    "\r\n",
    "  save_frames_as_gif(frames, 'images/', f'{scenario}-{algo_name}.gif')\r\n",
    "\r\n",
    "evaluate(PPO)\r\n",
    "evaluate(A2C)\r\n",
    "evaluate(DQN)"
   ],
   "outputs": [
    {
     "output_type": "stream",
     "name": "stderr",
     "text": [
      "MovieWriter imagemagick unavailable; using Pillow instead.\n",
      "MovieWriter imagemagick unavailable; using Pillow instead.\n",
      "MovieWriter imagemagick unavailable; using Pillow instead.\n"
     ]
    },
    {
     "output_type": "display_data",
     "data": {
      "text/plain": [
       "<Figure size 160x210 with 1 Axes>"
      ],
      "image/svg+xml": "<?xml version=\"1.0\" encoding=\"utf-8\" standalone=\"no\"?>\r\n<!DOCTYPE svg PUBLIC \"-//W3C//DTD SVG 1.1//EN\"\r\n  \"http://www.w3.org/Graphics/SVG/1.1/DTD/svg11.dtd\">\r\n<svg height=\"172.95pt\" version=\"1.1\" viewBox=\"0 0 135.2 172.95\" width=\"135.2pt\" xmlns=\"http://www.w3.org/2000/svg\" xmlns:xlink=\"http://www.w3.org/1999/xlink\">\r\n <metadata>\r\n  <rdf:RDF xmlns:cc=\"http://creativecommons.org/ns#\" xmlns:dc=\"http://purl.org/dc/elements/1.1/\" xmlns:rdf=\"http://www.w3.org/1999/02/22-rdf-syntax-ns#\">\r\n   <cc:Work>\r\n    <dc:type rdf:resource=\"http://purl.org/dc/dcmitype/StillImage\"/>\r\n    <dc:date>2021-08-31T20:55:01.539229</dc:date>\r\n    <dc:format>image/svg+xml</dc:format>\r\n    <dc:creator>\r\n     <cc:Agent>\r\n      <dc:title>Matplotlib v3.4.3, https://matplotlib.org/</dc:title>\r\n     </cc:Agent>\r\n    </dc:creator>\r\n   </cc:Work>\r\n  </rdf:RDF>\r\n </metadata>\r\n <defs>\r\n  <style type=\"text/css\">*{stroke-linecap:butt;stroke-linejoin:round;}</style>\r\n </defs>\r\n <g id=\"figure_1\">\r\n  <g id=\"patch_1\">\r\n   <path d=\"M 0 172.95 \r\nL 135.2 172.95 \r\nL 135.2 0 \r\nL 0 0 \r\nz\r\n\" style=\"fill:none;\"/>\r\n  </g>\r\n  <g id=\"axes_1\">\r\n   <g clip-path=\"url(#p9b94fd2d2a)\">\r\n    <image height=\"159\" id=\"image22019750fa\" transform=\"scale(1 -1)translate(0 -159)\" width=\"121\" x=\"7.2\" xlink:href=\"data:image/png;base64,\r\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\" y=\"-6.75\"/>\r\n   </g>\r\n  </g>\r\n </g>\r\n <defs>\r\n  <clipPath id=\"p9b94fd2d2a\">\r\n   <rect height=\"158.55\" width=\"120.8\" x=\"7.2\" y=\"7.2\"/>\r\n  </clipPath>\r\n </defs>\r\n</svg>\r\n",
      "image/png": "[encoded data removed]"
     },
     "metadata": {
      "needs_background": "light"
     }
    },
    {
     "output_type": "display_data",
     "data": {
      "text/plain": [
       "<Figure size 160x210 with 1 Axes>"
      ],
      "image/svg+xml": "<?xml version=\"1.0\" encoding=\"utf-8\" standalone=\"no\"?>\r\n<!DOCTYPE svg PUBLIC \"-//W3C//DTD SVG 1.1//EN\"\r\n  \"http://www.w3.org/Graphics/SVG/1.1/DTD/svg11.dtd\">\r\n<svg height=\"172.95pt\" version=\"1.1\" viewBox=\"0 0 135.2 172.95\" width=\"135.2pt\" xmlns=\"http://www.w3.org/2000/svg\" xmlns:xlink=\"http://www.w3.org/1999/xlink\">\r\n <metadata>\r\n  <rdf:RDF xmlns:cc=\"http://creativecommons.org/ns#\" xmlns:dc=\"http://purl.org/dc/elements/1.1/\" xmlns:rdf=\"http://www.w3.org/1999/02/22-rdf-syntax-ns#\">\r\n   <cc:Work>\r\n    <dc:type rdf:resource=\"http://purl.org/dc/dcmitype/StillImage\"/>\r\n    <dc:date>2021-08-31T20:55:01.580230</dc:date>\r\n    <dc:format>image/svg+xml</dc:format>\r\n    <dc:creator>\r\n     <cc:Agent>\r\n      <dc:title>Matplotlib v3.4.3, https://matplotlib.org/</dc:title>\r\n     </cc:Agent>\r\n    </dc:creator>\r\n   </cc:Work>\r\n  </rdf:RDF>\r\n </metadata>\r\n <defs>\r\n  <style type=\"text/css\">*{stroke-linecap:butt;stroke-linejoin:round;}</style>\r\n </defs>\r\n <g id=\"figure_1\">\r\n  <g id=\"patch_1\">\r\n   <path d=\"M 0 172.95 \r\nL 135.2 172.95 \r\nL 135.2 0 \r\nL 0 0 \r\nz\r\n\" style=\"fill:none;\"/>\r\n  </g>\r\n  <g id=\"axes_1\">\r\n   <g clip-path=\"url(#pafeeffe289)\">\r\n    <image height=\"159\" id=\"imageb6dd131cfd\" transform=\"scale(1 -1)translate(0 -159)\" width=\"121\" x=\"7.2\" xlink:href=\"data:image/png;base64,\r\niVBORw0KGgoAAAANSUhEUgAAAHkAAACfCAYAAADd53bWAAAfkElEQVR4nO19aXBbVZ7v725arnbJlmzLdhyv2W1ix9ljkoDDkhAnhAEapmt6hqGY8KFf9VT4+OrB66o3n+bD+wJVUNVTPTU9PbymCTAw0IE8SJMEErLjJJ04Md4TW7YkW7KWq3vP+3CsaznRlQxYsh/Sr+pW5JO/zrm6v3u2/3aYrmfdBEX8pMEu9g0UkXsUSS4AFEkuABRJLgAUSS4A5JxkAkDS85C54vsEAKLAQxT4vLaZe5JZBiN1HoQcplw39f8FWitL0V7tzmubxe5VAODDU/L9pQwgmlgwDJP/OypiwcGATpv3YV2rGXanAGeJ8KMaIAwwUW6HOBmBMRT7UXX9FNBQYgPLMPjLWCBvbWqSDABmCwe788cvEoxlRni2l80pIwpB/9E+ELmoVc01MjIYmpIRSjecf0+YGQGiUQ9Oz6ll8ck4BvtiRZLzgLwsvKLjUYR6Q3PKxr8ZB1GKBOcDeSGZYRgErgYQ89M5OfVzEblHXkiWJiX4v/VDjtKhP+qLwn/Jn2E1UMRCIm/7ZNtKG3R2Hf3cZIPOqctX0wWPvJHsv+RHbJwO0f4rfsR8xeE6X8irxuu7P3yHyZ5JjJ0Zy2ezBY+M++Qifhoo6q4LAEWSCwBFkgsARZILAHkn2ev1or29Pd/NFjTyTrLBYIDNZst3swWNRR2uXUYez650wSPO2qw7qqx4rNa+IPXzDPDMChdWuYxq2ZoSI55e4QK7QP4Qe+vs2F5pUf8uNwl4dqULjhSL22JjUUkuNfJ4flUpKswCOAbgGGBXtRV7ax0LUj/PMvjZyhKsLRXV+lvcJvxsZQn4BfJ62V/vREeVVa2/yqrH86tK4TDm11kvE5bEnfz3LZUgMyoZgWMwMBlf0Pp/trIETze5AADcQnXhFLSXm/F/nmgEgAUbIRYSS2J1reNY6Hl6sTnwK+NZRq2fX2AWjvcHwQJq/cISdD3O+x0NDw/j/Pnz+W42Z/jPW4HFvoWsyPtwHYlEEIlE8t1sQWNRx5aJqIxr49Nzyggh+PPQ5ILUnyDAVyOh+8pPDU1BJrmzy3zrm0Yw9uN94xYKi0ry6LSEMyNhEEJAZh46AfDeTf+C1J9QCD66fX9d/3nbj1z6D341HMJ4JJG7Br4nlsQq4X99PYxY0WszZ1j0LdStQBRjEWmxb+MnjUUn+dzdcF72lsnpoBBDf5bEcK0Q4H+eHsxpG//j5CB+fXoop20sVSwJkhkAjQ6qX740Oo3EAq58JyIJfBeMIiQpqHcYcDsQRSC6cCtfSVFweWx2h+CLSOifXFpOikuDZAZ4egVVOx69OYH4Ai7C+qfiODMSAs8Ch5pcOD0cwlBo4dSm0QTBB7dmV/C9wRjO3Q0vWP0LgSXjyFdi5MEACMZkxBc4fMYksIjLBDY9h2lJwXRCWdD6dRwDm45aneIyQTC+dPbIwBIiuYjcYUkM10XkFkWSCwBFkgsARZILAEWSCwBFkgsARZILAEWSCwBFkgsARZILAEWSCwBFkgsARZILAEWSCwBFkgsARZILAEWSCwA5IdnhoK4wZjMLfh5Ov3Y7lRdFFjpddpdZq5UDywJ6PQODIbu8ycSC5xkIAgOTKftPNhpZ6PUMOA6wWLLL6/UMjEYWDAPYbEsn+DyJnJD89NPUKW/ZMj02bDBnlT9wwAlBYFBeLmDTJjO4LM+ps9MGi4WDy8Vj0yYL9PrMRG/dakFZmQCLhcOmTeasxDU3i6irM0CvZ7FpkxkuV+Y3ta7OgOZmERzHYONGM8rLf1y2/4VGTkhOetR2d0ewdq2I+fizMwxw61YMNTV68Pz8HOCHhyU4HBxMpvn1nomJBAgBXK75kTA9rSAQkOH1Zk/2yjBAIkHw3Xcx1NUZ5lV/PkEW+nI4OPLUU04CgFgsLNm/30EMBkZT3mhkyc9/XkIAEIOBIYcOOYkospryej1DfvGLUgKA6HRU3mzWlhcEhvz85yWEZennri4HcTg4TXmeZ8jTTzuJ0cgSngd55BEbKSsTNOU5DuTxx+2kpIQnHAeyY4eF1NbqF/y5/tArJz05GlWg19Oqp6YUXL0aQXu79rAdiykwGNiZ7xKcODGJ3butGeSJOhfH4wQffRTAE09o5xmRJAKdjgHD0M/vv+/Hk086NeUTCQKeZ2Z6J/Dxx0F0dWnXL8sAy9JLloETJ6bw0EO2eY1g+UBOYqF277bB6xXwV39FH6TFwsFoZHHlyjT8/vt9knfssKKkhFflDQYWLhcPr1fA0ND9wXDt7SY4nbPyPM+gslKH+no9enruj15Yu9YIt1vAoUNOEEKHVrdbwNq1Rly5cn9AfH29Hl6vDl1dDiQSdO5xuXi0t5tw5sz9jvNer4D6egMcDh7RKPXpLinh0dFhweefT833seUMOenJFRU6jI4mIEkEK1cace5cGE4nr/bue1FWJiAUkjExkUBzs4izZ8OwWjmIYvq5trRUgCwDfX1xtLSYcP58GCYTC6s1vbzDwYPnGVy9GkFLiwlXr0bA8wwcjvTvuNXKwWRicf58GC0tJvT1xSHLtN10MJk4WK0czp4NoblZxMREAqGQjLKypZG4PSc9+Te/GUN7uwl2O63+7l0Jb789jjt30oeo/sd/jOPBB62QJNprxsclvP++HzdvRtPKf/hhANGogkiE9ppgUMbHHwdx/vx0WvkTJ6bAskAoROXDYQUnTkzixIn0vez8+WkYDCyCQTrqRCIKzp4N4bPP0mdAuHEjivff92N8nAaeR6MEV65E8PnnC5MxYSGQswm/slJHWlrEect7PAJpbTURlp3/Aq+11UT0eu1FXeplNrOktdWUcZGWeun1DGltNWVcpKVeHAfS2moiHo/2Im0xrmKYTAGgqNYsABRJLgAUSS4AFEkuAORkCyUIDB56yAqGYXD69BQ2bTKDYRicPDmlbktSwTDAww/bwPMMzp4NoaXFBEFgcO5cGHfvpt927dxpVRUstbV6mEwcurun0deXPovAli1m2O08bt6MwuXi4XTy6OmJ4saN9Nu09etFlJXp0N8fA88zqKjQYXAwjsuX02/TVq0yoqZGj9FRCaGQjNpaA3w+Ka3yJN/ISU/mecDr1eHChTDicYKqKj0uXAhjejp9hD/DAA0NBly4EMbUlIzGRvo5ENBOeLZqlREXLoTh8yWwerWICxfCGBvTll+9WsSlS9MYGYlj9WojLl+mn7WwcqUR169HMDAQR1OTATduRNDfr50LpK5Oj76+GG7fjmL5cj0GB+NptW+LgZyleIpGCUZGJOh0DGIxBSMjmXN1SRJRZRIJklVeUWZlUj9rgRCCO3eo5ooQ4M6dOBJZkubduSOpL+bduxKmpjKnoRgbkzAxIad8XhpZ+XKax6upyYDaWv28FfXLlunQ1GSct6mxrEzAunUiRHF+A5LdzqO11aSpzrwXoshi2zbLvNWTPM/g4YdtqKnR4+LF9MP6YiAnypDnnnOhttaARILAaGQRjSrw+xP4wx8m0g6pTzxhxwMPmBCJKDCbOUgSgc8n4eOPg+jtvX/I27XLiu3bLQiFZNjtPBIJgtFRCX/+8xS+/fZ+g8PGjSbs2WPH5KQMl4uHohDcvSvh3Lkwvv76/jlzzRojurqcmJqSUVrKQ5aB0VEJ165FcPz4/arK5cv1eOYZF6anFVV+fFxCb28MH3wQ+GEPcQGRkznZ7RZgNLKwWDi88cZdvPPOBKqq9JquPaWlAvR6FnY7j9/9zoe33hpFVZUeRmP620saO1wuAR984Mc///MIKit1MJvTGyhsNh4GAwu3W8AXX0zi178ehsejg82WvkebzRxEkYXHI+D8+TBee20QVisHpzO9fPK3ejwCenqieO21QSiKtkEj38gJyd98E1bTHLa1mbFunYienigmJ9PPaRcvTkOeyd21dq2ItjYTBgZiGBtLP89evRpRTXqNjUZs2WLB2FgCg4PpF1K3bkURDNIRpKZGjx076Chw61b6lfXgYByjo7Tt8nIdOjqsUBSCq1fT5+keG5MwMEBHHKeTR0eHFaLI4uLFxV9ZAzkarlkW2LbNgocftgEAhobi+Pd/H0+7fUpi/XoRBw5Q+7Dfn8C//Isv48KlqcmA558vAUCdFN58cxSjo9ryVVU6vPBCKViWgaIQvPXWGAYGtFfXbjePv/97t+rM8K//6tPcbgGU3F/8okS1vL377oSmVSzfyJmBgmEAjqPDMyEE8jzylyW9MQghWVe+AN2PJ+ufj/xs/VCdATLLA8CsR8l85JMJWucjny8UrVAFgKJaswBQJLkAUCS5AFAkuQCQE5IPHnTM8ZwUBAY7d1pRWppemfD44/Y5oSgcB2zcaEZNjT6t/M6d1jlRDQxDQ1tWrzamlW9vN6GhYW5UQ0ODAe3tprTyq1cbsW7d3MiPykoddu5M7wu+fLkeGzfODe9xuXg8/rg9rfxiYMEdx4xGhjz/fIn6d0ODgezYYdGUZ1mQF190q3+73TzZt8+esY1/+IdZeVFkyc9+5soo/8ILpYTjZtt74YXSjPLPPeeaE8Xx0kvujPL79tmJ282rf7/4opswzOI78c1cC18px4Fs2WImjY0GwvM0hKS0lM/4ndZWk+rZuXevnVRUZPZ4XLPGSDZvNhOAhrFUV+syyjc0GMiuXVYCgOzaZSUNDYaM8suW6cgjj9gIALJ5s5msWWPMKF9RIZC9e+mL2dIiktZW02ITq145Ga5lmQaXVVXp4HTyKCnhM9p6AWB4OI6aGj0cDg6VlToMD2c2Hfb1xVBfb4DdzqG21oD+/sxHDvT2RlX5+noDenu1tVe0/jhqa2fl+/oy24aHhyVUVurgcHBYvlyP4eGFPTn2xyAnpkaOA2prDdi2zYLdu224cycOj0fQ9PIAgMZGA9rbzWhvNyMYTKCyUqepiwaApiYjVqwwYOXKCsRiCpYv16e1WCXR0GBEdbUOr7xSAUUhaGgw4to17TMja2v1KC3l8corFSCEoKnJiG++0dZFV1bqYLdzOHKkAgB9ybPZuPOFnPTkPXvs2LrVjIsXw/D5JNy8GcOhQ041OP1edHRY8NBDNvzlLxGMjMRx7lwYhw45UVGR3oqzYYMJe/faMTAQx+3bUZw8OYVDh5yoq0u/UFuzxoiDBx0YH0+gu3saX345hf37HVizJv1Cra5Oj0OHnJAkgnPnwjhzJozdu63YsCH9Qq2igsZZGQwsvvxyCpcuhdHWZsaOHZa08vlGTkg+cyaESERBU5MRdjuPdeuM6O6OYHIyvQL7/Hnq9rNsmR4lJdSw39MT1TQ4dHdHMDGRQFmZAK9Xh7Y2M/r6YpoGh56eKEZGJNjtPOrqDFi/3oTRUQk9PemH7IGBOPr6YjAYWKxcacCaNUaEwwq6u7WsUAn09ETBsgxaWkQ0NtKX58KFn7AVCqBv9/bt9E2+c0fCF19kju6z2zns2WMDMBvblAkGA4P9+2k4aSxGcPSoP6M8ywJPPukEywKKArzzzgSULIfKdHU51CwG773nRzSa+VE98ohNTSfxySdBBAJL41SZooGiAFDUeBUAiiQXAIokFwCKJBcAckLysmW6OXtcUWTR0GDQzLfl9epQXT1rcNDpGDQ0GDQTq3k8ApYvn90Tcxw1OGglSnO5eNTXz91D19frNfNz2WwcGhoMcwwOy5fr4fFopZOgvy/VG7W6Wgev9yfsrVlaKqCpyYhly3TgOBqHVFYmqD5Z98LppKrApiZqKaIO7YLqRHcv7HYO1dU6NDeLAIAtWywoLxc0XwqLhUNFhU61OrW3m1BRoYPFkv6lMJlYlJcL2LKFbgGbm0VUVenUzIH3wmBgUVYmYOtWKt/UZMDy5XpNF97FQE6U4gYDQ/bssZEXX3STkpLMxgmA5tfq6LCQw4c9xOvNno6BZUHa203k5Zc9pK5ufjmz1q41kpdf9pC1azMbG5JXXZ2evPyyh7S3zy/FhdcrkMOHPaSjw0IEYX4pLvJx5WxOjkZpLqzyckFNmJIJkkQ9Or1eAT5fdnlFoW14vbq0aaPSYXKSZtfLFtOUhN9P5aNRklVxAgDj4wl4vTQz0VLy1sxRVCOjDqUAnRNrarTjiRgGaGub1QubzZw6dGshVY+s0zFYt07MIA20tprAsozaXmtrej10EuvWiXPmWC29dRJNTYY56R9Tf89iIyckP/GEHYLAYPVqI1gW6OiwoqHBqOkZ8thjdkgSwcaNZsgy8OijdrjdQkbPkFiMYNcuKxIJgn377DAYmIyeIbJM8PjjdiQS9F9ZJhk9QwwGBvv2Ufldu2h7Wp4hNTV6uN0CHn3UDlmmsVeSRPDYY/bsDysPyFkslM8n4ZNPgvinfxpGJKKAZaEZC+V2Cxgbk3D69BRee20IoZAMSSKa0YouF4+xMQnd3RG8+uogfL4EwmFFcyFlt/MIBBLo74/h1VcH0dcXQyCQUKMd7oXFwiEUUuDzJfDqq4Po7o7A55M0V+OiyEKSCEIhGa+9NoSvvgphbEyC2700Fl45m5O/+y6OS5emEYnQ3JfZMDaWwKlTISQS2Y0NAM1ge+xYELIMvPtudvlEAnj//QBkGfjgg8C8Ii7efdcPWQaOHQsiHM4+KR896kciQXDyZCirk0S+seCruXSrY6eT10yqVl4u3OcPZbNxxGRKn1TN7eYJz88tM5lYYrWmT6qWrm29niFOZ/pVv9V6f9s8jzk+XPe2bbPNbZth6O/KxfP9vlfRClUAKKo1CwBFkgsARZILAEWSCwA5Ibmz0wavV4emJgN4HnjwQStaWkRNhX0yhOaBB0T1+42NBlRWpteSbd5MT3jZutWsyldV6dDYmF5L1twswu3m1SMPdu2ywu3m52jlUtHYaEBVlQ6dnTYAwNattL3Nm9MfsVBZSdtOyj/wgIjSUl5TeZJv5ITk2lo9rFZ6xADLMli2TAePR4DRmF4ZUlOjhyhSSw4A1YKjlYne69XBaGTVl4C2p524xeMRYDJxqgatpoZm8NMyHTqdPCwWDrW1VL6yUgdRZDVPlUm2nTR/lpUJEEUWy5Ytjcz1ORuuAwEZej2L5mZR0/U1FdPTCiSJoK3NpJmxPhWSRBAIyGhrM2V0qk9CUQiGhuJoazNheDgORcm+c+ztjaGtzYRAQEY8nl3+5s0o2tqoSlMr++BiIGckj4xIEEUWjz1mx6lToazygYCMaJTgwAEHTp7MfjhHNEqz/B044MDZs9n9m2UZuHYtggMHHLh+PTqvHCZnz4Zx4IADIyOSmm0oE06dmsKBAw5Eo2TJuOMCOSKZYagVJxZT8Nvf+vDMM66sp7DV1enhdHJ4441RPPusSzOHVxIej4BVq4x4/fVRdHU5smbls9k4PPigFa+/PoqODkvW4/ZEkUVXlwOvvz6KVauMmkN7EkYji2eeceGNN0bhdPKoq5t/JsJcIyck9/fH8eijNqxZI+Jv/7YUosiiulqvOYT19kZx8KATVVV6vPSSGwDQ0iJqJlDt74/hqaecsFo5HD7sgaJQC5HPlz72aGQkjv37HeA4BocPe8Bx1DFfK4Gqzydh1y6au+vwYQ+sVg5PPeXUTKAaDCbQ0kIXcS+95EZVlQ4HDzpx+/bSSKCaE5KPHw9CUaAe56cowOXL6c+EAuhpL4kEUedJRaGhLVqRjWfO0Iy7SXlZRsastFeuRDA+nlATwikKwfh4Iu2ZUADQ0xPD0FBcHdIVhc6xWmmNh4ZoyE3SsUBRCBIJonlaTb6RoxPeCI4dC8JkYhGJKEgkCM6c0Z6XFQX44x8n4HDwCIcViCKLTz/NfNzO738/DrebnidVUsLjvfcyW6LefntcPX/K4xHw9tvjGeWPHvWjpIRHKCTD7Rbw+99nlv/000mIIotwWIHDweOPf5xQX/LFRtFAUQAoarwKAEWSCwBFkgsARZILADk7TSZ5MriizDrwSRJJu+LkeYBlGcgy9b1Ofl9LnuNoBl66Vbm/PW352bOR6VnH6bP3six1KyaE3sO993cvGIbeQ1L+3vtbbOSkJ+/f78A//mM5Vqyg50n83d+V4uWXPZoGhN27bThypBwPPEBdZJ97zoVf/rIMVVVaVigLXnmlXA1j6epy4Fe/Ks9ohTpypFy1Ej38sBVHjpRntEL96lfl6sHYW7bQ9jZvTp8DpKpKh1/+sgzPPecCAKxfb8KRI+XYvduWVj7fyAnJH37oRyymoLJSh127rJiYkHHuXFgzkuLYsSCiUQKnk0dnpw3BoIzr1yOaaZu+/HIKoRA9Pb2z04bpaQX9/TFcv57esHH+/DR8PqoM6ey0QVEAny+hmXT8+vUoBgZimJ5W0Nlpg8HAYmpKwZdfpldu9PfHcf16BIGAjM5O28xh2QR/+lPmlBj5Qs4cg10uHtu3W8AwVNmRKb0TAFgs7Bz5b74JqwnI00GnY9TsOooC3LgRySjPssD27RYQAvXIoGT+EC1s2WJW/39qSs4qv2GDCbIMdergeWZJhMvkLFnb6GgCZ89S/+PPPguitVVESUn6d4oQarW6ejWCwcE4/uu/Ali50jAnnPVejIzQ01pu3ozio48CqK7WY8WK9BEUAE1Oc/euhEuXpnHsWBAOB69OD+kwOppAICDj9OmQesj2tm3aKZvGx6mD//HjQXzzTRiTkzIeemhpOA3kROPV2mpCX19sJheXDidOTOLmzajmEXstLSJ6e2M4eNCJ+no9TpyYQm9vTPPMh1WrjBgcjGPvXjvWrBFx6tQU+vpimrro2lo9JiYS2LnTig0bzDh3Loz+/pimidLr1SEeV7B+vQkdHVZ8++00+vpiOHkyvWq2tJSeblNTo8ejj9rQ0xNDb28Un3/+E9Zdt7aaYDaz6O6O4Le/HQPHMRnTIjY3izCZWAwMxPDWW2PQ65mMjgMrVxpgsdDj6N98cxSCwKQ9DyqJ2lo9HA4ehABvvjkKWSYZD+eqrBTgdlPvjjffHEUwKGeULykRZlJMcjMHmMQy3s9iYME99kWRJXv22NSY3mXLdGTHDu2YXUFgyBNPOFT50lKedHbaiMGQXp7jQLq6HGrWW7OZJfv22TUjLliWZrFNti8IDDl40KEZccGyIJ2dNmI2s2p7Tz7p1Dz2nmFAtm2zqHHYLAuyf78ja9LYPF75aaix0aD5UNNd1dU6zbCUdJfHI2TNlJt62Wxc1ky5qZfBwMw7eD35YrS1LY1MuUUrVAGgqNYsABRJLgAUSS4AFEkuABRJLgAUSS4A/CgDhWAVwLCZPcilSQlkxnWWN/Ng+czvlRSSQOZxIupiQC+wMJsyPzJJUjAZptY2gWdgNWd2ypdlgsBUbs+qmHPHjmZHVtL8V/wqCZ6tHnDGzJEIw58NQwrSH1GyoQR6R/q0TUmMnhxF5C5VCZqXm6GzZw4aC/eHERv/YU7slR4jaioy59u6Mx5FTz/VWVeXi3iw3ZNRfmBkGh+fHAEAlDoNeHxHRUb5iUAM73w6CAAw6jm0rnJklI8nFJy5MpFR5l4smKlx6OMhJKbpG1zRWQEhyxt854s7Kjme7R4YSjMnZ1tquDUQwvGv7wIAaipMeHhLWUb5O74IPvh8GABQ6tCja3dlzu8xiVmSGaCkrQQsz4IQgp7f9ECRqPG0/m/qwelpjw1eD0JOUB+Y8YvjYGYOwpZjs34x/st+MDwtTxIPAIHuAFgdHa6llCEqeD2IqV5qsYkHZw0Z1gYrLMupeW/402FM3aIyZTvLYGu00XYj8g/uyTUVJuzaSHvmV5fH8adTdwAAG9Y48ei2cgDA+Wt+tSeP+KIqsaHp2fsf88+WhyOzv9cfjKvlkZTnMxmW1PJYfLbcZOTU+wlMSfjf/3aDPgcTj//2101q/T+8JxNg7Osx9SRvRZ61jvvO+FQyk8QDQElrCTiRkj/44SASM3ORs8UJwUp78tAnQ+pw7VjngN5Jh+uR4yOI+Sg59lV2GDy0J989cReRO3S4Dv4liMgI/Rz1zVqlJm9Oqt9NDu0/BLeHwkjMEDsyNltP/8i0Svjdidl2K9xG7J4hoac/hGOnqYzbaUDnTE/uHwnjwxN0uHbadWr5yFgER48PAQBsZkEtHw/E8PYnAwCAUERW242mkB+NK2q5lPj+IbFzhmtOx9H1NgEYMCAzam1Wx6o9MxWyJIOJzR45n4QiKVBiMzeTsoaaU55yr0pitjy1HpZnweppz09dK7BCSjn3w0MHeY6BYWaE4lMWhKnlQkq5LBNEZ3pk6sNWlNnyeIonyNzyVHmkLWcZqO2mLj0ZzJazWdZMaX9nak3OFiclk9AhN7kqdjY71Yca6A6ow7X/sl9dLTMso/bqwLUAWI6WJ1KGr+D1IH2RQIlNyk/dmkK4nxrwk70eACx1FphraAqH+EQccT8dys01ZlgbqNdFIpRQe/X3RXWZiB2tpQCA05fGcWuADssVbqNafv6aHze+o9PE6HgUJ86NAaAkmUX6+EKRhFo+nfJ7A5OSWi4lFFVeVhS1PJVko4FT2/VPxvH1ZRp/pdexank4ksCpi77v9TvnWKFsK2y0JAMmb0yCzEQHVndVgxczr90GPxpEPEDJ8e7xQu/KvLoe+XwEkWE6dIqVIgRL5gVcZCSi1v99UVZigNc96zKUfBCpj2DMH0P/CHUYWLHcqg6zWvhuOIz3/y8dlqvKRBzIssDy+WP43Ud9AACDjsXqett995N6T1KC4PKNQMY678Uchuaz7wULYGa66D/a/70aG/pk6HvJ8yIPnS3zFuqHLroAumVx2jK/dNPR2bnxeu8krvdmjrZMxcCdaXXxNB+wHJP1fuLS989gULQnFwCKas0CQJHkAkCR5AJAkeQCQJHkAkCR5ALA/wOAAEKBCXIQMAAAAABJRU5ErkJggg==\" y=\"-6.75\"/>\r\n   </g>\r\n  </g>\r\n </g>\r\n <defs>\r\n  <clipPath id=\"pafeeffe289\">\r\n   <rect height=\"158.55\" width=\"120.8\" x=\"7.2\" y=\"7.2\"/>\r\n  </clipPath>\r\n </defs>\r\n</svg>\r\n",
      "image/png": "[encoded data removed]"
     },
     "metadata": {
      "needs_background": "light"
     }
    },
    {
     "output_type": "display_data",
     "data": {
      "text/plain": [
       "<Figure size 160x210 with 1 Axes>"
      ],
      "image/svg+xml": "<?xml version=\"1.0\" encoding=\"utf-8\" standalone=\"no\"?>\r\n<!DOCTYPE svg PUBLIC \"-//W3C//DTD SVG 1.1//EN\"\r\n  \"http://www.w3.org/Graphics/SVG/1.1/DTD/svg11.dtd\">\r\n<svg height=\"172.95pt\" version=\"1.1\" viewBox=\"0 0 135.2 172.95\" width=\"135.2pt\" xmlns=\"http://www.w3.org/2000/svg\" xmlns:xlink=\"http://www.w3.org/1999/xlink\">\r\n <metadata>\r\n  <rdf:RDF xmlns:cc=\"http://creativecommons.org/ns#\" xmlns:dc=\"http://purl.org/dc/elements/1.1/\" xmlns:rdf=\"http://www.w3.org/1999/02/22-rdf-syntax-ns#\">\r\n   <cc:Work>\r\n    <dc:type rdf:resource=\"http://purl.org/dc/dcmitype/StillImage\"/>\r\n    <dc:date>2021-08-31T20:55:01.622230</dc:date>\r\n    <dc:format>image/svg+xml</dc:format>\r\n    <dc:creator>\r\n     <cc:Agent>\r\n      <dc:title>Matplotlib v3.4.3, https://matplotlib.org/</dc:title>\r\n     </cc:Agent>\r\n    </dc:creator>\r\n   </cc:Work>\r\n  </rdf:RDF>\r\n </metadata>\r\n <defs>\r\n  <style type=\"text/css\">*{stroke-linecap:butt;stroke-linejoin:round;}</style>\r\n </defs>\r\n <g id=\"figure_1\">\r\n  <g id=\"patch_1\">\r\n   <path d=\"M 0 172.95 \r\nL 135.2 172.95 \r\nL 135.2 0 \r\nL 0 0 \r\nz\r\n\" style=\"fill:none;\"/>\r\n  </g>\r\n  <g id=\"axes_1\">\r\n   <g clip-path=\"url(#pbc1e2a42a1)\">\r\n    <image height=\"159\" id=\"image4b043ec5d0\" transform=\"scale(1 -1)translate(0 -159)\" width=\"121\" x=\"7.2\" xlink:href=\"data:image/png;base64,\r\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\" y=\"-6.75\"/>\r\n   </g>\r\n  </g>\r\n </g>\r\n <defs>\r\n  <clipPath id=\"pbc1e2a42a1\">\r\n   <rect height=\"158.55\" width=\"120.8\" x=\"7.2\" y=\"7.2\"/>\r\n  </clipPath>\r\n </defs>\r\n</svg>\r\n",
      "image/png": "[encoded data removed]"
     },
     "metadata": {
      "needs_background": "light"
     }
    }
   ],
   "metadata": {}
  },
  {
   "cell_type": "markdown",
   "source": [
    "![Avaliação por 10 episódios do treino com PPO](images/SpaceInvaders-v4-PPO.gif)\r\n",
    "![Avaliação por 10 episódios do treino com A2C](images/SpaceInvaders-v4-A2C.gif)\r\n",
    "![Avaliação por 10 episódios do treino com DQN](images/SpaceInvaders-v4-DQN.gif)"
   ],
   "metadata": {}
  },
  {
   "cell_type": "code",
   "execution_count": 28,
   "source": [
    "# Baixando o código do Stable Baselines3\r\n",
    "if not os.path.isdir('rl-baselines3-zoo'):\r\n",
    "    !git clone https://github.com/DLR-RM/rl-baselines3-zoo.git\r\n",
    "\r\n",
    "#Necessário para o baselines stables se rodar local (Mas optei por usar containers)\r\n",
    "#!pip install -r ./requirements.txt\r\n",
    "\r\n",
    "# Seta diretório raiz no baselines3 para os treinos\r\n",
    "%cd rl-baselines3-zoo"
   ],
   "outputs": [
    {
     "output_type": "stream",
     "name": "stdout",
     "text": [
      "e:\\temp\\rl_exe1\\rl-baselines3-zoo\n"
     ]
    }
   ],
   "metadata": {}
  },
  {
   "cell_type": "code",
   "execution_count": 32,
   "source": [
    "def run_script(algo, eval_freq=10000, eval_episodes=10, eval_envs=1):\r\n",
    "    # Não funcionou chamando o script do repo... pq no windows não respeita comandos bash por algum motivo. Fallback pro que o script faz com o docker.\r\n",
    "    #!./scripts/run_docker_cpu.sh python train.py --algo a2c --env SpaceInvaders-v4\r\n",
    "    !docker run -t --rm --network host --ipc=host --mount src=\"%cd%\",target=/root/code/rl_zoo,type=bind stablebaselines/rl-baselines3-zoo-cpu:latest bash -c \"cd /root/code/rl_zoo/ && python train.py --algo {algo} --env SpaceInvaders-v4 --tensorboard-log=tensorboard-logs --eval-freq {eval_freq} --eval-episodes {eval_episodes} --n-eval-envs {eval_envs}\"\r\n",
    "\r\n",
    "run_script(\"a2c\", eval_freq=500)"
   ],
   "outputs": [
    {
     "output_type": "stream",
     "name": "stdout",
     "text": [
      "^C\n"
     ]
    }
   ],
   "metadata": {}
  },
  {
   "cell_type": "code",
   "execution_count": 33,
   "source": [
    "# Treinando PPO\r\n",
    "#!docker run -t --rm --network host --ipc=host --mount src=\"%cd%\",target=/root/code/rl_zoo,type=bind stablebaselines/rl-baselines3-zoo-cpu:latest bash -c \"cd /root/code/rl_zoo/ && python train.py --algo ppo --env SpaceInvaders-v4\"\r\n",
    "run_script(\"ppo\")"
   ],
   "outputs": [],
   "metadata": {}
  },
  {
   "cell_type": "code",
   "execution_count": null,
   "source": [
    "# Treinando DQN\r\n",
    "#!docker run -t --rm --network host --ipc=host --mount src=\"%cd%\",target=/root/code/rl_zoo,type=bind stablebaselines/rl-baselines3-zoo-cpu:latest bash -c \"cd /root/code/rl_zoo/ && python train.py --algo dqn --env SpaceInvaders-v4\"\r\n",
    "run_script(\"dqn\")\r\n"
   ],
   "outputs": [],
   "metadata": {}
  }
 ],
 "metadata": {
  "kernelspec": {
   "name": "python3",
   "display_name": "Python 3.7.9 64-bit ('venv': venv)"
  },
  "language_info": {
   "codemirror_mode": {
    "name": "ipython",
    "version": 3
   },
   "file_extension": ".py",
   "mimetype": "text/x-python",
   "name": "python",
   "nbconvert_exporter": "python",
   "pygments_lexer": "ipython3",
   "version": "3.7.9"
  },
  "interpreter": {
   "hash": "4337733d7c4f8242ca10155413965bee5981b415db72db4cb080555abb5e32aa"
  }
 },
 "nbformat": 4,
 "nbformat_minor": 4
}