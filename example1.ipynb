{
 "cells": [
  {
   "cell_type": "markdown",
   "source": [
    "# Aula I - Aprendizado por reforço"
   ],
   "metadata": {
    "colab_type": "text",
    "id": "KlcibMKA_a-j"
   }
  },
  {
   "cell_type": "markdown",
   "source": [
    "Neste notebook iremos implementar o algoritmo de aprendizado por reforço Q-Learning, utilizando ambiente fornecidos pelo [Open AI Gym](http://gym.openai.com/envs/)."
   ],
   "metadata": {
    "colab_type": "text",
    "id": "TqWhkCoq_jyp"
   }
  },
  {
   "cell_type": "markdown",
   "source": [
    "## Parte 1 - Q-learning\n"
   ],
   "metadata": {
    "colab_type": "text",
    "id": "6B7OJ_undTk2"
   }
  },
  {
   "cell_type": "markdown",
   "source": [
    "Neste exemplo, implementaremos o algoritmo de aprendizado por refoço chamado Q-learning. \n",
    "\n",
    "Primeiramente, precisamos importar algumas bibliotecas."
   ],
   "metadata": {
    "colab_type": "text",
    "id": "JZnsqsJlbhho"
   }
  },
  {
   "cell_type": "code",
   "execution_count": 8,
   "source": [
    "import gym\r\n",
    "import numpy as np\r\n",
    "import matplotlib.pyplot as plt"
   ],
   "outputs": [],
   "metadata": {
    "colab": {},
    "colab_type": "code",
    "id": "3R3KIyKj4VJh"
   }
  },
  {
   "cell_type": "markdown",
   "source": [
    "Em nosso exemplo, tentaremos resolver o problema chamado Cliff Walking, apresentado na figura abaixo. Neste problema, o agente parte de S e deve chegar em G de uma forma eficiente, mas evitando o penhasco. Para cada passo, o agente recebe uma recompensa de -1. Caso o agente caia no penhasco, a recompensa é -100. O episódio termina quando o agente chega em G ou cai no penhasco. Naturalmente, o objetivo é chegar em G o mais rapidamente possível para maximizar sua recompensa.\n",
    "\n",
    "![alt text](https://i.imgur.com/2IobMYw.png)\n",
    "\n",
    "Para utilizar este ambiente com o Gym, basta executar o comando abaixo."
   ],
   "metadata": {
    "colab_type": "text",
    "id": "klRYiurRblyu"
   }
  },
  {
   "cell_type": "code",
   "execution_count": 9,
   "source": [
    "cliff_env = gym.make('CliffWalking-v0')"
   ],
   "outputs": [],
   "metadata": {
    "colab": {},
    "colab_type": "code",
    "id": "W8P45uBUDAVP"
   }
  },
  {
   "cell_type": "markdown",
   "source": [
    "O ambiente pode ser reiniciado com a função `reset`. Podemos imprimir o estado atual do ambiente com a função `render`."
   ],
   "metadata": {
    "colab_type": "text",
    "id": "EzlqJPiSkRZc"
   }
  },
  {
   "cell_type": "code",
   "execution_count": 10,
   "source": [
    "cliff_env.reset()\r\n",
    "cliff_env.render()"
   ],
   "outputs": [
    {
     "output_type": "stream",
     "name": "stdout",
     "text": [
      "o  o  o  o  o  o  o  o  o  o  o  o\n",
      "o  o  o  o  o  o  o  o  o  o  o  o\n",
      "o  o  o  o  o  o  o  o  o  o  o  o\n",
      "x  C  C  C  C  C  C  C  C  C  C  T\n",
      "\n"
     ]
    }
   ],
   "metadata": {
    "colab": {
     "base_uri": "https://localhost:8080/",
     "height": 120
    },
    "colab_type": "code",
    "executionInfo": {
     "elapsed": 1055,
     "status": "ok",
     "timestamp": 1591823413531,
     "user": {
      "displayName": "Gabriel de Oliveira Ramos",
      "photoUrl": "https://lh3.googleusercontent.com/a-/AOh14GgfI5TKMh7QGYbsV3qoDBBYlmGLQ2Kv-boCuqzfDag=s64",
      "userId": "14579453415300811024"
     },
     "user_tz": 180
    },
    "id": "Cjwr4HuAEUYs",
    "outputId": "89909ff8-4a95-4410-cb0b-add82bc61644"
   }
  },
  {
   "cell_type": "markdown",
   "source": [
    "O código abaixo implementa o algoritmo Q-learning. O pseudocódigo do Q-learning é apresentado abaixo.\n",
    "\n",
    "![alt text](https://i.imgur.com/9yydGca.png)\n",
    "\n",
    "Em nossa implementação, o algoritmo recebe um ambiente, uma quantidade de episódios, além dos parâmetros usuais $\\alpha$ (taxa de aprendizado), $\\gamma$ (taxa de desconto) e $\\epsilon$ (taxa de exploração)."
   ],
   "metadata": {
    "colab_type": "text",
    "id": "EWTJ6qo4kaV3"
   }
  },
  {
   "cell_type": "code",
   "execution_count": 11,
   "source": [
    "def Qlearning(environment, num_episodes=100, alpha=0.3, gamma=0.9, epsilon=1.0, decay_epsilon=0.1, max_epsilon=1.0, min_epsilon=0.01):\r\n",
    "  \r\n",
    "  # initializing the Q-table\r\n",
    "  Q = np.zeros((environment.observation_space.n, environment.action_space.n))\r\n",
    "\r\n",
    "  # additional lists to keep track of reward and epsilon values\r\n",
    "  rewards = []\r\n",
    "  epsilons = []\r\n",
    "\r\n",
    "  # episodes\r\n",
    "  for episode in range(num_episodes):\r\n",
    "      \r\n",
    "      # reset the environment to start a new episode\r\n",
    "      state = environment.reset()\r\n",
    "\r\n",
    "      # reward accumulated along episode\r\n",
    "      accumulated_reward = 0\r\n",
    "      \r\n",
    "      # steps within current episode\r\n",
    "      for step in range(100):\r\n",
    "          \r\n",
    "          # epsilon-greedy action selection\r\n",
    "          # exploit with probability 1-epsilon\r\n",
    "          if np.random.uniform(0, 1) > epsilon:\r\n",
    "              action = np.argmax(Q[state,:])\r\n",
    "              \r\n",
    "          # explore with probability epsilon\r\n",
    "          else:\r\n",
    "              action = environment.action_space.sample()\r\n",
    "              \r\n",
    "          # perform the action and observe the new state and corresponding reward\r\n",
    "          new_state, reward, done, info = environment.step(action)\r\n",
    "          \r\n",
    "\r\n",
    "          # update the Q-table\r\n",
    "          Q[state, action] = Q[state, action] + alpha * (reward + gamma * np.max(Q[new_state, :]) - Q[state, action])\r\n",
    "          \r\n",
    "          # update the accumulated reward\r\n",
    "          accumulated_reward += reward\r\n",
    "\r\n",
    "          # update the current state\r\n",
    "          state = new_state\r\n",
    "          \r\n",
    "          # end the episode when it is done\r\n",
    "          if done == True:\r\n",
    "              break\r\n",
    "      \r\n",
    "      # decay exploration rate to ensure that the agent exploits more as it becomes experienced\r\n",
    "      epsilon = min_epsilon + (max_epsilon - min_epsilon)*np.exp(-decay_epsilon*episode)\r\n",
    "      \r\n",
    "      # update the lists of rewards and epsilons\r\n",
    "      rewards.append(accumulated_reward)\r\n",
    "      epsilons.append(epsilon)\r\n",
    "\r\n",
    "  # render the environment\r\n",
    "  environment.render()\r\n",
    "    \r\n",
    "  # return the list of accumulated reward along episodes\r\n",
    "  return rewards"
   ],
   "outputs": [],
   "metadata": {
    "colab": {},
    "colab_type": "code",
    "id": "3tl0fPgLe-SI"
   }
  },
  {
   "cell_type": "markdown",
   "source": [
    "Para utilizar o Q-learning, basta chamá-lo como segue. No exemplo abaixo, vamos executar o algoritmo por 100 episódios. Ao final, calculamos a recompensa média total (ao longo de todos episódios) e a final (ao longo dos últimos 10 episódios)."
   ],
   "metadata": {
    "colab_type": "text",
    "id": "uSu4puVhlWla"
   }
  },
  {
   "cell_type": "code",
   "execution_count": 12,
   "source": [
    "num_episodes=100\r\n",
    "alpha=0.3\r\n",
    "gamma=0.9\r\n",
    "epsilon=1.0\r\n",
    "decay_epsilon=0.1\r\n",
    "\r\n",
    "# run Q-learning\r\n",
    "rewards = Qlearning(cliff_env, num_episodes, alpha, gamma, epsilon, decay_epsilon)\r\n",
    "\r\n",
    "# print results\r\n",
    "print (\"Average reward (all episodes): \" + str(sum(rewards)/num_episodes))\r\n",
    "print (\"Average reward (last 10 episodes): \" + str(sum(rewards[-10:])/10))"
   ],
   "outputs": [
    {
     "output_type": "stream",
     "name": "stdout",
     "text": [
      "o  o  o  o  o  o  o  o  o  o  o  o\n",
      "o  o  o  o  o  o  o  o  o  o  o  o\n",
      "o  o  o  o  o  o  o  o  o  o  o  o\n",
      "o  C  C  C  C  C  C  C  C  C  C  x\n",
      "\n",
      "Average reward (all episodes): -125.44\n",
      "Average reward (last 10 episodes): -19.2\n"
     ]
    }
   ],
   "metadata": {
    "colab": {
     "base_uri": "https://localhost:8080/",
     "height": 153
    },
    "colab_type": "code",
    "executionInfo": {
     "elapsed": 951,
     "status": "ok",
     "timestamp": 1591823534093,
     "user": {
      "displayName": "Gabriel de Oliveira Ramos",
      "photoUrl": "https://lh3.googleusercontent.com/a-/AOh14GgfI5TKMh7QGYbsV3qoDBBYlmGLQ2Kv-boCuqzfDag=s64",
      "userId": "14579453415300811024"
     },
     "user_tz": 180
    },
    "id": "RRVJ9mxs9d7n",
    "outputId": "f1acd0d3-f8cf-4bac-cab6-5a8838e4ca4f"
   }
  },
  {
   "cell_type": "markdown",
   "source": [
    "Para avaliar o desempenho do algoritmo, podemos criar um gráfico da recompensa total por episódio."
   ],
   "metadata": {
    "colab_type": "text",
    "id": "IdEkMFeYlqiw"
   }
  },
  {
   "cell_type": "code",
   "execution_count": 13,
   "source": [
    "plt.plot(range(num_episodes), rewards)\r\n",
    "plt.xlabel('Episodes')\r\n",
    "plt.ylabel('Accumulated reward along episodes')\r\n",
    "plt.show()"
   ],
   "outputs": [
    {
     "output_type": "display_data",
     "data": {
      "text/plain": [
       "<Figure size 432x288 with 1 Axes>"
      ],
      "image/png": "[encoded data removed]"
     },
     "metadata": {
      "needs_background": "light"
     }
    }
   ],
   "metadata": {
    "colab": {
     "base_uri": "https://localhost:8080/",
     "height": 300
    },
    "colab_type": "code",
    "executionInfo": {
     "elapsed": 1092,
     "status": "ok",
     "timestamp": 1591823537857,
     "user": {
      "displayName": "Gabriel de Oliveira Ramos",
      "photoUrl": "https://lh3.googleusercontent.com/a-/AOh14GgfI5TKMh7QGYbsV3qoDBBYlmGLQ2Kv-boCuqzfDag=s64",
      "userId": "14579453415300811024"
     },
     "user_tz": 180
    },
    "id": "Lw_qVDcsvkQK",
    "outputId": "dd5d1920-dbb9-4a2e-944c-2c69db378e15"
   }
  },
  {
   "cell_type": "markdown",
   "source": [
    "Com base no gráfico acima, podemos observar que o algoritmo converge para uma recompensa próxima de zero. Considerando que a recompensa máxima neste ambiente é -13, podemos dizer que o algoritmo convergiu para uma política próxima da ótima."
   ],
   "metadata": {
    "colab_type": "text",
    "id": "oi6QnK8zE64F"
   }
  },
  {
   "cell_type": "markdown",
   "source": [
    "### Nota: \n",
    "\n",
    "Nesta implementação, utilizamos a biblioteca Gym para modelar o ambiente do problema Cliff Walking porque ela torna o código mais simples para compreender o funcionamento do algoritmo Q-Learning. Na atividade prática I, você precisará implementar a dinâmica do ambiente (que aqui é modelada pela biblioteca Gym). Para verificar um exemplo de implementação completa da dinâmica do ambiente do problema Cliff Walking, considere a implementação de Jeremy Zhang, disponibilizada no [Towards Data Science](https://towardsdatascience.com/reinforcement-learning-cliff-walking-implementation-e40ce98418d4)."
   ],
   "metadata": {}
  },
  {
   "cell_type": "markdown",
   "source": [
    "### Exercício 1\n",
    "\n",
    "Ajuste os parâmetros do algoritmo Q-learning para obter melhores resultados. Em seguida, rode o algoritmo com a melhor política aprendida, ou seja, escolhendo as ações de forma gulosa."
   ],
   "metadata": {
    "colab_type": "text",
    "id": "GARK4PZu_tve"
   }
  },
  {
   "cell_type": "code",
   "execution_count": 14,
   "source": [
    "num_episodes=100\r\n",
    "#alpha=0.3\r\n",
    "alpha=1.0\r\n",
    "gamma=0.9\r\n",
    "#gamma=1.0\r\n",
    "epsilon=1.0\r\n",
    "decay_epsilon=0.999\r\n",
    "#max_epsilon=1.0\r\n",
    "max_epsilon=0.1\r\n",
    "#min_epsilon=0.1\r\n",
    "min_epsilon=0.0\r\n",
    "\r\n",
    "# run Q-learning\r\n",
    "rewards = Qlearning(cliff_env, num_episodes, alpha, gamma, epsilon, decay_epsilon, \r\n",
    "                    max_epsilon, min_epsilon)\r\n",
    "\r\n",
    "# print results\r\n",
    "print (\"Average reward (all episodes): \" + str(sum(rewards)/num_episodes))\r\n",
    "print (\"Average reward (last 10 episodes): \" + str(sum(rewards[-10:])/10))\r\n",
    "print (\"Last reward: \" + str(rewards[-1]))"
   ],
   "outputs": [
    {
     "output_type": "stream",
     "name": "stdout",
     "text": [
      "o  o  o  o  o  o  o  o  o  o  o  o\n",
      "o  o  o  o  o  o  o  o  o  o  o  o\n",
      "o  o  o  o  o  o  o  o  o  o  o  o\n",
      "o  C  C  C  C  C  C  C  C  C  C  x\n",
      "\n",
      "Average reward (all episodes): -42.09\n",
      "Average reward (last 10 episodes): -13.0\n",
      "Last reward: -13\n"
     ]
    }
   ],
   "metadata": {
    "colab": {},
    "colab_type": "code",
    "id": "vCvkVPfHAGks"
   }
  }
 ],
 "metadata": {
  "colab": {
   "authorship_tag": "ABX9TyM4UYU2QzVCDpZ/Sk9+CXwq",
   "collapsed_sections": [],
   "name": "Aula 5 - Aprendizado por reforço.ipynb",
   "provenance": [],
   "toc_visible": true
  },
  "kernelspec": {
   "name": "python3",
   "display_name": "Python 3.7.3 64-bit ('venv': virtualenv)"
  },
  "language_info": {
   "codemirror_mode": {
    "name": "ipython",
    "version": 3
   },
   "file_extension": ".py",
   "mimetype": "text/x-python",
   "name": "python",
   "nbconvert_exporter": "python",
   "pygments_lexer": "ipython3",
   "version": "3.7.3"
  },
  "interpreter": {
   "hash": "4337733d7c4f8242ca10155413965bee5981b415db72db4cb080555abb5e32aa"
  }
 },
 "nbformat": 4,
 "nbformat_minor": 1
}